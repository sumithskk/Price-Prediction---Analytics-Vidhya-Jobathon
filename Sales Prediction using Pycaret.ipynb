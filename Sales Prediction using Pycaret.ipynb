{
 "cells": [
  {
   "cell_type": "code",
   "execution_count": 22,
   "id": "01599817",
   "metadata": {},
   "outputs": [],
   "source": [
    "import pandas as pd\n",
    "import numpy as np\n",
    "import seaborn as sns\n",
    "import matplotlib.pyplot as plt\n",
    "from warnings import filterwarnings\n",
    "filterwarnings('ignore')\n",
    "from scipy import stats\n",
    "from scipy.stats import norm, skew\n",
    "import plotly.graph_objects as go"
   ]
  },
  {
   "cell_type": "code",
   "execution_count": 111,
   "id": "e7937eee",
   "metadata": {},
   "outputs": [],
   "source": [
    "# read dataset\n",
    "train = pd.read_csv('TRAIN.csv')\n",
    "test =  pd.read_csv('TEST_FINAL.csv')"
   ]
  },
  {
   "cell_type": "code",
   "execution_count": 83,
   "id": "63fe6108",
   "metadata": {},
   "outputs": [],
   "source": [
    "# get copy of train and test dataset\n",
    "tn = train.copy()\n",
    "tt = test.copy()"
   ]
  },
  {
   "cell_type": "code",
   "execution_count": 84,
   "id": "2f984cbd",
   "metadata": {},
   "outputs": [
    {
     "data": {
      "text/html": [
       "<div>\n",
       "<style scoped>\n",
       "    .dataframe tbody tr th:only-of-type {\n",
       "        vertical-align: middle;\n",
       "    }\n",
       "\n",
       "    .dataframe tbody tr th {\n",
       "        vertical-align: top;\n",
       "    }\n",
       "\n",
       "    .dataframe thead th {\n",
       "        text-align: right;\n",
       "    }\n",
       "</style>\n",
       "<table border=\"1\" class=\"dataframe\">\n",
       "  <thead>\n",
       "    <tr style=\"text-align: right;\">\n",
       "      <th></th>\n",
       "      <th>ID</th>\n",
       "      <th>Store_id</th>\n",
       "      <th>Store_Type</th>\n",
       "      <th>Location_Type</th>\n",
       "      <th>Region_Code</th>\n",
       "      <th>Date</th>\n",
       "      <th>Holiday</th>\n",
       "      <th>Discount</th>\n",
       "      <th>#Order</th>\n",
       "      <th>Sales</th>\n",
       "    </tr>\n",
       "  </thead>\n",
       "  <tbody>\n",
       "    <tr>\n",
       "      <th>0</th>\n",
       "      <td>T1000001</td>\n",
       "      <td>1</td>\n",
       "      <td>S1</td>\n",
       "      <td>L3</td>\n",
       "      <td>R1</td>\n",
       "      <td>2018-01-01</td>\n",
       "      <td>1</td>\n",
       "      <td>Yes</td>\n",
       "      <td>9</td>\n",
       "      <td>7011.84</td>\n",
       "    </tr>\n",
       "    <tr>\n",
       "      <th>1</th>\n",
       "      <td>T1000002</td>\n",
       "      <td>253</td>\n",
       "      <td>S4</td>\n",
       "      <td>L2</td>\n",
       "      <td>R1</td>\n",
       "      <td>2018-01-01</td>\n",
       "      <td>1</td>\n",
       "      <td>Yes</td>\n",
       "      <td>60</td>\n",
       "      <td>51789.12</td>\n",
       "    </tr>\n",
       "    <tr>\n",
       "      <th>2</th>\n",
       "      <td>T1000003</td>\n",
       "      <td>252</td>\n",
       "      <td>S3</td>\n",
       "      <td>L2</td>\n",
       "      <td>R1</td>\n",
       "      <td>2018-01-01</td>\n",
       "      <td>1</td>\n",
       "      <td>Yes</td>\n",
       "      <td>42</td>\n",
       "      <td>36868.20</td>\n",
       "    </tr>\n",
       "    <tr>\n",
       "      <th>3</th>\n",
       "      <td>T1000004</td>\n",
       "      <td>251</td>\n",
       "      <td>S2</td>\n",
       "      <td>L3</td>\n",
       "      <td>R1</td>\n",
       "      <td>2018-01-01</td>\n",
       "      <td>1</td>\n",
       "      <td>Yes</td>\n",
       "      <td>23</td>\n",
       "      <td>19715.16</td>\n",
       "    </tr>\n",
       "    <tr>\n",
       "      <th>4</th>\n",
       "      <td>T1000005</td>\n",
       "      <td>250</td>\n",
       "      <td>S2</td>\n",
       "      <td>L3</td>\n",
       "      <td>R4</td>\n",
       "      <td>2018-01-01</td>\n",
       "      <td>1</td>\n",
       "      <td>Yes</td>\n",
       "      <td>62</td>\n",
       "      <td>45614.52</td>\n",
       "    </tr>\n",
       "  </tbody>\n",
       "</table>\n",
       "</div>"
      ],
      "text/plain": [
       "         ID  Store_id Store_Type Location_Type Region_Code        Date  \\\n",
       "0  T1000001         1         S1            L3          R1  2018-01-01   \n",
       "1  T1000002       253         S4            L2          R1  2018-01-01   \n",
       "2  T1000003       252         S3            L2          R1  2018-01-01   \n",
       "3  T1000004       251         S2            L3          R1  2018-01-01   \n",
       "4  T1000005       250         S2            L3          R4  2018-01-01   \n",
       "\n",
       "   Holiday Discount  #Order     Sales  \n",
       "0        1      Yes       9   7011.84  \n",
       "1        1      Yes      60  51789.12  \n",
       "2        1      Yes      42  36868.20  \n",
       "3        1      Yes      23  19715.16  \n",
       "4        1      Yes      62  45614.52  "
      ]
     },
     "execution_count": 84,
     "metadata": {},
     "output_type": "execute_result"
    }
   ],
   "source": [
    "train.head()"
   ]
  },
  {
   "cell_type": "code",
   "execution_count": 85,
   "id": "b5dde10f",
   "metadata": {},
   "outputs": [
    {
     "name": "stdout",
     "output_type": "stream",
     "text": [
      "<class 'pandas.core.frame.DataFrame'>\n",
      "RangeIndex: 188340 entries, 0 to 188339\n",
      "Data columns (total 10 columns):\n",
      " #   Column         Non-Null Count   Dtype  \n",
      "---  ------         --------------   -----  \n",
      " 0   ID             188340 non-null  object \n",
      " 1   Store_id       188340 non-null  int64  \n",
      " 2   Store_Type     188340 non-null  object \n",
      " 3   Location_Type  188340 non-null  object \n",
      " 4   Region_Code    188340 non-null  object \n",
      " 5   Date           188340 non-null  object \n",
      " 6   Holiday        188340 non-null  int64  \n",
      " 7   Discount       188340 non-null  object \n",
      " 8   #Order         188340 non-null  int64  \n",
      " 9   Sales          188340 non-null  float64\n",
      "dtypes: float64(1), int64(3), object(6)\n",
      "memory usage: 14.4+ MB\n"
     ]
    }
   ],
   "source": [
    "train.info()"
   ]
  },
  {
   "cell_type": "markdown",
   "id": "e65a5897",
   "metadata": {},
   "source": [
    "### EDA & Preprocessing "
   ]
  },
  {
   "cell_type": "code",
   "execution_count": 86,
   "id": "f9e40460",
   "metadata": {
    "scrolled": true
   },
   "outputs": [
    {
     "data": {
      "text/html": [
       "<div>\n",
       "<style scoped>\n",
       "    .dataframe tbody tr th:only-of-type {\n",
       "        vertical-align: middle;\n",
       "    }\n",
       "\n",
       "    .dataframe tbody tr th {\n",
       "        vertical-align: top;\n",
       "    }\n",
       "\n",
       "    .dataframe thead th {\n",
       "        text-align: right;\n",
       "    }\n",
       "</style>\n",
       "<table border=\"1\" class=\"dataframe\">\n",
       "  <thead>\n",
       "    <tr style=\"text-align: right;\">\n",
       "      <th></th>\n",
       "      <th>ID</th>\n",
       "      <th>Store_id</th>\n",
       "      <th>Store_Type</th>\n",
       "      <th>Location_Type</th>\n",
       "      <th>Region_Code</th>\n",
       "      <th>Date</th>\n",
       "      <th>Holiday</th>\n",
       "      <th>Discount</th>\n",
       "      <th>#Order</th>\n",
       "      <th>Sales</th>\n",
       "    </tr>\n",
       "  </thead>\n",
       "  <tbody>\n",
       "    <tr>\n",
       "      <th>0</th>\n",
       "      <td>T1000001</td>\n",
       "      <td>1</td>\n",
       "      <td>S1</td>\n",
       "      <td>L3</td>\n",
       "      <td>R1</td>\n",
       "      <td>2018-01-01</td>\n",
       "      <td>1</td>\n",
       "      <td>Yes</td>\n",
       "      <td>9</td>\n",
       "      <td>7011.84</td>\n",
       "    </tr>\n",
       "    <tr>\n",
       "      <th>1</th>\n",
       "      <td>T1000002</td>\n",
       "      <td>253</td>\n",
       "      <td>S4</td>\n",
       "      <td>L2</td>\n",
       "      <td>R1</td>\n",
       "      <td>2018-01-01</td>\n",
       "      <td>1</td>\n",
       "      <td>Yes</td>\n",
       "      <td>60</td>\n",
       "      <td>51789.12</td>\n",
       "    </tr>\n",
       "    <tr>\n",
       "      <th>2</th>\n",
       "      <td>T1000003</td>\n",
       "      <td>252</td>\n",
       "      <td>S3</td>\n",
       "      <td>L2</td>\n",
       "      <td>R1</td>\n",
       "      <td>2018-01-01</td>\n",
       "      <td>1</td>\n",
       "      <td>Yes</td>\n",
       "      <td>42</td>\n",
       "      <td>36868.20</td>\n",
       "    </tr>\n",
       "    <tr>\n",
       "      <th>3</th>\n",
       "      <td>T1000004</td>\n",
       "      <td>251</td>\n",
       "      <td>S2</td>\n",
       "      <td>L3</td>\n",
       "      <td>R1</td>\n",
       "      <td>2018-01-01</td>\n",
       "      <td>1</td>\n",
       "      <td>Yes</td>\n",
       "      <td>23</td>\n",
       "      <td>19715.16</td>\n",
       "    </tr>\n",
       "    <tr>\n",
       "      <th>4</th>\n",
       "      <td>T1000005</td>\n",
       "      <td>250</td>\n",
       "      <td>S2</td>\n",
       "      <td>L3</td>\n",
       "      <td>R4</td>\n",
       "      <td>2018-01-01</td>\n",
       "      <td>1</td>\n",
       "      <td>Yes</td>\n",
       "      <td>62</td>\n",
       "      <td>45614.52</td>\n",
       "    </tr>\n",
       "  </tbody>\n",
       "</table>\n",
       "</div>"
      ],
      "text/plain": [
       "         ID  Store_id Store_Type Location_Type Region_Code        Date  \\\n",
       "0  T1000001         1         S1            L3          R1  2018-01-01   \n",
       "1  T1000002       253         S4            L2          R1  2018-01-01   \n",
       "2  T1000003       252         S3            L2          R1  2018-01-01   \n",
       "3  T1000004       251         S2            L3          R1  2018-01-01   \n",
       "4  T1000005       250         S2            L3          R4  2018-01-01   \n",
       "\n",
       "   Holiday Discount  #Order     Sales  \n",
       "0        1      Yes       9   7011.84  \n",
       "1        1      Yes      60  51789.12  \n",
       "2        1      Yes      42  36868.20  \n",
       "3        1      Yes      23  19715.16  \n",
       "4        1      Yes      62  45614.52  "
      ]
     },
     "execution_count": 86,
     "metadata": {},
     "output_type": "execute_result"
    }
   ],
   "source": [
    "train.head()"
   ]
  },
  {
   "cell_type": "markdown",
   "id": "42547c4a",
   "metadata": {},
   "source": [
    "df = train.groupby(['Store_Type','Location_Type']).size().unstack('Location_Type',fill_value=0)\n",
    "df.plot.bar()\n",
    "df1 = train.groupby(['Store_Type','Region_Code']).size().unstack('Region_Code',fill_value=0)\n",
    "df1.plot.bar()"
   ]
  },
  {
   "cell_type": "markdown",
   "id": "dc979cd0",
   "metadata": {},
   "source": [
    "sns.catplot(x=\"Store_Type\", y=\"Sales\",hue='Location_Type',data=train)"
   ]
  },
  {
   "cell_type": "code",
   "execution_count": 87,
   "id": "b6e7155c",
   "metadata": {},
   "outputs": [
    {
     "name": "stdout",
     "output_type": "stream",
     "text": [
      "No of Unique stores are  365\n",
      "No of Unique Store Type is  4\n",
      "No of Unique Location Type is  5\n",
      "No of Unique Region Code is  4\n",
      "No of Holiday variable is  2\n",
      "No of Unique Discount is  2\n"
     ]
    }
   ],
   "source": [
    "# Let's print the number unique Store_id,Store_Type,Location_Type,Region_Code\n",
    "print('No of Unique stores are ',train['Store_id'].nunique())\n",
    "print('No of Unique Store Type is ',train['Store_Type'].nunique())\n",
    "print('No of Unique Location Type is ',train['Location_Type'].nunique())\n",
    "print('No of Unique Region Code is ',train['Region_Code'].nunique())\n",
    "print('No of Holiday variable is ',train['Holiday'].nunique())\n",
    "print('No of Unique Discount is ',train['Discount'].nunique())"
   ]
  },
  {
   "cell_type": "code",
   "execution_count": 88,
   "id": "51f55de0",
   "metadata": {},
   "outputs": [
    {
     "data": {
      "text/plain": [
       "False"
      ]
     },
     "execution_count": 88,
     "metadata": {},
     "output_type": "execute_result"
    }
   ],
   "source": [
    "# Check for the null values\n",
    "train.isnull().sum().any()\n",
    "# No nullvalues present"
   ]
  },
  {
   "cell_type": "code",
   "execution_count": 89,
   "id": "a535c15d",
   "metadata": {},
   "outputs": [],
   "source": [
    "# We could drop # Order colum\n",
    "train.drop(['#Order'],axis=1,inplace=True)"
   ]
  },
  {
   "cell_type": "code",
   "execution_count": 90,
   "id": "3d9d1586",
   "metadata": {},
   "outputs": [],
   "source": [
    "# Let's start the preprocessing for both train and test data together\n",
    "day = pd.to_datetime(train['Date'])\n",
    "train['Year'] = day.dt.year\n",
    "train['Month'] = day.dt.month\n",
    "train['week'] = day.dt.week\n",
    "train['Day'] = day.dt.day\n",
    "train['Quarter'] = day.dt.quarter\n",
    "train['weekday']  = day.dt.weekday\n",
    "# Drop date columms\n",
    "#train.drop(['Date'],axis=1,inplace=True)"
   ]
  },
  {
   "cell_type": "code",
   "execution_count": 91,
   "id": "5c49dd24",
   "metadata": {},
   "outputs": [],
   "source": [
    "day = pd.to_datetime(test['Date'])\n",
    "test['Year'] = day.dt.year\n",
    "test['Month'] = day.dt.month\n",
    "test['Day'] = day.dt.day\n",
    "test['week'] = day.dt.week\n",
    "test['Quarter'] = day.dt.quarter\n",
    "test['weekday']  = day.dt.weekday\n",
    "# Drop date columms\n",
    "#test.drop(['Date'],axis=1,inplace=True)"
   ]
  },
  {
   "cell_type": "markdown",
   "id": "0b13faa4",
   "metadata": {},
   "source": [
    "#### Target Variable"
   ]
  },
  {
   "cell_type": "markdown",
   "id": "c5713de2",
   "metadata": {},
   "source": [
    "Here, the target variable is skewed, so we have to do some transformations"
   ]
  },
  {
   "cell_type": "code",
   "execution_count": 102,
   "id": "59905dfe",
   "metadata": {},
   "outputs": [
    {
     "data": {
      "text/plain": [
       "count    184571.000000\n",
       "mean      42396.638602\n",
       "std       16461.053593\n",
       "min        7089.000000\n",
       "1%        13637.100000\n",
       "5%        20184.000000\n",
       "25%       30610.260000\n",
       "50%       39678.000000\n",
       "75%       51567.000000\n",
       "95%       74236.500000\n",
       "99%       91154.700000\n",
       "max      102150.000000\n",
       "Name: Sales, dtype: float64"
      ]
     },
     "execution_count": 102,
     "metadata": {},
     "output_type": "execute_result"
    }
   ],
   "source": [
    "train['Sales'].describe([0.01,0.05,0.25,0.5,0.75,0.95,0.99])"
   ]
  },
  {
   "cell_type": "code",
   "execution_count": 95,
   "id": "87c440f1",
   "metadata": {},
   "outputs": [],
   "source": [
    "train = train[(train['Sales']>1)] # remove data with the values zero\n",
    "train = train[train['Sales']<91154]  # remove the values in greter than 99% dist"
   ]
  },
  {
   "cell_type": "code",
   "execution_count": 93,
   "id": "281acacf",
   "metadata": {},
   "outputs": [
    {
     "data": {
      "image/png": "[encoded data removed]",
      "text/plain": [
       "<Figure size 720x288 with 1 Axes>"
      ]
     },
     "metadata": {
      "needs_background": "light"
     },
     "output_type": "display_data"
    },
    {
     "data": {
      "image/png": "[encoded data removed]",
      "text/plain": [
       "<Figure size 360x288 with 1 Axes>"
      ]
     },
     "metadata": {
      "needs_background": "light"
     },
     "output_type": "display_data"
    }
   ],
   "source": [
    "#Let's visualize the target variable 'Sales'\n",
    "plt.figure(figsize=(10,4))\n",
    "sns.distplot(train['Sales'],fit=norm)\n",
    "# Get normlization parameters\n",
    "(mu,sigma) = norm.fit(train['Sales'])\n",
    "plt.legend(['Normal dist.($\\mu$)={:.2f} and $\\sigma$ = {:.2f}]'.format(mu,sigma)])\n",
    "# let's plot qqplot\n",
    "\n",
    "plt.figure(figsize=(5,4))\n",
    "qqplot = stats.probplot(train['Sales'],plot=plt)"
   ]
  },
  {
   "cell_type": "markdown",
   "id": "ab52aa44",
   "metadata": {},
   "source": [
    "train = train[train['Sales']< 100000]\n",
    "train = train[train['Sales']>1]"
   ]
  },
  {
   "cell_type": "code",
   "execution_count": 96,
   "id": "c51476f1",
   "metadata": {
    "scrolled": true
   },
   "outputs": [
    {
     "data": {
      "image/png": "[encoded data removed]",
      "text/plain": [
       "<Figure size 720x288 with 1 Axes>"
      ]
     },
     "metadata": {
      "needs_background": "light"
     },
     "output_type": "display_data"
    },
    {
     "data": {
      "image/png": "[encoded data removed]",
      "text/plain": [
       "<Figure size 360x288 with 1 Axes>"
      ]
     },
     "metadata": {
      "needs_background": "light"
     },
     "output_type": "display_data"
    }
   ],
   "source": [
    "#Let's visualize the target variable 'Sales'\n",
    "plt.figure(figsize=(10,4))\n",
    "sns.distplot(train['Sales'],fit=norm)\n",
    "# Get normlization parameters\n",
    "(mu,sigma) = norm.fit(train['Sales'])\n",
    "plt.legend(['Normal dist.($\\mu$)={:.2f} and $\\sigma$ = {:.2f}]'.format(mu,sigma)])\n",
    "# let's plot qqplot\n",
    "\n",
    "plt.figure(figsize=(5,4))\n",
    "qqplot = stats.probplot(train['Sales'],plot=plt)"
   ]
  },
  {
   "cell_type": "markdown",
   "id": "0d4318bd",
   "metadata": {},
   "source": [
    "#transform target features\n",
    "train['Sales_log'] = np.log1p(train['Sales'])"
   ]
  },
  {
   "cell_type": "markdown",
   "id": "e1034bcd",
   "metadata": {},
   "source": [
    "### Train Model - Pycaret"
   ]
  },
  {
   "cell_type": "code",
   "execution_count": 113,
   "id": "76583b7b",
   "metadata": {},
   "outputs": [],
   "source": [
    "#Pycaret module\n",
    "from pycaret.regression import *"
   ]
  },
  {
   "cell_type": "code",
   "execution_count": 114,
   "id": "3a7d2121",
   "metadata": {
    "scrolled": true
   },
   "outputs": [
    {
     "data": {
      "text/html": [
       "<div>\n",
       "<style scoped>\n",
       "    .dataframe tbody tr th:only-of-type {\n",
       "        vertical-align: middle;\n",
       "    }\n",
       "\n",
       "    .dataframe tbody tr th {\n",
       "        vertical-align: top;\n",
       "    }\n",
       "\n",
       "    .dataframe thead th {\n",
       "        text-align: right;\n",
       "    }\n",
       "</style>\n",
       "<table border=\"1\" class=\"dataframe\">\n",
       "  <thead>\n",
       "    <tr style=\"text-align: right;\">\n",
       "      <th></th>\n",
       "      <th>ID</th>\n",
       "      <th>Store_id</th>\n",
       "      <th>Store_Type</th>\n",
       "      <th>Location_Type</th>\n",
       "      <th>Region_Code</th>\n",
       "      <th>Date</th>\n",
       "      <th>Holiday</th>\n",
       "      <th>Discount</th>\n",
       "      <th>#Order</th>\n",
       "      <th>Sales</th>\n",
       "    </tr>\n",
       "  </thead>\n",
       "  <tbody>\n",
       "    <tr>\n",
       "      <th>0</th>\n",
       "      <td>T1000001</td>\n",
       "      <td>1</td>\n",
       "      <td>S1</td>\n",
       "      <td>L3</td>\n",
       "      <td>R1</td>\n",
       "      <td>2018-01-01</td>\n",
       "      <td>1</td>\n",
       "      <td>Yes</td>\n",
       "      <td>9</td>\n",
       "      <td>7011.84</td>\n",
       "    </tr>\n",
       "    <tr>\n",
       "      <th>1</th>\n",
       "      <td>T1000002</td>\n",
       "      <td>253</td>\n",
       "      <td>S4</td>\n",
       "      <td>L2</td>\n",
       "      <td>R1</td>\n",
       "      <td>2018-01-01</td>\n",
       "      <td>1</td>\n",
       "      <td>Yes</td>\n",
       "      <td>60</td>\n",
       "      <td>51789.12</td>\n",
       "    </tr>\n",
       "    <tr>\n",
       "      <th>2</th>\n",
       "      <td>T1000003</td>\n",
       "      <td>252</td>\n",
       "      <td>S3</td>\n",
       "      <td>L2</td>\n",
       "      <td>R1</td>\n",
       "      <td>2018-01-01</td>\n",
       "      <td>1</td>\n",
       "      <td>Yes</td>\n",
       "      <td>42</td>\n",
       "      <td>36868.20</td>\n",
       "    </tr>\n",
       "    <tr>\n",
       "      <th>3</th>\n",
       "      <td>T1000004</td>\n",
       "      <td>251</td>\n",
       "      <td>S2</td>\n",
       "      <td>L3</td>\n",
       "      <td>R1</td>\n",
       "      <td>2018-01-01</td>\n",
       "      <td>1</td>\n",
       "      <td>Yes</td>\n",
       "      <td>23</td>\n",
       "      <td>19715.16</td>\n",
       "    </tr>\n",
       "    <tr>\n",
       "      <th>4</th>\n",
       "      <td>T1000005</td>\n",
       "      <td>250</td>\n",
       "      <td>S2</td>\n",
       "      <td>L3</td>\n",
       "      <td>R4</td>\n",
       "      <td>2018-01-01</td>\n",
       "      <td>1</td>\n",
       "      <td>Yes</td>\n",
       "      <td>62</td>\n",
       "      <td>45614.52</td>\n",
       "    </tr>\n",
       "  </tbody>\n",
       "</table>\n",
       "</div>"
      ],
      "text/plain": [
       "         ID  Store_id Store_Type Location_Type Region_Code        Date  \\\n",
       "0  T1000001         1         S1            L3          R1  2018-01-01   \n",
       "1  T1000002       253         S4            L2          R1  2018-01-01   \n",
       "2  T1000003       252         S3            L2          R1  2018-01-01   \n",
       "3  T1000004       251         S2            L3          R1  2018-01-01   \n",
       "4  T1000005       250         S2            L3          R4  2018-01-01   \n",
       "\n",
       "   Holiday Discount  #Order     Sales  \n",
       "0        1      Yes       9   7011.84  \n",
       "1        1      Yes      60  51789.12  \n",
       "2        1      Yes      42  36868.20  \n",
       "3        1      Yes      23  19715.16  \n",
       "4        1      Yes      62  45614.52  "
      ]
     },
     "execution_count": 114,
     "metadata": {},
     "output_type": "execute_result"
    }
   ],
   "source": [
    "train.head()"
   ]
  },
  {
   "cell_type": "code",
   "execution_count": 115,
   "id": "9b822b0d",
   "metadata": {
    "scrolled": true
   },
   "outputs": [
    {
     "ename": "ValueError",
     "evalue": "Column type forced is either target column or doesn't exist in the dataset.",
     "output_type": "error",
     "traceback": [
      "\u001b[1;31m---------------------------------------------------------------------------\u001b[0m",
      "\u001b[1;31mValueError\u001b[0m                                Traceback (most recent call last)",
      "\u001b[1;32m~\\AppData\\Local\\Temp/ipykernel_17500/1891272606.py\u001b[0m in \u001b[0;36m<module>\u001b[1;34m\u001b[0m\n\u001b[0;32m      6\u001b[0m                    \u001b[0mnumeric_features\u001b[0m \u001b[1;33m=\u001b[0m \u001b[0mnum_features\u001b[0m\u001b[1;33m,\u001b[0m\u001b[0mignore_features\u001b[0m\u001b[1;33m=\u001b[0m \u001b[1;33m[\u001b[0m\u001b[1;34m'ID'\u001b[0m\u001b[1;33m]\u001b[0m\u001b[1;33m,\u001b[0m\u001b[0msilent\u001b[0m \u001b[1;33m=\u001b[0m \u001b[1;32mTrue\u001b[0m\u001b[1;33m,\u001b[0m\u001b[1;33m\u001b[0m\u001b[1;33m\u001b[0m\u001b[0m\n\u001b[0;32m      7\u001b[0m                    \u001b[0mtrain_size\u001b[0m \u001b[1;33m=\u001b[0m \u001b[1;36m0.8\u001b[0m\u001b[1;33m,\u001b[0m\u001b[0mfold\u001b[0m\u001b[1;33m=\u001b[0m\u001b[1;36m3\u001b[0m\u001b[1;33m,\u001b[0m\u001b[0msession_id\u001b[0m \u001b[1;33m=\u001b[0m \u001b[1;36m123\u001b[0m\u001b[1;33m,\u001b[0m\u001b[0mverbose\u001b[0m\u001b[1;33m=\u001b[0m\u001b[1;32mFalse\u001b[0m\u001b[1;33m,\u001b[0m\u001b[0mtransform_target\u001b[0m\u001b[1;33m=\u001b[0m\u001b[1;32mTrue\u001b[0m\u001b[1;33m,\u001b[0m\u001b[1;33m\u001b[0m\u001b[1;33m\u001b[0m\u001b[0m\n\u001b[1;32m----> 8\u001b[1;33m                    transform_target_method='yeo-johnson',normalize = True)\n\u001b[0m",
      "\u001b[1;32m~\\anaconda3\\envs\\py37\\lib\\site-packages\\pycaret\\regression.py\u001b[0m in \u001b[0;36msetup\u001b[1;34m(data, target, train_size, test_data, preprocess, imputation_type, iterative_imputation_iters, categorical_features, categorical_imputation, categorical_iterative_imputer, ordinal_features, high_cardinality_features, high_cardinality_method, numeric_features, numeric_imputation, numeric_iterative_imputer, date_features, ignore_features, normalize, normalize_method, transformation, transformation_method, handle_unknown_categorical, unknown_categorical_method, pca, pca_method, pca_components, ignore_low_variance, combine_rare_levels, rare_level_threshold, bin_numeric_features, remove_outliers, outliers_threshold, remove_multicollinearity, multicollinearity_threshold, remove_perfect_collinearity, create_clusters, cluster_iter, polynomial_features, polynomial_degree, trigonometry_features, polynomial_threshold, group_features, group_names, feature_selection, feature_selection_threshold, feature_selection_method, feature_interaction, feature_ratio, interaction_threshold, transform_target, transform_target_method, data_split_shuffle, data_split_stratify, fold_strategy, fold, fold_shuffle, fold_groups, n_jobs, use_gpu, custom_pipeline, html, session_id, log_experiment, experiment_name, log_plots, log_profile, log_data, silent, verbose, profile, profile_kwargs)\u001b[0m\n\u001b[0;32m    643\u001b[0m         \u001b[0mverbose\u001b[0m\u001b[1;33m=\u001b[0m\u001b[0mverbose\u001b[0m\u001b[1;33m,\u001b[0m\u001b[1;33m\u001b[0m\u001b[1;33m\u001b[0m\u001b[0m\n\u001b[0;32m    644\u001b[0m         \u001b[0mprofile\u001b[0m\u001b[1;33m=\u001b[0m\u001b[0mprofile\u001b[0m\u001b[1;33m,\u001b[0m\u001b[1;33m\u001b[0m\u001b[1;33m\u001b[0m\u001b[0m\n\u001b[1;32m--> 645\u001b[1;33m         \u001b[0mprofile_kwargs\u001b[0m\u001b[1;33m=\u001b[0m\u001b[0mprofile_kwargs\u001b[0m\u001b[1;33m,\u001b[0m\u001b[1;33m\u001b[0m\u001b[1;33m\u001b[0m\u001b[0m\n\u001b[0m\u001b[0;32m    646\u001b[0m     )\n\u001b[0;32m    647\u001b[0m \u001b[1;33m\u001b[0m\u001b[0m\n",
      "\u001b[1;32m~\\anaconda3\\envs\\py37\\lib\\site-packages\\pycaret\\internal\\tabular.py\u001b[0m in \u001b[0;36msetup\u001b[1;34m(data, target, ml_usecase, available_plots, train_size, test_data, preprocess, imputation_type, iterative_imputation_iters, categorical_features, categorical_imputation, categorical_iterative_imputer, ordinal_features, high_cardinality_features, high_cardinality_method, numeric_features, numeric_imputation, numeric_iterative_imputer, date_features, ignore_features, normalize, normalize_method, transformation, transformation_method, handle_unknown_categorical, unknown_categorical_method, pca, pca_method, pca_components, ignore_low_variance, combine_rare_levels, rare_level_threshold, bin_numeric_features, remove_outliers, outliers_threshold, remove_multicollinearity, multicollinearity_threshold, remove_perfect_collinearity, create_clusters, cluster_iter, polynomial_features, polynomial_degree, trigonometry_features, polynomial_threshold, group_features, group_names, feature_selection, feature_selection_threshold, feature_selection_method, feature_interaction, feature_ratio, interaction_threshold, fix_imbalance, fix_imbalance_method, transform_target, transform_target_method, data_split_shuffle, data_split_stratify, fold_strategy, fold, fold_shuffle, fold_groups, n_jobs, use_gpu, custom_pipeline, html, session_id, log_experiment, experiment_name, log_plots, log_profile, log_data, silent, verbose, profile, profile_kwargs, display)\u001b[0m\n\u001b[0;32m    598\u001b[0m             \u001b[1;32mif\u001b[0m \u001b[0mi\u001b[0m \u001b[1;32mnot\u001b[0m \u001b[1;32min\u001b[0m \u001b[0mall_cols\u001b[0m\u001b[1;33m:\u001b[0m\u001b[1;33m\u001b[0m\u001b[1;33m\u001b[0m\u001b[0m\n\u001b[0;32m    599\u001b[0m                 raise ValueError(\n\u001b[1;32m--> 600\u001b[1;33m                     \u001b[1;34m\"Column type forced is either target column or doesn't exist in the dataset.\"\u001b[0m\u001b[1;33m\u001b[0m\u001b[1;33m\u001b[0m\u001b[0m\n\u001b[0m\u001b[0;32m    601\u001b[0m                 )\n\u001b[0;32m    602\u001b[0m \u001b[1;33m\u001b[0m\u001b[0m\n",
      "\u001b[1;31mValueError\u001b[0m: Column type forced is either target column or doesn't exist in the dataset."
     ]
    }
   ],
   "source": [
    "# Fit the model\n",
    "cat_features = ['Store_Type','Location_Type','Region_Code','Discount','weekday', 'Quarter','Month']\n",
    "\n",
    "num_features = ['Day','Year','Holiday','Store_id','week']\n",
    "model_train = setup(data = train, target = 'Sales', categorical_features = cat_features,\n",
    "                   numeric_features = num_features,ignore_features= ['ID'],silent = True,\n",
    "                   train_size = 0.8,fold=3,session_id = 123,verbose=False,transform_target=True,\n",
    "                   transform_target_method='yeo-johnson',normalize = True)"
   ]
  },
  {
   "cell_type": "code",
   "execution_count": 17,
   "id": "9dc548c5",
   "metadata": {},
   "outputs": [
    {
     "data": {
      "text/html": [
       "<style type=\"text/css\">\n",
       "#T_f8fc9_ th {\n",
       "  text-align: left;\n",
       "}\n",
       "#T_f8fc9_row0_col0, #T_f8fc9_row1_col0, #T_f8fc9_row1_col1, #T_f8fc9_row1_col2, #T_f8fc9_row1_col3, #T_f8fc9_row1_col4, #T_f8fc9_row1_col5, #T_f8fc9_row1_col6, #T_f8fc9_row2_col0, #T_f8fc9_row2_col1, #T_f8fc9_row2_col2, #T_f8fc9_row2_col3, #T_f8fc9_row2_col4, #T_f8fc9_row2_col5, #T_f8fc9_row2_col6, #T_f8fc9_row3_col0, #T_f8fc9_row3_col1, #T_f8fc9_row3_col2, #T_f8fc9_row3_col3, #T_f8fc9_row3_col4, #T_f8fc9_row3_col5, #T_f8fc9_row3_col6, #T_f8fc9_row4_col0, #T_f8fc9_row4_col1, #T_f8fc9_row4_col2, #T_f8fc9_row4_col3, #T_f8fc9_row4_col4, #T_f8fc9_row4_col5, #T_f8fc9_row4_col6, #T_f8fc9_row5_col0, #T_f8fc9_row5_col1, #T_f8fc9_row5_col2, #T_f8fc9_row5_col3, #T_f8fc9_row5_col4, #T_f8fc9_row5_col5, #T_f8fc9_row5_col6, #T_f8fc9_row6_col0, #T_f8fc9_row6_col1, #T_f8fc9_row6_col2, #T_f8fc9_row6_col3, #T_f8fc9_row6_col4, #T_f8fc9_row6_col5, #T_f8fc9_row6_col6, #T_f8fc9_row7_col0, #T_f8fc9_row7_col1, #T_f8fc9_row7_col2, #T_f8fc9_row7_col3, #T_f8fc9_row7_col4, #T_f8fc9_row7_col5, #T_f8fc9_row7_col6, #T_f8fc9_row8_col0, #T_f8fc9_row8_col1, #T_f8fc9_row8_col2, #T_f8fc9_row8_col3, #T_f8fc9_row8_col4, #T_f8fc9_row8_col5, #T_f8fc9_row8_col6, #T_f8fc9_row9_col0, #T_f8fc9_row9_col1, #T_f8fc9_row9_col2, #T_f8fc9_row9_col3, #T_f8fc9_row9_col4, #T_f8fc9_row9_col5, #T_f8fc9_row9_col6, #T_f8fc9_row10_col0, #T_f8fc9_row10_col1, #T_f8fc9_row10_col2, #T_f8fc9_row10_col3, #T_f8fc9_row10_col4, #T_f8fc9_row10_col5, #T_f8fc9_row10_col6, #T_f8fc9_row11_col0, #T_f8fc9_row11_col1, #T_f8fc9_row11_col2, #T_f8fc9_row11_col3, #T_f8fc9_row11_col4, #T_f8fc9_row11_col5, #T_f8fc9_row11_col6, #T_f8fc9_row12_col0, #T_f8fc9_row12_col1, #T_f8fc9_row12_col2, #T_f8fc9_row12_col3, #T_f8fc9_row12_col4, #T_f8fc9_row12_col5, #T_f8fc9_row12_col6, #T_f8fc9_row13_col0, #T_f8fc9_row13_col1, #T_f8fc9_row13_col2, #T_f8fc9_row13_col3, #T_f8fc9_row13_col4, #T_f8fc9_row13_col5, #T_f8fc9_row13_col6, #T_f8fc9_row14_col0, #T_f8fc9_row14_col1, #T_f8fc9_row14_col2, #T_f8fc9_row14_col3, #T_f8fc9_row14_col4, #T_f8fc9_row14_col5, #T_f8fc9_row14_col6, #T_f8fc9_row15_col0, #T_f8fc9_row15_col1, #T_f8fc9_row15_col2, #T_f8fc9_row15_col3, #T_f8fc9_row15_col4, #T_f8fc9_row15_col5, #T_f8fc9_row15_col6, #T_f8fc9_row16_col0, #T_f8fc9_row16_col1, #T_f8fc9_row16_col2, #T_f8fc9_row16_col3, #T_f8fc9_row16_col4, #T_f8fc9_row16_col5, #T_f8fc9_row16_col6, #T_f8fc9_row17_col0, #T_f8fc9_row17_col1, #T_f8fc9_row17_col2, #T_f8fc9_row17_col3, #T_f8fc9_row17_col4, #T_f8fc9_row17_col5, #T_f8fc9_row17_col6, #T_f8fc9_row18_col0, #T_f8fc9_row18_col1, #T_f8fc9_row18_col2, #T_f8fc9_row18_col3, #T_f8fc9_row18_col4, #T_f8fc9_row18_col5, #T_f8fc9_row18_col6 {\n",
       "  text-align: left;\n",
       "}\n",
       "#T_f8fc9_row0_col1, #T_f8fc9_row0_col2, #T_f8fc9_row0_col3, #T_f8fc9_row0_col4, #T_f8fc9_row0_col5, #T_f8fc9_row0_col6 {\n",
       "  text-align: left;\n",
       "  background-color: yellow;\n",
       "}\n",
       "#T_f8fc9_row0_col7, #T_f8fc9_row1_col7, #T_f8fc9_row2_col7, #T_f8fc9_row3_col7, #T_f8fc9_row4_col7, #T_f8fc9_row5_col7, #T_f8fc9_row6_col7, #T_f8fc9_row7_col7, #T_f8fc9_row8_col7, #T_f8fc9_row9_col7, #T_f8fc9_row10_col7, #T_f8fc9_row11_col7, #T_f8fc9_row12_col7, #T_f8fc9_row13_col7, #T_f8fc9_row14_col7, #T_f8fc9_row15_col7, #T_f8fc9_row17_col7, #T_f8fc9_row18_col7 {\n",
       "  text-align: left;\n",
       "  background-color: lightgrey;\n",
       "}\n",
       "#T_f8fc9_row16_col7 {\n",
       "  text-align: left;\n",
       "  background-color: yellow;\n",
       "  background-color: lightgrey;\n",
       "}\n",
       "</style>\n",
       "<table id=\"T_f8fc9_\">\n",
       "  <thead>\n",
       "    <tr>\n",
       "      <th class=\"blank level0\" >&nbsp;</th>\n",
       "      <th class=\"col_heading level0 col0\" >Model</th>\n",
       "      <th class=\"col_heading level0 col1\" >MAE</th>\n",
       "      <th class=\"col_heading level0 col2\" >MSE</th>\n",
       "      <th class=\"col_heading level0 col3\" >RMSE</th>\n",
       "      <th class=\"col_heading level0 col4\" >R2</th>\n",
       "      <th class=\"col_heading level0 col5\" >RMSLE</th>\n",
       "      <th class=\"col_heading level0 col6\" >MAPE</th>\n",
       "      <th class=\"col_heading level0 col7\" >TT (Sec)</th>\n",
       "    </tr>\n",
       "  </thead>\n",
       "  <tbody>\n",
       "    <tr>\n",
       "      <th id=\"T_f8fc9_level0_row0\" class=\"row_heading level0 row0\" >xgboost</th>\n",
       "      <td id=\"T_f8fc9_row0_col0\" class=\"data row0 col0\" >Extreme Gradient Boosting</td>\n",
       "      <td id=\"T_f8fc9_row0_col1\" class=\"data row0 col1\" >5218.8130</td>\n",
       "      <td id=\"T_f8fc9_row0_col2\" class=\"data row0 col2\" >52775398.6667</td>\n",
       "      <td id=\"T_f8fc9_row0_col3\" class=\"data row0 col3\" >7264.6598</td>\n",
       "      <td id=\"T_f8fc9_row0_col4\" class=\"data row0 col4\" >0.8047</td>\n",
       "      <td id=\"T_f8fc9_row0_col5\" class=\"data row0 col5\" >0.1787</td>\n",
       "      <td id=\"T_f8fc9_row0_col6\" class=\"data row0 col6\" >0.1347</td>\n",
       "      <td id=\"T_f8fc9_row0_col7\" class=\"data row0 col7\" >6.8467</td>\n",
       "    </tr>\n",
       "    <tr>\n",
       "      <th id=\"T_f8fc9_level0_row1\" class=\"row_heading level0 row1\" >catboost</th>\n",
       "      <td id=\"T_f8fc9_row1_col0\" class=\"data row1 col0\" >CatBoost Regressor</td>\n",
       "      <td id=\"T_f8fc9_row1_col1\" class=\"data row1 col1\" >5275.5319</td>\n",
       "      <td id=\"T_f8fc9_row1_col2\" class=\"data row1 col2\" >54237357.5918</td>\n",
       "      <td id=\"T_f8fc9_row1_col3\" class=\"data row1 col3\" >7364.5724</td>\n",
       "      <td id=\"T_f8fc9_row1_col4\" class=\"data row1 col4\" >0.7993</td>\n",
       "      <td id=\"T_f8fc9_row1_col5\" class=\"data row1 col5\" >0.1791</td>\n",
       "      <td id=\"T_f8fc9_row1_col6\" class=\"data row1 col6\" >0.1354</td>\n",
       "      <td id=\"T_f8fc9_row1_col7\" class=\"data row1 col7\" >11.2067</td>\n",
       "    </tr>\n",
       "    <tr>\n",
       "      <th id=\"T_f8fc9_level0_row2\" class=\"row_heading level0 row2\" >rf</th>\n",
       "      <td id=\"T_f8fc9_row2_col0\" class=\"data row2 col0\" >Random Forest Regressor</td>\n",
       "      <td id=\"T_f8fc9_row2_col1\" class=\"data row2 col1\" >5750.1110</td>\n",
       "      <td id=\"T_f8fc9_row2_col2\" class=\"data row2 col2\" >64850790.8654</td>\n",
       "      <td id=\"T_f8fc9_row2_col3\" class=\"data row2 col3\" >8052.9874</td>\n",
       "      <td id=\"T_f8fc9_row2_col4\" class=\"data row2 col4\" >0.7601</td>\n",
       "      <td id=\"T_f8fc9_row2_col5\" class=\"data row2 col5\" >0.1954</td>\n",
       "      <td id=\"T_f8fc9_row2_col6\" class=\"data row2 col6\" >0.1470</td>\n",
       "      <td id=\"T_f8fc9_row2_col7\" class=\"data row2 col7\" >27.4233</td>\n",
       "    </tr>\n",
       "    <tr>\n",
       "      <th id=\"T_f8fc9_level0_row3\" class=\"row_heading level0 row3\" >lightgbm</th>\n",
       "      <td id=\"T_f8fc9_row3_col0\" class=\"data row3 col0\" >Light Gradient Boosting Machine</td>\n",
       "      <td id=\"T_f8fc9_row3_col1\" class=\"data row3 col1\" >5882.7101</td>\n",
       "      <td id=\"T_f8fc9_row3_col2\" class=\"data row3 col2\" >66310038.3052</td>\n",
       "      <td id=\"T_f8fc9_row3_col3\" class=\"data row3 col3\" >8143.0691</td>\n",
       "      <td id=\"T_f8fc9_row3_col4\" class=\"data row3 col4\" >0.7547</td>\n",
       "      <td id=\"T_f8fc9_row3_col5\" class=\"data row3 col5\" >0.1972</td>\n",
       "      <td id=\"T_f8fc9_row3_col6\" class=\"data row3 col6\" >0.1510</td>\n",
       "      <td id=\"T_f8fc9_row3_col7\" class=\"data row3 col7\" >1.0233</td>\n",
       "    </tr>\n",
       "    <tr>\n",
       "      <th id=\"T_f8fc9_level0_row4\" class=\"row_heading level0 row4\" >gbr</th>\n",
       "      <td id=\"T_f8fc9_row4_col0\" class=\"data row4 col0\" >Gradient Boosting Regressor</td>\n",
       "      <td id=\"T_f8fc9_row4_col1\" class=\"data row4 col1\" >6790.1205</td>\n",
       "      <td id=\"T_f8fc9_row4_col2\" class=\"data row4 col2\" >89083642.5521</td>\n",
       "      <td id=\"T_f8fc9_row4_col3\" class=\"data row4 col3\" >9438.3871</td>\n",
       "      <td id=\"T_f8fc9_row4_col4\" class=\"data row4 col4\" >0.6704</td>\n",
       "      <td id=\"T_f8fc9_row4_col5\" class=\"data row4 col5\" >0.2299</td>\n",
       "      <td id=\"T_f8fc9_row4_col6\" class=\"data row4 col6\" >0.1772</td>\n",
       "      <td id=\"T_f8fc9_row4_col7\" class=\"data row4 col7\" >8.0533</td>\n",
       "    </tr>\n",
       "    <tr>\n",
       "      <th id=\"T_f8fc9_level0_row5\" class=\"row_heading level0 row5\" >et</th>\n",
       "      <td id=\"T_f8fc9_row5_col0\" class=\"data row5 col0\" >Extra Trees Regressor</td>\n",
       "      <td id=\"T_f8fc9_row5_col1\" class=\"data row5 col1\" >6784.8269</td>\n",
       "      <td id=\"T_f8fc9_row5_col2\" class=\"data row5 col2\" >89817598.0779</td>\n",
       "      <td id=\"T_f8fc9_row5_col3\" class=\"data row5 col3\" >9477.1795</td>\n",
       "      <td id=\"T_f8fc9_row5_col4\" class=\"data row5 col4\" >0.6677</td>\n",
       "      <td id=\"T_f8fc9_row5_col5\" class=\"data row5 col5\" >0.2295</td>\n",
       "      <td id=\"T_f8fc9_row5_col6\" class=\"data row5 col6\" >0.1730</td>\n",
       "      <td id=\"T_f8fc9_row5_col7\" class=\"data row5 col7\" >37.7267</td>\n",
       "    </tr>\n",
       "    <tr>\n",
       "      <th id=\"T_f8fc9_level0_row6\" class=\"row_heading level0 row6\" >knn</th>\n",
       "      <td id=\"T_f8fc9_row6_col0\" class=\"data row6 col0\" >K Neighbors Regressor</td>\n",
       "      <td id=\"T_f8fc9_row6_col1\" class=\"data row6 col1\" >7264.7220</td>\n",
       "      <td id=\"T_f8fc9_row6_col2\" class=\"data row6 col2\" >99245637.3602</td>\n",
       "      <td id=\"T_f8fc9_row6_col3\" class=\"data row6 col3\" >9962.1888</td>\n",
       "      <td id=\"T_f8fc9_row6_col4\" class=\"data row6 col4\" >0.6328</td>\n",
       "      <td id=\"T_f8fc9_row6_col5\" class=\"data row6 col5\" >0.2379</td>\n",
       "      <td id=\"T_f8fc9_row6_col6\" class=\"data row6 col6\" >0.1861</td>\n",
       "      <td id=\"T_f8fc9_row6_col7\" class=\"data row6 col7\" >16.2867</td>\n",
       "    </tr>\n",
       "    <tr>\n",
       "      <th id=\"T_f8fc9_level0_row7\" class=\"row_heading level0 row7\" >ridge</th>\n",
       "      <td id=\"T_f8fc9_row7_col0\" class=\"data row7 col0\" >Ridge Regression</td>\n",
       "      <td id=\"T_f8fc9_row7_col1\" class=\"data row7 col1\" >7199.6979</td>\n",
       "      <td id=\"T_f8fc9_row7_col2\" class=\"data row7 col2\" >100727317.3333</td>\n",
       "      <td id=\"T_f8fc9_row7_col3\" class=\"data row7 col3\" >10036.2799</td>\n",
       "      <td id=\"T_f8fc9_row7_col4\" class=\"data row7 col4\" >0.6274</td>\n",
       "      <td id=\"T_f8fc9_row7_col5\" class=\"data row7 col5\" >0.2445</td>\n",
       "      <td id=\"T_f8fc9_row7_col6\" class=\"data row7 col6\" >0.1886</td>\n",
       "      <td id=\"T_f8fc9_row7_col7\" class=\"data row7 col7\" >1.1367</td>\n",
       "    </tr>\n",
       "    <tr>\n",
       "      <th id=\"T_f8fc9_level0_row8\" class=\"row_heading level0 row8\" >lr</th>\n",
       "      <td id=\"T_f8fc9_row8_col0\" class=\"data row8 col0\" >Linear Regression</td>\n",
       "      <td id=\"T_f8fc9_row8_col1\" class=\"data row8 col1\" >7199.8784</td>\n",
       "      <td id=\"T_f8fc9_row8_col2\" class=\"data row8 col2\" >100736818.6667</td>\n",
       "      <td id=\"T_f8fc9_row8_col3\" class=\"data row8 col3\" >10036.7520</td>\n",
       "      <td id=\"T_f8fc9_row8_col4\" class=\"data row8 col4\" >0.6273</td>\n",
       "      <td id=\"T_f8fc9_row8_col5\" class=\"data row8 col5\" >0.2445</td>\n",
       "      <td id=\"T_f8fc9_row8_col6\" class=\"data row8 col6\" >0.1887</td>\n",
       "      <td id=\"T_f8fc9_row8_col7\" class=\"data row8 col7\" >1.6100</td>\n",
       "    </tr>\n",
       "    <tr>\n",
       "      <th id=\"T_f8fc9_level0_row9\" class=\"row_heading level0 row9\" >br</th>\n",
       "      <td id=\"T_f8fc9_row9_col0\" class=\"data row9 col0\" >Bayesian Ridge</td>\n",
       "      <td id=\"T_f8fc9_row9_col1\" class=\"data row9 col1\" >7199.6462</td>\n",
       "      <td id=\"T_f8fc9_row9_col2\" class=\"data row9 col2\" >100728760.0882</td>\n",
       "      <td id=\"T_f8fc9_row9_col3\" class=\"data row9 col3\" >10036.3520</td>\n",
       "      <td id=\"T_f8fc9_row9_col4\" class=\"data row9 col4\" >0.6273</td>\n",
       "      <td id=\"T_f8fc9_row9_col5\" class=\"data row9 col5\" >0.2445</td>\n",
       "      <td id=\"T_f8fc9_row9_col6\" class=\"data row9 col6\" >0.1886</td>\n",
       "      <td id=\"T_f8fc9_row9_col7\" class=\"data row9 col7\" >0.4933</td>\n",
       "    </tr>\n",
       "    <tr>\n",
       "      <th id=\"T_f8fc9_level0_row10\" class=\"row_heading level0 row10\" >huber</th>\n",
       "      <td id=\"T_f8fc9_row10_col0\" class=\"data row10 col0\" >Huber Regressor</td>\n",
       "      <td id=\"T_f8fc9_row10_col1\" class=\"data row10 col1\" >7177.2418</td>\n",
       "      <td id=\"T_f8fc9_row10_col2\" class=\"data row10 col2\" >101234320.7482</td>\n",
       "      <td id=\"T_f8fc9_row10_col3\" class=\"data row10 col3\" >10061.5054</td>\n",
       "      <td id=\"T_f8fc9_row10_col4\" class=\"data row10 col4\" >0.6255</td>\n",
       "      <td id=\"T_f8fc9_row10_col5\" class=\"data row10 col5\" >0.2450</td>\n",
       "      <td id=\"T_f8fc9_row10_col6\" class=\"data row10 col6\" >0.1884</td>\n",
       "      <td id=\"T_f8fc9_row10_col7\" class=\"data row10 col7\" >1.9167</td>\n",
       "    </tr>\n",
       "    <tr>\n",
       "      <th id=\"T_f8fc9_level0_row11\" class=\"row_heading level0 row11\" >dt</th>\n",
       "      <td id=\"T_f8fc9_row11_col0\" class=\"data row11 col0\" >Decision Tree Regressor</td>\n",
       "      <td id=\"T_f8fc9_row11_col1\" class=\"data row11 col1\" >7673.9548</td>\n",
       "      <td id=\"T_f8fc9_row11_col2\" class=\"data row11 col2\" >115863975.7133</td>\n",
       "      <td id=\"T_f8fc9_row11_col3\" class=\"data row11 col3\" >10763.9957</td>\n",
       "      <td id=\"T_f8fc9_row11_col4\" class=\"data row11 col4\" >0.5714</td>\n",
       "      <td id=\"T_f8fc9_row11_col5\" class=\"data row11 col5\" >0.2627</td>\n",
       "      <td id=\"T_f8fc9_row11_col6\" class=\"data row11 col6\" >0.1958</td>\n",
       "      <td id=\"T_f8fc9_row11_col7\" class=\"data row11 col7\" >0.6333</td>\n",
       "    </tr>\n",
       "    <tr>\n",
       "      <th id=\"T_f8fc9_level0_row12\" class=\"row_heading level0 row12\" >ada</th>\n",
       "      <td id=\"T_f8fc9_row12_col0\" class=\"data row12 col0\" >AdaBoost Regressor</td>\n",
       "      <td id=\"T_f8fc9_row12_col1\" class=\"data row12 col1\" >8242.6789</td>\n",
       "      <td id=\"T_f8fc9_row12_col2\" class=\"data row12 col2\" >128203638.7813</td>\n",
       "      <td id=\"T_f8fc9_row12_col3\" class=\"data row12 col3\" >11322.5127</td>\n",
       "      <td id=\"T_f8fc9_row12_col4\" class=\"data row12 col4\" >0.5257</td>\n",
       "      <td id=\"T_f8fc9_row12_col5\" class=\"data row12 col5\" >0.2689</td>\n",
       "      <td id=\"T_f8fc9_row12_col6\" class=\"data row12 col6\" >0.2125</td>\n",
       "      <td id=\"T_f8fc9_row12_col7\" class=\"data row12 col7\" >7.2267</td>\n",
       "    </tr>\n",
       "    <tr>\n",
       "      <th id=\"T_f8fc9_level0_row13\" class=\"row_heading level0 row13\" >omp</th>\n",
       "      <td id=\"T_f8fc9_row13_col0\" class=\"data row13 col0\" >Orthogonal Matching Pursuit</td>\n",
       "      <td id=\"T_f8fc9_row13_col1\" class=\"data row13 col1\" >8440.9555</td>\n",
       "      <td id=\"T_f8fc9_row13_col2\" class=\"data row13 col2\" >132244184.0257</td>\n",
       "      <td id=\"T_f8fc9_row13_col3\" class=\"data row13 col3\" >11499.7024</td>\n",
       "      <td id=\"T_f8fc9_row13_col4\" class=\"data row13 col4\" >0.5108</td>\n",
       "      <td id=\"T_f8fc9_row13_col5\" class=\"data row13 col5\" >0.2835</td>\n",
       "      <td id=\"T_f8fc9_row13_col6\" class=\"data row13 col6\" >0.2273</td>\n",
       "      <td id=\"T_f8fc9_row13_col7\" class=\"data row13 col7\" >0.2633</td>\n",
       "    </tr>\n",
       "    <tr>\n",
       "      <th id=\"T_f8fc9_level0_row14\" class=\"row_heading level0 row14\" >par</th>\n",
       "      <td id=\"T_f8fc9_row14_col0\" class=\"data row14 col0\" >Passive Aggressive Regressor</td>\n",
       "      <td id=\"T_f8fc9_row14_col1\" class=\"data row14 col1\" >10573.2034</td>\n",
       "      <td id=\"T_f8fc9_row14_col2\" class=\"data row14 col2\" >195542164.3849</td>\n",
       "      <td id=\"T_f8fc9_row14_col3\" class=\"data row14 col3\" >13949.3099</td>\n",
       "      <td id=\"T_f8fc9_row14_col4\" class=\"data row14 col4\" >0.2758</td>\n",
       "      <td id=\"T_f8fc9_row14_col5\" class=\"data row14 col5\" >0.3457</td>\n",
       "      <td id=\"T_f8fc9_row14_col6\" class=\"data row14 col6\" >0.2718</td>\n",
       "      <td id=\"T_f8fc9_row14_col7\" class=\"data row14 col7\" >0.3700</td>\n",
       "    </tr>\n",
       "    <tr>\n",
       "      <th id=\"T_f8fc9_level0_row15\" class=\"row_heading level0 row15\" >lasso</th>\n",
       "      <td id=\"T_f8fc9_row15_col0\" class=\"data row15 col0\" >Lasso Regression</td>\n",
       "      <td id=\"T_f8fc9_row15_col1\" class=\"data row15 col1\" >12732.1276</td>\n",
       "      <td id=\"T_f8fc9_row15_col2\" class=\"data row15 col2\" >275318325.3333</td>\n",
       "      <td id=\"T_f8fc9_row15_col3\" class=\"data row15 col3\" >16592.5553</td>\n",
       "      <td id=\"T_f8fc9_row15_col4\" class=\"data row15 col4\" >-0.0185</td>\n",
       "      <td id=\"T_f8fc9_row15_col5\" class=\"data row15 col5\" >0.3986</td>\n",
       "      <td id=\"T_f8fc9_row15_col6\" class=\"data row15 col6\" >0.3470</td>\n",
       "      <td id=\"T_f8fc9_row15_col7\" class=\"data row15 col7\" >1.2267</td>\n",
       "    </tr>\n",
       "    <tr>\n",
       "      <th id=\"T_f8fc9_level0_row16\" class=\"row_heading level0 row16\" >en</th>\n",
       "      <td id=\"T_f8fc9_row16_col0\" class=\"data row16 col0\" >Elastic Net</td>\n",
       "      <td id=\"T_f8fc9_row16_col1\" class=\"data row16 col1\" >12732.1276</td>\n",
       "      <td id=\"T_f8fc9_row16_col2\" class=\"data row16 col2\" >275318325.3333</td>\n",
       "      <td id=\"T_f8fc9_row16_col3\" class=\"data row16 col3\" >16592.5553</td>\n",
       "      <td id=\"T_f8fc9_row16_col4\" class=\"data row16 col4\" >-0.0185</td>\n",
       "      <td id=\"T_f8fc9_row16_col5\" class=\"data row16 col5\" >0.3986</td>\n",
       "      <td id=\"T_f8fc9_row16_col6\" class=\"data row16 col6\" >0.3470</td>\n",
       "      <td id=\"T_f8fc9_row16_col7\" class=\"data row16 col7\" >0.2200</td>\n",
       "    </tr>\n",
       "    <tr>\n",
       "      <th id=\"T_f8fc9_level0_row17\" class=\"row_heading level0 row17\" >llar</th>\n",
       "      <td id=\"T_f8fc9_row17_col0\" class=\"data row17 col0\" >Lasso Least Angle Regression</td>\n",
       "      <td id=\"T_f8fc9_row17_col1\" class=\"data row17 col1\" >12732.1274</td>\n",
       "      <td id=\"T_f8fc9_row17_col2\" class=\"data row17 col2\" >275318345.9705</td>\n",
       "      <td id=\"T_f8fc9_row17_col3\" class=\"data row17 col3\" >16592.5558</td>\n",
       "      <td id=\"T_f8fc9_row17_col4\" class=\"data row17 col4\" >-0.0185</td>\n",
       "      <td id=\"T_f8fc9_row17_col5\" class=\"data row17 col5\" >0.3986</td>\n",
       "      <td id=\"T_f8fc9_row17_col6\" class=\"data row17 col6\" >0.3470</td>\n",
       "      <td id=\"T_f8fc9_row17_col7\" class=\"data row17 col7\" >0.2633</td>\n",
       "    </tr>\n",
       "    <tr>\n",
       "      <th id=\"T_f8fc9_level0_row18\" class=\"row_heading level0 row18\" >lar</th>\n",
       "      <td id=\"T_f8fc9_row18_col0\" class=\"data row18 col0\" >Least Angle Regression</td>\n",
       "      <td id=\"T_f8fc9_row18_col1\" class=\"data row18 col1\" >15078.4536</td>\n",
       "      <td id=\"T_f8fc9_row18_col2\" class=\"data row18 col2\" >631484854.0155</td>\n",
       "      <td id=\"T_f8fc9_row18_col3\" class=\"data row18 col3\" >20410.2570</td>\n",
       "      <td id=\"T_f8fc9_row18_col4\" class=\"data row18 col4\" >-1.3567</td>\n",
       "      <td id=\"T_f8fc9_row18_col5\" class=\"data row18 col5\" >0.4410</td>\n",
       "      <td id=\"T_f8fc9_row18_col6\" class=\"data row18 col6\" >0.3964</td>\n",
       "      <td id=\"T_f8fc9_row18_col7\" class=\"data row18 col7\" >0.2733</td>\n",
       "    </tr>\n",
       "  </tbody>\n",
       "</table>\n"
      ],
      "text/plain": [
       "<pandas.io.formats.style.Styler at 0x20bc9df8888>"
      ]
     },
     "metadata": {},
     "output_type": "display_data"
    }
   ],
   "source": [
    "# comapare all base the models \n",
    "best = compare_models()"
   ]
  },
  {
   "cell_type": "markdown",
   "id": "0f291952",
   "metadata": {},
   "source": [
    "1 - Catboost"
   ]
  },
  {
   "cell_type": "code",
   "execution_count": 150,
   "id": "d32fc2b3",
   "metadata": {},
   "outputs": [
    {
     "data": {
      "text/html": [
       "<style type=\"text/css\">\n",
       "#T_a98f2_row3_col0, #T_a98f2_row3_col1, #T_a98f2_row3_col2, #T_a98f2_row3_col3, #T_a98f2_row3_col4, #T_a98f2_row3_col5 {\n",
       "  background: yellow;\n",
       "}\n",
       "</style>\n",
       "<table id=\"T_a98f2_\">\n",
       "  <thead>\n",
       "    <tr>\n",
       "      <th class=\"blank level0\" >&nbsp;</th>\n",
       "      <th class=\"col_heading level0 col0\" >MAE</th>\n",
       "      <th class=\"col_heading level0 col1\" >MSE</th>\n",
       "      <th class=\"col_heading level0 col2\" >RMSE</th>\n",
       "      <th class=\"col_heading level0 col3\" >R2</th>\n",
       "      <th class=\"col_heading level0 col4\" >RMSLE</th>\n",
       "      <th class=\"col_heading level0 col5\" >MAPE</th>\n",
       "    </tr>\n",
       "  </thead>\n",
       "  <tbody>\n",
       "    <tr>\n",
       "      <th id=\"T_a98f2_level0_row0\" class=\"row_heading level0 row0\" >0</th>\n",
       "      <td id=\"T_a98f2_row0_col0\" class=\"data row0 col0\" >5257.4132</td>\n",
       "      <td id=\"T_a98f2_row0_col1\" class=\"data row0 col1\" >54461496.7080</td>\n",
       "      <td id=\"T_a98f2_row0_col2\" class=\"data row0 col2\" >7379.8033</td>\n",
       "      <td id=\"T_a98f2_row0_col3\" class=\"data row0 col3\" >0.7964</td>\n",
       "      <td id=\"T_a98f2_row0_col4\" class=\"data row0 col4\" >0.1797</td>\n",
       "      <td id=\"T_a98f2_row0_col5\" class=\"data row0 col5\" >0.1352</td>\n",
       "    </tr>\n",
       "    <tr>\n",
       "      <th id=\"T_a98f2_level0_row1\" class=\"row_heading level0 row1\" >1</th>\n",
       "      <td id=\"T_a98f2_row1_col0\" class=\"data row1 col0\" >5305.5974</td>\n",
       "      <td id=\"T_a98f2_row1_col1\" class=\"data row1 col1\" >54445101.1756</td>\n",
       "      <td id=\"T_a98f2_row1_col2\" class=\"data row1 col2\" >7378.6924</td>\n",
       "      <td id=\"T_a98f2_row1_col3\" class=\"data row1 col3\" >0.8001</td>\n",
       "      <td id=\"T_a98f2_row1_col4\" class=\"data row1 col4\" >0.1793</td>\n",
       "      <td id=\"T_a98f2_row1_col5\" class=\"data row1 col5\" >0.1359</td>\n",
       "    </tr>\n",
       "    <tr>\n",
       "      <th id=\"T_a98f2_level0_row2\" class=\"row_heading level0 row2\" >2</th>\n",
       "      <td id=\"T_a98f2_row2_col0\" class=\"data row2 col0\" >5263.5849</td>\n",
       "      <td id=\"T_a98f2_row2_col1\" class=\"data row2 col1\" >53805474.8918</td>\n",
       "      <td id=\"T_a98f2_row2_col2\" class=\"data row2 col2\" >7335.2215</td>\n",
       "      <td id=\"T_a98f2_row2_col3\" class=\"data row2 col3\" >0.8015</td>\n",
       "      <td id=\"T_a98f2_row2_col4\" class=\"data row2 col4\" >0.1782</td>\n",
       "      <td id=\"T_a98f2_row2_col5\" class=\"data row2 col5\" >0.1351</td>\n",
       "    </tr>\n",
       "    <tr>\n",
       "      <th id=\"T_a98f2_level0_row3\" class=\"row_heading level0 row3\" >Mean</th>\n",
       "      <td id=\"T_a98f2_row3_col0\" class=\"data row3 col0\" >5275.5319</td>\n",
       "      <td id=\"T_a98f2_row3_col1\" class=\"data row3 col1\" >54237357.5918</td>\n",
       "      <td id=\"T_a98f2_row3_col2\" class=\"data row3 col2\" >7364.5724</td>\n",
       "      <td id=\"T_a98f2_row3_col3\" class=\"data row3 col3\" >0.7993</td>\n",
       "      <td id=\"T_a98f2_row3_col4\" class=\"data row3 col4\" >0.1791</td>\n",
       "      <td id=\"T_a98f2_row3_col5\" class=\"data row3 col5\" >0.1354</td>\n",
       "    </tr>\n",
       "    <tr>\n",
       "      <th id=\"T_a98f2_level0_row4\" class=\"row_heading level0 row4\" >SD</th>\n",
       "      <td id=\"T_a98f2_row4_col0\" class=\"data row4 col0\" >21.4083</td>\n",
       "      <td id=\"T_a98f2_row4_col1\" class=\"data row4 col1\" >305460.5302</td>\n",
       "      <td id=\"T_a98f2_row4_col2\" class=\"data row4 col2\" >20.7592</td>\n",
       "      <td id=\"T_a98f2_row4_col3\" class=\"data row4 col3\" >0.0021</td>\n",
       "      <td id=\"T_a98f2_row4_col4\" class=\"data row4 col4\" >0.0006</td>\n",
       "      <td id=\"T_a98f2_row4_col5\" class=\"data row4 col5\" >0.0004</td>\n",
       "    </tr>\n",
       "  </tbody>\n",
       "</table>\n"
      ],
      "text/plain": [
       "<pandas.io.formats.style.Styler at 0x220d4fd3e08>"
      ]
     },
     "metadata": {},
     "output_type": "display_data"
    }
   ],
   "source": [
    "catb = create_model('catboost') #0.1791\n",
    "#catb_tuned = tune_model(catb,optimize = 'RMSLE')"
   ]
  },
  {
   "cell_type": "code",
   "execution_count": 44,
   "id": "6450e11d",
   "metadata": {},
   "outputs": [],
   "source": [
    "# Finalize the model\n",
    "catb_final = finalize_model(catb)"
   ]
  },
  {
   "cell_type": "markdown",
   "id": "2a40a934",
   "metadata": {},
   "source": [
    "2 - XGBoost"
   ]
  },
  {
   "cell_type": "code",
   "execution_count": 116,
   "id": "2468d5de",
   "metadata": {
    "scrolled": false
   },
   "outputs": [
    {
     "data": {
      "text/html": [
       "<style type=\"text/css\">\n",
       "#T_89a6c_row3_col0, #T_89a6c_row3_col1, #T_89a6c_row3_col2, #T_89a6c_row3_col3, #T_89a6c_row3_col4, #T_89a6c_row3_col5 {\n",
       "  background: yellow;\n",
       "}\n",
       "</style>\n",
       "<table id=\"T_89a6c_\">\n",
       "  <thead>\n",
       "    <tr>\n",
       "      <th class=\"blank level0\" >&nbsp;</th>\n",
       "      <th class=\"col_heading level0 col0\" >MAE</th>\n",
       "      <th class=\"col_heading level0 col1\" >MSE</th>\n",
       "      <th class=\"col_heading level0 col2\" >RMSE</th>\n",
       "      <th class=\"col_heading level0 col3\" >R2</th>\n",
       "      <th class=\"col_heading level0 col4\" >RMSLE</th>\n",
       "      <th class=\"col_heading level0 col5\" >MAPE</th>\n",
       "    </tr>\n",
       "  </thead>\n",
       "  <tbody>\n",
       "    <tr>\n",
       "      <th id=\"T_89a6c_level0_row0\" class=\"row_heading level0 row0\" >0</th>\n",
       "      <td id=\"T_89a6c_row0_col0\" class=\"data row0 col0\" >5208.7598</td>\n",
       "      <td id=\"T_89a6c_row0_col1\" class=\"data row0 col1\" >52927144.0000</td>\n",
       "      <td id=\"T_89a6c_row0_col2\" class=\"data row0 col2\" >7275.1045</td>\n",
       "      <td id=\"T_89a6c_row0_col3\" class=\"data row0 col3\" >0.8021</td>\n",
       "      <td id=\"T_89a6c_row0_col4\" class=\"data row0 col4\" >0.1793</td>\n",
       "      <td id=\"T_89a6c_row0_col5\" class=\"data row0 col5\" >0.1346</td>\n",
       "    </tr>\n",
       "    <tr>\n",
       "      <th id=\"T_89a6c_level0_row1\" class=\"row_heading level0 row1\" >1</th>\n",
       "      <td id=\"T_89a6c_row1_col0\" class=\"data row1 col0\" >5240.5093</td>\n",
       "      <td id=\"T_89a6c_row1_col1\" class=\"data row1 col1\" >52840544.0000</td>\n",
       "      <td id=\"T_89a6c_row1_col2\" class=\"data row1 col2\" >7269.1504</td>\n",
       "      <td id=\"T_89a6c_row1_col3\" class=\"data row1 col3\" >0.8060</td>\n",
       "      <td id=\"T_89a6c_row1_col4\" class=\"data row1 col4\" >0.1788</td>\n",
       "      <td id=\"T_89a6c_row1_col5\" class=\"data row1 col5\" >0.1351</td>\n",
       "    </tr>\n",
       "    <tr>\n",
       "      <th id=\"T_89a6c_level0_row2\" class=\"row_heading level0 row2\" >2</th>\n",
       "      <td id=\"T_89a6c_row2_col0\" class=\"data row2 col0\" >5207.1699</td>\n",
       "      <td id=\"T_89a6c_row2_col1\" class=\"data row2 col1\" >52558508.0000</td>\n",
       "      <td id=\"T_89a6c_row2_col2\" class=\"data row2 col2\" >7249.7246</td>\n",
       "      <td id=\"T_89a6c_row2_col3\" class=\"data row2 col3\" >0.8061</td>\n",
       "      <td id=\"T_89a6c_row2_col4\" class=\"data row2 col4\" >0.1781</td>\n",
       "      <td id=\"T_89a6c_row2_col5\" class=\"data row2 col5\" >0.1344</td>\n",
       "    </tr>\n",
       "    <tr>\n",
       "      <th id=\"T_89a6c_level0_row3\" class=\"row_heading level0 row3\" >Mean</th>\n",
       "      <td id=\"T_89a6c_row3_col0\" class=\"data row3 col0\" >5218.8130</td>\n",
       "      <td id=\"T_89a6c_row3_col1\" class=\"data row3 col1\" >52775398.6667</td>\n",
       "      <td id=\"T_89a6c_row3_col2\" class=\"data row3 col2\" >7264.6598</td>\n",
       "      <td id=\"T_89a6c_row3_col3\" class=\"data row3 col3\" >0.8047</td>\n",
       "      <td id=\"T_89a6c_row3_col4\" class=\"data row3 col4\" >0.1787</td>\n",
       "      <td id=\"T_89a6c_row3_col5\" class=\"data row3 col5\" >0.1347</td>\n",
       "    </tr>\n",
       "    <tr>\n",
       "      <th id=\"T_89a6c_level0_row4\" class=\"row_heading level0 row4\" >SD</th>\n",
       "      <td id=\"T_89a6c_row4_col0\" class=\"data row4 col0\" >15.3553</td>\n",
       "      <td id=\"T_89a6c_row4_col1\" class=\"data row4 col1\" >157387.1256</td>\n",
       "      <td id=\"T_89a6c_row4_col2\" class=\"data row4 col2\" >10.8369</td>\n",
       "      <td id=\"T_89a6c_row4_col3\" class=\"data row4 col3\" >0.0018</td>\n",
       "      <td id=\"T_89a6c_row4_col4\" class=\"data row4 col4\" >0.0005</td>\n",
       "      <td id=\"T_89a6c_row4_col5\" class=\"data row4 col5\" >0.0003</td>\n",
       "    </tr>\n",
       "  </tbody>\n",
       "</table>\n"
      ],
      "text/plain": [
       "<pandas.io.formats.style.Styler at 0x20bca123208>"
      ]
     },
     "metadata": {},
     "output_type": "display_data"
    }
   ],
   "source": [
    "xgb = create_model('xgboost') #0.1787\n",
    "#xgb_tuned = tune_model(xgb,optimize = 'RMSLE')"
   ]
  },
  {
   "cell_type": "code",
   "execution_count": 117,
   "id": "dd5ec182",
   "metadata": {},
   "outputs": [
    {
     "data": {
      "text/html": [
       "<style type=\"text/css\">\n",
       "#T_1774d_row3_col0, #T_1774d_row3_col1, #T_1774d_row3_col2, #T_1774d_row3_col3, #T_1774d_row3_col4, #T_1774d_row3_col5 {\n",
       "  background: yellow;\n",
       "}\n",
       "</style>\n",
       "<table id=\"T_1774d_\">\n",
       "  <thead>\n",
       "    <tr>\n",
       "      <th class=\"blank level0\" >&nbsp;</th>\n",
       "      <th class=\"col_heading level0 col0\" >MAE</th>\n",
       "      <th class=\"col_heading level0 col1\" >MSE</th>\n",
       "      <th class=\"col_heading level0 col2\" >RMSE</th>\n",
       "      <th class=\"col_heading level0 col3\" >R2</th>\n",
       "      <th class=\"col_heading level0 col4\" >RMSLE</th>\n",
       "      <th class=\"col_heading level0 col5\" >MAPE</th>\n",
       "    </tr>\n",
       "  </thead>\n",
       "  <tbody>\n",
       "    <tr>\n",
       "      <th id=\"T_1774d_level0_row0\" class=\"row_heading level0 row0\" >0</th>\n",
       "      <td id=\"T_1774d_row0_col0\" class=\"data row0 col0\" >5344.0933</td>\n",
       "      <td id=\"T_1774d_row0_col1\" class=\"data row0 col1\" >55507772.0000</td>\n",
       "      <td id=\"T_1774d_row0_col2\" class=\"data row0 col2\" >7450.3540</td>\n",
       "      <td id=\"T_1774d_row0_col3\" class=\"data row0 col3\" >0.7925</td>\n",
       "      <td id=\"T_1774d_row0_col4\" class=\"data row0 col4\" >0.1837</td>\n",
       "      <td id=\"T_1774d_row0_col5\" class=\"data row0 col5\" >0.1382</td>\n",
       "    </tr>\n",
       "    <tr>\n",
       "      <th id=\"T_1774d_level0_row1\" class=\"row_heading level0 row1\" >1</th>\n",
       "      <td id=\"T_1774d_row1_col0\" class=\"data row1 col0\" >5353.1035</td>\n",
       "      <td id=\"T_1774d_row1_col1\" class=\"data row1 col1\" >54833064.0000</td>\n",
       "      <td id=\"T_1774d_row1_col2\" class=\"data row1 col2\" >7404.9351</td>\n",
       "      <td id=\"T_1774d_row1_col3\" class=\"data row1 col3\" >0.7987</td>\n",
       "      <td id=\"T_1774d_row1_col4\" class=\"data row1 col4\" >0.1826</td>\n",
       "      <td id=\"T_1774d_row1_col5\" class=\"data row1 col5\" >0.1382</td>\n",
       "    </tr>\n",
       "    <tr>\n",
       "      <th id=\"T_1774d_level0_row2\" class=\"row_heading level0 row2\" >2</th>\n",
       "      <td id=\"T_1774d_row2_col0\" class=\"data row2 col0\" >5361.0034</td>\n",
       "      <td id=\"T_1774d_row2_col1\" class=\"data row2 col1\" >55373652.0000</td>\n",
       "      <td id=\"T_1774d_row2_col2\" class=\"data row2 col2\" >7441.3477</td>\n",
       "      <td id=\"T_1774d_row2_col3\" class=\"data row2 col3\" >0.7957</td>\n",
       "      <td id=\"T_1774d_row2_col4\" class=\"data row2 col4\" >0.1830</td>\n",
       "      <td id=\"T_1774d_row2_col5\" class=\"data row2 col5\" >0.1385</td>\n",
       "    </tr>\n",
       "    <tr>\n",
       "      <th id=\"T_1774d_level0_row3\" class=\"row_heading level0 row3\" >Mean</th>\n",
       "      <td id=\"T_1774d_row3_col0\" class=\"data row3 col0\" >5352.7334</td>\n",
       "      <td id=\"T_1774d_row3_col1\" class=\"data row3 col1\" >55238162.6667</td>\n",
       "      <td id=\"T_1774d_row3_col2\" class=\"data row3 col2\" >7432.2122</td>\n",
       "      <td id=\"T_1774d_row3_col3\" class=\"data row3 col3\" >0.7956</td>\n",
       "      <td id=\"T_1774d_row3_col4\" class=\"data row3 col4\" >0.1831</td>\n",
       "      <td id=\"T_1774d_row3_col5\" class=\"data row3 col5\" >0.1383</td>\n",
       "    </tr>\n",
       "    <tr>\n",
       "      <th id=\"T_1774d_level0_row4\" class=\"row_heading level0 row4\" >SD</th>\n",
       "      <td id=\"T_1774d_row4_col0\" class=\"data row4 col0\" >6.9085</td>\n",
       "      <td id=\"T_1774d_row4_col1\" class=\"data row4 col1\" >291634.1783</td>\n",
       "      <td id=\"T_1774d_row4_col2\" class=\"data row4 col2\" >19.6352</td>\n",
       "      <td id=\"T_1774d_row4_col3\" class=\"data row4 col3\" >0.0025</td>\n",
       "      <td id=\"T_1774d_row4_col4\" class=\"data row4 col4\" >0.0005</td>\n",
       "      <td id=\"T_1774d_row4_col5\" class=\"data row4 col5\" >0.0001</td>\n",
       "    </tr>\n",
       "  </tbody>\n",
       "</table>\n"
      ],
      "text/plain": [
       "<pandas.io.formats.style.Styler at 0x20bc7f5bd48>"
      ]
     },
     "metadata": {},
     "output_type": "display_data"
    }
   ],
   "source": [
    "xgb_tuned = tune_model(xgb,optimize = 'RMSLE')"
   ]
  },
  {
   "cell_type": "code",
   "execution_count": 20,
   "id": "a017ea4c",
   "metadata": {},
   "outputs": [],
   "source": [
    "# Finalize the model\n",
    "xgb_final = finalize_model(xgb)"
   ]
  },
  {
   "cell_type": "code",
   "execution_count": 121,
   "id": "f71392cc",
   "metadata": {},
   "outputs": [
    {
     "data": {
      "text/plain": [
       "PowerTransformedTargetRegressor(base_score=None, booster='gbtree',\n",
       "                                colsample_bylevel=None, colsample_bynode=None,\n",
       "                                colsample_bytree=None, gamma=None, gpu_id=None,\n",
       "                                importance_type='gain',\n",
       "                                interaction_constraints=None,\n",
       "                                learning_rate=None, max_delta_step=None,\n",
       "                                max_depth=None, min_child_weight=None,\n",
       "                                missing=nan, monotone_constraints=None,\n",
       "                                n_estimators=100, n_jobs=-1,\n",
       "                                nu...\n",
       "                                                       missing=nan,\n",
       "                                                       monotone_constraints=None,\n",
       "                                                       n_estimators=100,\n",
       "                                                       n_jobs=-1,\n",
       "                                                       num_parallel_tree=None,\n",
       "                                                       objective='reg:squarederror',\n",
       "                                                       random_state=123,\n",
       "                                                       reg_alpha=None,\n",
       "                                                       reg_lambda=None,\n",
       "                                                       scale_pos_weight=None,\n",
       "                                                       subsample=None,\n",
       "                                                       tree_method='auto',\n",
       "                                                       validate_parameters=None,\n",
       "                                                       verbosity=0),\n",
       "                                scale_pos_weight=None, subsample=None,\n",
       "                                tree_method='auto', validate_parameters=None,\n",
       "                                verbosity=0)"
      ]
     },
     "execution_count": 121,
     "metadata": {},
     "output_type": "execute_result"
    }
   ],
   "source": [
    "(xgb_final)"
   ]
  },
  {
   "cell_type": "code",
   "execution_count": 118,
   "id": "805a4aea",
   "metadata": {},
   "outputs": [
    {
     "data": {
      "application/vnd.jupyter.widget-view+json": {
       "model_id": "ed4b3b80eb8642ab8fd4bc00abede22b",
       "version_major": 2,
       "version_minor": 0
      },
      "text/plain": [
       "interactive(children=(ToggleButtons(description='Plot Type:', icons=('',), options=(('Hyperparameters', 'param…"
      ]
     },
     "metadata": {},
     "output_type": "display_data"
    }
   ],
   "source": [
    "evaluate_model(xgb_tuned)"
   ]
  },
  {
   "cell_type": "markdown",
   "id": "a6685624",
   "metadata": {},
   "source": [
    "3 - LGMB"
   ]
  },
  {
   "cell_type": "code",
   "execution_count": 153,
   "id": "1ee1c84a",
   "metadata": {
    "scrolled": false
   },
   "outputs": [
    {
     "data": {
      "text/html": [
       "<style type=\"text/css\">\n",
       "#T_d5ee6_row3_col0, #T_d5ee6_row3_col1, #T_d5ee6_row3_col2, #T_d5ee6_row3_col3, #T_d5ee6_row3_col4, #T_d5ee6_row3_col5 {\n",
       "  background: yellow;\n",
       "}\n",
       "</style>\n",
       "<table id=\"T_d5ee6_\">\n",
       "  <thead>\n",
       "    <tr>\n",
       "      <th class=\"blank level0\" >&nbsp;</th>\n",
       "      <th class=\"col_heading level0 col0\" >MAE</th>\n",
       "      <th class=\"col_heading level0 col1\" >MSE</th>\n",
       "      <th class=\"col_heading level0 col2\" >RMSE</th>\n",
       "      <th class=\"col_heading level0 col3\" >R2</th>\n",
       "      <th class=\"col_heading level0 col4\" >RMSLE</th>\n",
       "      <th class=\"col_heading level0 col5\" >MAPE</th>\n",
       "    </tr>\n",
       "  </thead>\n",
       "  <tbody>\n",
       "    <tr>\n",
       "      <th id=\"T_d5ee6_level0_row0\" class=\"row_heading level0 row0\" >0</th>\n",
       "      <td id=\"T_d5ee6_row0_col0\" class=\"data row0 col0\" >5869.8920</td>\n",
       "      <td id=\"T_d5ee6_row0_col1\" class=\"data row0 col1\" >66289128.6572</td>\n",
       "      <td id=\"T_d5ee6_row0_col2\" class=\"data row0 col2\" >8141.8136</td>\n",
       "      <td id=\"T_d5ee6_row0_col3\" class=\"data row0 col3\" >0.7522</td>\n",
       "      <td id=\"T_d5ee6_row0_col4\" class=\"data row0 col4\" >0.1972</td>\n",
       "      <td id=\"T_d5ee6_row0_col5\" class=\"data row0 col5\" >0.1508</td>\n",
       "    </tr>\n",
       "    <tr>\n",
       "      <th id=\"T_d5ee6_level0_row1\" class=\"row_heading level0 row1\" >1</th>\n",
       "      <td id=\"T_d5ee6_row1_col0\" class=\"data row1 col0\" >5905.9586</td>\n",
       "      <td id=\"T_d5ee6_row1_col1\" class=\"data row1 col1\" >66750157.2920</td>\n",
       "      <td id=\"T_d5ee6_row1_col2\" class=\"data row1 col2\" >8170.0769</td>\n",
       "      <td id=\"T_d5ee6_row1_col3\" class=\"data row1 col3\" >0.7549</td>\n",
       "      <td id=\"T_d5ee6_row1_col4\" class=\"data row1 col4\" >0.1979</td>\n",
       "      <td id=\"T_d5ee6_row1_col5\" class=\"data row1 col5\" >0.1515</td>\n",
       "    </tr>\n",
       "    <tr>\n",
       "      <th id=\"T_d5ee6_level0_row2\" class=\"row_heading level0 row2\" >2</th>\n",
       "      <td id=\"T_d5ee6_row2_col0\" class=\"data row2 col0\" >5872.2797</td>\n",
       "      <td id=\"T_d5ee6_row2_col1\" class=\"data row2 col1\" >65890828.9665</td>\n",
       "      <td id=\"T_d5ee6_row2_col2\" class=\"data row2 col2\" >8117.3166</td>\n",
       "      <td id=\"T_d5ee6_row2_col3\" class=\"data row2 col3\" >0.7569</td>\n",
       "      <td id=\"T_d5ee6_row2_col4\" class=\"data row2 col4\" >0.1967</td>\n",
       "      <td id=\"T_d5ee6_row2_col5\" class=\"data row2 col5\" >0.1509</td>\n",
       "    </tr>\n",
       "    <tr>\n",
       "      <th id=\"T_d5ee6_level0_row3\" class=\"row_heading level0 row3\" >Mean</th>\n",
       "      <td id=\"T_d5ee6_row3_col0\" class=\"data row3 col0\" >5882.7101</td>\n",
       "      <td id=\"T_d5ee6_row3_col1\" class=\"data row3 col1\" >66310038.3052</td>\n",
       "      <td id=\"T_d5ee6_row3_col2\" class=\"data row3 col2\" >8143.0691</td>\n",
       "      <td id=\"T_d5ee6_row3_col3\" class=\"data row3 col3\" >0.7547</td>\n",
       "      <td id=\"T_d5ee6_row3_col4\" class=\"data row3 col4\" >0.1972</td>\n",
       "      <td id=\"T_d5ee6_row3_col5\" class=\"data row3 col5\" >0.1510</td>\n",
       "    </tr>\n",
       "    <tr>\n",
       "      <th id=\"T_d5ee6_level0_row4\" class=\"row_heading level0 row4\" >SD</th>\n",
       "      <td id=\"T_d5ee6_row4_col0\" class=\"data row4 col0\" >16.4680</td>\n",
       "      <td id=\"T_d5ee6_row4_col1\" class=\"data row4 col1\" >351130.7475</td>\n",
       "      <td id=\"T_d5ee6_row4_col2\" class=\"data row4 col2\" >21.5576</td>\n",
       "      <td id=\"T_d5ee6_row4_col3\" class=\"data row4 col3\" >0.0019</td>\n",
       "      <td id=\"T_d5ee6_row4_col4\" class=\"data row4 col4\" >0.0005</td>\n",
       "      <td id=\"T_d5ee6_row4_col5\" class=\"data row4 col5\" >0.0003</td>\n",
       "    </tr>\n",
       "  </tbody>\n",
       "</table>\n"
      ],
      "text/plain": [
       "<pandas.io.formats.style.Styler at 0x220dfdd8908>"
      ]
     },
     "metadata": {},
     "output_type": "display_data"
    }
   ],
   "source": [
    "lgbm = create_model('lightgbm') #0.2285\n",
    "#lgbm_tuned = tune_model(lgbm)"
   ]
  },
  {
   "cell_type": "code",
   "execution_count": 26,
   "id": "edbffecf",
   "metadata": {},
   "outputs": [],
   "source": [
    "# Finalize the model\n",
    "lgbm_final = finalize_model(lgbm)"
   ]
  },
  {
   "cell_type": "markdown",
   "id": "2149683e",
   "metadata": {},
   "source": [
    "4 - Random Forest"
   ]
  },
  {
   "cell_type": "code",
   "execution_count": 27,
   "id": "f7a0a6da",
   "metadata": {},
   "outputs": [
    {
     "data": {
      "text/html": [
       "<style type=\"text/css\">\n",
       "#T_cc6fd_row3_col0, #T_cc6fd_row3_col1, #T_cc6fd_row3_col2, #T_cc6fd_row3_col3, #T_cc6fd_row3_col4, #T_cc6fd_row3_col5 {\n",
       "  background: yellow;\n",
       "}\n",
       "</style>\n",
       "<table id=\"T_cc6fd_\">\n",
       "  <thead>\n",
       "    <tr>\n",
       "      <th class=\"blank level0\" >&nbsp;</th>\n",
       "      <th class=\"col_heading level0 col0\" >MAE</th>\n",
       "      <th class=\"col_heading level0 col1\" >MSE</th>\n",
       "      <th class=\"col_heading level0 col2\" >RMSE</th>\n",
       "      <th class=\"col_heading level0 col3\" >R2</th>\n",
       "      <th class=\"col_heading level0 col4\" >RMSLE</th>\n",
       "      <th class=\"col_heading level0 col5\" >MAPE</th>\n",
       "    </tr>\n",
       "  </thead>\n",
       "  <tbody>\n",
       "    <tr>\n",
       "      <th id=\"T_cc6fd_level0_row0\" class=\"row_heading level0 row0\" >0</th>\n",
       "      <td id=\"T_cc6fd_row0_col0\" class=\"data row0 col0\" >5924.0214</td>\n",
       "      <td id=\"T_cc6fd_row0_col1\" class=\"data row0 col1\" >72430559.9987</td>\n",
       "      <td id=\"T_cc6fd_row0_col2\" class=\"data row0 col2\" >8510.6145</td>\n",
       "      <td id=\"T_cc6fd_row0_col3\" class=\"data row0 col3\" >0.7731</td>\n",
       "      <td id=\"T_cc6fd_row0_col4\" class=\"data row0 col4\" >0.2006</td>\n",
       "      <td id=\"T_cc6fd_row0_col5\" class=\"data row0 col5\" >0.1506</td>\n",
       "    </tr>\n",
       "    <tr>\n",
       "      <th id=\"T_cc6fd_level0_row1\" class=\"row_heading level0 row1\" >1</th>\n",
       "      <td id=\"T_cc6fd_row1_col0\" class=\"data row1 col0\" >5903.0165</td>\n",
       "      <td id=\"T_cc6fd_row1_col1\" class=\"data row1 col1\" >71354562.1814</td>\n",
       "      <td id=\"T_cc6fd_row1_col2\" class=\"data row1 col2\" >8447.1630</td>\n",
       "      <td id=\"T_cc6fd_row1_col3\" class=\"data row1 col3\" >0.7756</td>\n",
       "      <td id=\"T_cc6fd_row1_col4\" class=\"data row1 col4\" >0.2004</td>\n",
       "      <td id=\"T_cc6fd_row1_col5\" class=\"data row1 col5\" >0.1510</td>\n",
       "    </tr>\n",
       "    <tr>\n",
       "      <th id=\"T_cc6fd_level0_row2\" class=\"row_heading level0 row2\" >2</th>\n",
       "      <td id=\"T_cc6fd_row2_col0\" class=\"data row2 col0\" >5946.8521</td>\n",
       "      <td id=\"T_cc6fd_row2_col1\" class=\"data row2 col1\" >72707132.9801</td>\n",
       "      <td id=\"T_cc6fd_row2_col2\" class=\"data row2 col2\" >8526.8478</td>\n",
       "      <td id=\"T_cc6fd_row2_col3\" class=\"data row2 col3\" >0.7744</td>\n",
       "      <td id=\"T_cc6fd_row2_col4\" class=\"data row2 col4\" >0.1994</td>\n",
       "      <td id=\"T_cc6fd_row2_col5\" class=\"data row2 col5\" >0.1508</td>\n",
       "    </tr>\n",
       "    <tr>\n",
       "      <th id=\"T_cc6fd_level0_row3\" class=\"row_heading level0 row3\" >Mean</th>\n",
       "      <td id=\"T_cc6fd_row3_col0\" class=\"data row3 col0\" >5924.6300</td>\n",
       "      <td id=\"T_cc6fd_row3_col1\" class=\"data row3 col1\" >72164085.0534</td>\n",
       "      <td id=\"T_cc6fd_row3_col2\" class=\"data row3 col2\" >8494.8751</td>\n",
       "      <td id=\"T_cc6fd_row3_col3\" class=\"data row3 col3\" >0.7744</td>\n",
       "      <td id=\"T_cc6fd_row3_col4\" class=\"data row3 col4\" >0.2001</td>\n",
       "      <td id=\"T_cc6fd_row3_col5\" class=\"data row3 col5\" >0.1508</td>\n",
       "    </tr>\n",
       "    <tr>\n",
       "      <th id=\"T_cc6fd_level0_row4\" class=\"row_heading level0 row4\" >SD</th>\n",
       "      <td id=\"T_cc6fd_row4_col0\" class=\"data row4 col0\" >17.9010</td>\n",
       "      <td id=\"T_cc6fd_row4_col1\" class=\"data row4 col1\" >583448.7202</td>\n",
       "      <td id=\"T_cc6fd_row4_col2\" class=\"data row4 col2\" >34.3823</td>\n",
       "      <td id=\"T_cc6fd_row4_col3\" class=\"data row4 col3\" >0.0010</td>\n",
       "      <td id=\"T_cc6fd_row4_col4\" class=\"data row4 col4\" >0.0005</td>\n",
       "      <td id=\"T_cc6fd_row4_col5\" class=\"data row4 col5\" >0.0001</td>\n",
       "    </tr>\n",
       "  </tbody>\n",
       "</table>\n"
      ],
      "text/plain": [
       "<pandas.io.formats.style.Styler at 0x220de1915c8>"
      ]
     },
     "metadata": {},
     "output_type": "display_data"
    }
   ],
   "source": [
    "rf = create_model('rf') #0.2285"
   ]
  },
  {
   "cell_type": "markdown",
   "id": "5e47917e",
   "metadata": {},
   "source": [
    "### Stacking Models"
   ]
  },
  {
   "cell_type": "code",
   "execution_count": 156,
   "id": "fee51b14",
   "metadata": {
    "scrolled": true
   },
   "outputs": [
    {
     "data": {
      "text/html": [
       "<style type=\"text/css\">\n",
       "#T_58202_row3_col0, #T_58202_row3_col1, #T_58202_row3_col2, #T_58202_row3_col3, #T_58202_row3_col4, #T_58202_row3_col5 {\n",
       "  background: yellow;\n",
       "}\n",
       "</style>\n",
       "<table id=\"T_58202_\">\n",
       "  <thead>\n",
       "    <tr>\n",
       "      <th class=\"blank level0\" >&nbsp;</th>\n",
       "      <th class=\"col_heading level0 col0\" >MAE</th>\n",
       "      <th class=\"col_heading level0 col1\" >MSE</th>\n",
       "      <th class=\"col_heading level0 col2\" >RMSE</th>\n",
       "      <th class=\"col_heading level0 col3\" >R2</th>\n",
       "      <th class=\"col_heading level0 col4\" >RMSLE</th>\n",
       "      <th class=\"col_heading level0 col5\" >MAPE</th>\n",
       "    </tr>\n",
       "  </thead>\n",
       "  <tbody>\n",
       "    <tr>\n",
       "      <th id=\"T_58202_level0_row0\" class=\"row_heading level0 row0\" >0</th>\n",
       "      <td id=\"T_58202_row0_col0\" class=\"data row0 col0\" >5133.8196</td>\n",
       "      <td id=\"T_58202_row0_col1\" class=\"data row0 col1\" >51362042.9196</td>\n",
       "      <td id=\"T_58202_row0_col2\" class=\"data row0 col2\" >7166.7317</td>\n",
       "      <td id=\"T_58202_row0_col3\" class=\"data row0 col3\" >0.8080</td>\n",
       "      <td id=\"T_58202_row0_col4\" class=\"data row0 col4\" >0.1772</td>\n",
       "      <td id=\"T_58202_row0_col5\" class=\"data row0 col5\" >0.1329</td>\n",
       "    </tr>\n",
       "    <tr>\n",
       "      <th id=\"T_58202_level0_row1\" class=\"row_heading level0 row1\" >1</th>\n",
       "      <td id=\"T_58202_row1_col0\" class=\"data row1 col0\" >5174.8833</td>\n",
       "      <td id=\"T_58202_row1_col1\" class=\"data row1 col1\" >51332042.3024</td>\n",
       "      <td id=\"T_58202_row1_col2\" class=\"data row1 col2\" >7164.6383</td>\n",
       "      <td id=\"T_58202_row1_col3\" class=\"data row1 col3\" >0.8115</td>\n",
       "      <td id=\"T_58202_row1_col4\" class=\"data row1 col4\" >0.1763</td>\n",
       "      <td id=\"T_58202_row1_col5\" class=\"data row1 col5\" >0.1333</td>\n",
       "    </tr>\n",
       "    <tr>\n",
       "      <th id=\"T_58202_level0_row2\" class=\"row_heading level0 row2\" >2</th>\n",
       "      <td id=\"T_58202_row2_col0\" class=\"data row2 col0\" >5138.1086</td>\n",
       "      <td id=\"T_58202_row2_col1\" class=\"data row2 col1\" >50984432.8707</td>\n",
       "      <td id=\"T_58202_row2_col2\" class=\"data row2 col2\" >7140.3384</td>\n",
       "      <td id=\"T_58202_row2_col3\" class=\"data row2 col3\" >0.8119</td>\n",
       "      <td id=\"T_58202_row2_col4\" class=\"data row2 col4\" >0.1756</td>\n",
       "      <td id=\"T_58202_row2_col5\" class=\"data row2 col5\" >0.1326</td>\n",
       "    </tr>\n",
       "    <tr>\n",
       "      <th id=\"T_58202_level0_row3\" class=\"row_heading level0 row3\" >Mean</th>\n",
       "      <td id=\"T_58202_row3_col0\" class=\"data row3 col0\" >5148.9372</td>\n",
       "      <td id=\"T_58202_row3_col1\" class=\"data row3 col1\" >51226172.6976</td>\n",
       "      <td id=\"T_58202_row3_col2\" class=\"data row3 col2\" >7157.2361</td>\n",
       "      <td id=\"T_58202_row3_col3\" class=\"data row3 col3\" >0.8105</td>\n",
       "      <td id=\"T_58202_row3_col4\" class=\"data row3 col4\" >0.1763</td>\n",
       "      <td id=\"T_58202_row3_col5\" class=\"data row3 col5\" >0.1330</td>\n",
       "    </tr>\n",
       "    <tr>\n",
       "      <th id=\"T_58202_level0_row4\" class=\"row_heading level0 row4\" >SD</th>\n",
       "      <td id=\"T_58202_row4_col0\" class=\"data row4 col0\" >18.4301</td>\n",
       "      <td id=\"T_58202_row4_col1\" class=\"data row4 col1\" >171374.0882</td>\n",
       "      <td id=\"T_58202_row4_col2\" class=\"data row4 col2\" >11.9790</td>\n",
       "      <td id=\"T_58202_row4_col3\" class=\"data row4 col3\" >0.0018</td>\n",
       "      <td id=\"T_58202_row4_col4\" class=\"data row4 col4\" >0.0006</td>\n",
       "      <td id=\"T_58202_row4_col5\" class=\"data row4 col5\" >0.0003</td>\n",
       "    </tr>\n",
       "  </tbody>\n",
       "</table>\n"
      ],
      "text/plain": [
       "<pandas.io.formats.style.Styler at 0x220dda84e88>"
      ]
     },
     "metadata": {},
     "output_type": "display_data"
    }
   ],
   "source": [
    "# stack trained models\n",
    "stacked_models = stack_models(estimator_list=[catb,xgb])\n",
    "# stack trained models\n",
    "#stacked_models = stack_models(estimator_list=[catb,lgbm,xgb],meta_model = xgb)"
   ]
  },
  {
   "cell_type": "code",
   "execution_count": 157,
   "id": "e453ec2c",
   "metadata": {},
   "outputs": [],
   "source": [
    "#Test predictions\n",
    "test_predictions = predict_model(stacked_models, data=test)"
   ]
  },
  {
   "cell_type": "code",
   "execution_count": 158,
   "id": "3f98fdf6",
   "metadata": {},
   "outputs": [],
   "source": [
    "# submission file\n",
    "sub_stack = test_predictions[['ID','Label']]\n",
    "sub_stack.rename({'Label':'Sales'},axis=1,inplace=True)"
   ]
  },
  {
   "cell_type": "code",
   "execution_count": 159,
   "id": "695fc992",
   "metadata": {},
   "outputs": [],
   "source": [
    "sub_stack['Sales'] = sub_stack['Sales'].round(2)"
   ]
  },
  {
   "cell_type": "code",
   "execution_count": 166,
   "id": "090f53cc",
   "metadata": {},
   "outputs": [],
   "source": [
    "sub_stack.to_csv('final.csv',index=False)"
   ]
  },
  {
   "cell_type": "code",
   "execution_count": 167,
   "id": "9ecf3720",
   "metadata": {},
   "outputs": [
    {
     "data": {
      "text/html": [
       "<div>\n",
       "<style scoped>\n",
       "    .dataframe tbody tr th:only-of-type {\n",
       "        vertical-align: middle;\n",
       "    }\n",
       "\n",
       "    .dataframe tbody tr th {\n",
       "        vertical-align: top;\n",
       "    }\n",
       "\n",
       "    .dataframe thead th {\n",
       "        text-align: right;\n",
       "    }\n",
       "</style>\n",
       "<table border=\"1\" class=\"dataframe\">\n",
       "  <thead>\n",
       "    <tr style=\"text-align: right;\">\n",
       "      <th></th>\n",
       "      <th>ID</th>\n",
       "      <th>Sales</th>\n",
       "    </tr>\n",
       "  </thead>\n",
       "  <tbody>\n",
       "    <tr>\n",
       "      <th>0</th>\n",
       "      <td>T1188341</td>\n",
       "      <td>52764.48</td>\n",
       "    </tr>\n",
       "    <tr>\n",
       "      <th>1</th>\n",
       "      <td>T1188342</td>\n",
       "      <td>40402.61</td>\n",
       "    </tr>\n",
       "    <tr>\n",
       "      <th>2</th>\n",
       "      <td>T1188343</td>\n",
       "      <td>78114.16</td>\n",
       "    </tr>\n",
       "    <tr>\n",
       "      <th>3</th>\n",
       "      <td>T1188344</td>\n",
       "      <td>38922.65</td>\n",
       "    </tr>\n",
       "    <tr>\n",
       "      <th>4</th>\n",
       "      <td>T1188345</td>\n",
       "      <td>40917.10</td>\n",
       "    </tr>\n",
       "    <tr>\n",
       "      <th>...</th>\n",
       "      <td>...</td>\n",
       "      <td>...</td>\n",
       "    </tr>\n",
       "    <tr>\n",
       "      <th>22260</th>\n",
       "      <td>T1210601</td>\n",
       "      <td>17308.45</td>\n",
       "    </tr>\n",
       "    <tr>\n",
       "      <th>22261</th>\n",
       "      <td>T1210602</td>\n",
       "      <td>50717.36</td>\n",
       "    </tr>\n",
       "    <tr>\n",
       "      <th>22262</th>\n",
       "      <td>T1210603</td>\n",
       "      <td>40836.37</td>\n",
       "    </tr>\n",
       "    <tr>\n",
       "      <th>22263</th>\n",
       "      <td>T1210604</td>\n",
       "      <td>26780.30</td>\n",
       "    </tr>\n",
       "    <tr>\n",
       "      <th>22264</th>\n",
       "      <td>T1210605</td>\n",
       "      <td>25036.05</td>\n",
       "    </tr>\n",
       "  </tbody>\n",
       "</table>\n",
       "<p>22265 rows × 2 columns</p>\n",
       "</div>"
      ],
      "text/plain": [
       "             ID     Sales\n",
       "0      T1188341  52764.48\n",
       "1      T1188342  40402.61\n",
       "2      T1188343  78114.16\n",
       "3      T1188344  38922.65\n",
       "4      T1188345  40917.10\n",
       "...         ...       ...\n",
       "22260  T1210601  17308.45\n",
       "22261  T1210602  50717.36\n",
       "22262  T1210603  40836.37\n",
       "22263  T1210604  26780.30\n",
       "22264  T1210605  25036.05\n",
       "\n",
       "[22265 rows x 2 columns]"
      ]
     },
     "execution_count": 167,
     "metadata": {},
     "output_type": "execute_result"
    }
   ],
   "source": [
    "sub_stack"
   ]
  },
  {
   "cell_type": "markdown",
   "id": "0693e03a",
   "metadata": {},
   "source": [
    "### Blending Models"
   ]
  },
  {
   "cell_type": "code",
   "execution_count": 162,
   "id": "b47a1040",
   "metadata": {},
   "outputs": [
    {
     "data": {
      "text/html": [
       "<style type=\"text/css\">\n",
       "#T_13d57_row3_col0, #T_13d57_row3_col1, #T_13d57_row3_col2, #T_13d57_row3_col3, #T_13d57_row3_col4, #T_13d57_row3_col5 {\n",
       "  background: yellow;\n",
       "}\n",
       "</style>\n",
       "<table id=\"T_13d57_\">\n",
       "  <thead>\n",
       "    <tr>\n",
       "      <th class=\"blank level0\" >&nbsp;</th>\n",
       "      <th class=\"col_heading level0 col0\" >MAE</th>\n",
       "      <th class=\"col_heading level0 col1\" >MSE</th>\n",
       "      <th class=\"col_heading level0 col2\" >RMSE</th>\n",
       "      <th class=\"col_heading level0 col3\" >R2</th>\n",
       "      <th class=\"col_heading level0 col4\" >RMSLE</th>\n",
       "      <th class=\"col_heading level0 col5\" >MAPE</th>\n",
       "    </tr>\n",
       "  </thead>\n",
       "  <tbody>\n",
       "    <tr>\n",
       "      <th id=\"T_13d57_level0_row0\" class=\"row_heading level0 row0\" >0</th>\n",
       "      <td id=\"T_13d57_row0_col0\" class=\"data row0 col0\" >5186.5492</td>\n",
       "      <td id=\"T_13d57_row0_col1\" class=\"data row0 col1\" >52688187.4410</td>\n",
       "      <td id=\"T_13d57_row0_col2\" class=\"data row0 col2\" >7258.6629</td>\n",
       "      <td id=\"T_13d57_row0_col3\" class=\"data row0 col3\" >0.8030</td>\n",
       "      <td id=\"T_13d57_row0_col4\" class=\"data row0 col4\" >0.1782</td>\n",
       "      <td id=\"T_13d57_row0_col5\" class=\"data row0 col5\" >0.1338</td>\n",
       "    </tr>\n",
       "    <tr>\n",
       "      <th id=\"T_13d57_level0_row1\" class=\"row_heading level0 row1\" >1</th>\n",
       "      <td id=\"T_13d57_row1_col0\" class=\"data row1 col0\" >5223.6398</td>\n",
       "      <td id=\"T_13d57_row1_col1\" class=\"data row1 col1\" >52585262.9208</td>\n",
       "      <td id=\"T_13d57_row1_col2\" class=\"data row1 col2\" >7251.5697</td>\n",
       "      <td id=\"T_13d57_row1_col3\" class=\"data row1 col3\" >0.8069</td>\n",
       "      <td id=\"T_13d57_row1_col4\" class=\"data row1 col4\" >0.1776</td>\n",
       "      <td id=\"T_13d57_row1_col5\" class=\"data row1 col5\" >0.1344</td>\n",
       "    </tr>\n",
       "    <tr>\n",
       "      <th id=\"T_13d57_level0_row2\" class=\"row_heading level0 row2\" >2</th>\n",
       "      <td id=\"T_13d57_row2_col0\" class=\"data row2 col0\" >5186.1351</td>\n",
       "      <td id=\"T_13d57_row2_col1\" class=\"data row2 col1\" >52183659.3226</td>\n",
       "      <td id=\"T_13d57_row2_col2\" class=\"data row2 col2\" >7223.8258</td>\n",
       "      <td id=\"T_13d57_row2_col3\" class=\"data row2 col3\" >0.8075</td>\n",
       "      <td id=\"T_13d57_row2_col4\" class=\"data row2 col4\" >0.1768</td>\n",
       "      <td id=\"T_13d57_row2_col5\" class=\"data row2 col5\" >0.1336</td>\n",
       "    </tr>\n",
       "    <tr>\n",
       "      <th id=\"T_13d57_level0_row3\" class=\"row_heading level0 row3\" >Mean</th>\n",
       "      <td id=\"T_13d57_row3_col0\" class=\"data row3 col0\" >5198.7747</td>\n",
       "      <td id=\"T_13d57_row3_col1\" class=\"data row3 col1\" >52485703.2281</td>\n",
       "      <td id=\"T_13d57_row3_col2\" class=\"data row3 col2\" >7244.6861</td>\n",
       "      <td id=\"T_13d57_row3_col3\" class=\"data row3 col3\" >0.8058</td>\n",
       "      <td id=\"T_13d57_row3_col4\" class=\"data row3 col4\" >0.1775</td>\n",
       "      <td id=\"T_13d57_row3_col5\" class=\"data row3 col5\" >0.1339</td>\n",
       "    </tr>\n",
       "    <tr>\n",
       "      <th id=\"T_13d57_level0_row4\" class=\"row_heading level0 row4\" >SD</th>\n",
       "      <td id=\"T_13d57_row4_col0\" class=\"data row4 col0\" >17.5831</td>\n",
       "      <td id=\"T_13d57_row4_col1\" class=\"data row4 col1\" >217671.3959</td>\n",
       "      <td id=\"T_13d57_row4_col2\" class=\"data row4 col2\" >15.0320</td>\n",
       "      <td id=\"T_13d57_row4_col3\" class=\"data row4 col3\" >0.0020</td>\n",
       "      <td id=\"T_13d57_row4_col4\" class=\"data row4 col4\" >0.0005</td>\n",
       "      <td id=\"T_13d57_row4_col5\" class=\"data row4 col5\" >0.0003</td>\n",
       "    </tr>\n",
       "  </tbody>\n",
       "</table>\n"
      ],
      "text/plain": [
       "<pandas.io.formats.style.Styler at 0x220dd4e7688>"
      ]
     },
     "metadata": {},
     "output_type": "display_data"
    }
   ],
   "source": [
    "# blend models\n",
    "blender = blend_models(estimator_list=[catb,xgb])"
   ]
  },
  {
   "cell_type": "code",
   "execution_count": 163,
   "id": "f22e47d3",
   "metadata": {},
   "outputs": [],
   "source": [
    "# Test predictions\n",
    "test_predictions = predict_model(blender, data=test)"
   ]
  },
  {
   "cell_type": "code",
   "execution_count": 164,
   "id": "58619494",
   "metadata": {},
   "outputs": [],
   "source": [
    "# submission file\n",
    "sub_blend = test_predictions[['ID','Label']]\n",
    "sub_blend.rename({'Label':'Sales'},axis=1,inplace=True)"
   ]
  },
  {
   "cell_type": "code",
   "execution_count": 165,
   "id": "59619b29",
   "metadata": {},
   "outputs": [],
   "source": [
    "sub_blend['Sales'] = sub_blend['Sales'].round(2)"
   ]
  },
  {
   "cell_type": "code",
   "execution_count": null,
   "id": "46d3973b",
   "metadata": {},
   "outputs": [],
   "source": [
    "sub_blend.to_csv('submission_blend.csv',index=False)"
   ]
  },
  {
   "cell_type": "markdown",
   "id": "d3818641",
   "metadata": {},
   "source": [
    "## Visualization"
   ]
  },
  {
   "cell_type": "code",
   "execution_count": 21,
   "id": "6f9c6c1f",
   "metadata": {},
   "outputs": [],
   "source": [
    "# Test predictions\n",
    "test_predictions = predict_model(xgb_final, data=test)"
   ]
  },
  {
   "cell_type": "code",
   "execution_count": 42,
   "id": "0eb6f212",
   "metadata": {},
   "outputs": [],
   "source": [
    "# get label from predictions\n",
    "tt = pd.concat([tt,test_predictions['Label']],axis=1)"
   ]
  },
  {
   "cell_type": "code",
   "execution_count": 67,
   "id": "5aafafb4",
   "metadata": {},
   "outputs": [
    {
     "data": {
      "application/vnd.plotly.v1+json": {
       "config": {
        "plotlyServerURL": "https://plot.ly"
       },
       "data": [
        {
         "marker": {
          "color": "green"
         },
         "mode": "lines",
         "name": "Train data",
         "type": "scatter",
         "x": [
          "2018-01-01",
          "2018-01-02",
          "2018-01-03",
          "2018-01-04",
          "2018-01-05",
          "2018-01-06",
          "2018-01-07",
          "2018-01-08",
          "2018-01-09",
          "2018-01-10",
          "2018-01-11",
          "2018-01-12",
          "2018-01-13",
          "2018-01-14",
          "2018-01-15",
          "2018-01-16",
          "2018-01-17",
          "2018-01-18",
          "2018-01-19",
          "2018-01-20",
          "2018-01-21",
          "2018-01-22",
          "2018-01-23",
          "2018-01-24",
          "2018-01-25",
          "2018-01-26",
          "2018-01-27",
          "2018-01-28",
          "2018-01-29",
          "2018-01-30",
          "2018-01-31",
          "2018-02-01",
          "2018-02-02",
          "2018-02-03",
          "2018-02-04",
          "2018-02-05",
          "2018-02-06",
          "2018-02-07",
          "2018-02-08",
          "2018-02-09",
          "2018-02-10",
          "2018-02-11",
          "2018-02-12",
          "2018-02-13",
          "2018-02-14",
          "2018-02-15",
          "2018-02-16",
          "2018-02-17",
          "2018-02-18",
          "2018-02-19",
          "2018-02-20",
          "2018-02-21",
          "2018-02-22",
          "2018-02-23",
          "2018-02-24",
          "2018-02-25",
          "2018-02-26",
          "2018-02-27",
          "2018-02-28",
          "2018-03-01",
          "2018-03-02",
          "2018-03-03",
          "2018-03-04",
          "2018-03-05",
          "2018-03-06",
          "2018-03-07",
          "2018-03-08",
          "2018-03-09",
          "2018-03-10",
          "2018-03-11",
          "2018-03-12",
          "2018-03-13",
          "2018-03-14",
          "2018-03-15",
          "2018-03-16",
          "2018-03-17",
          "2018-03-18",
          "2018-03-19",
          "2018-03-20",
          "2018-03-21",
          "2018-03-22",
          "2018-03-23",
          "2018-03-24",
          "2018-03-25",
          "2018-03-26",
          "2018-03-27",
          "2018-03-28",
          "2018-03-29",
          "2018-03-30",
          "2018-03-31",
          "2018-04-01",
          "2018-04-02",
          "2018-04-03",
          "2018-04-04",
          "2018-04-05",
          "2018-04-06",
          "2018-04-07",
          "2018-04-08",
          "2018-04-09",
          "2018-04-10",
          "2018-04-11",
          "2018-04-12",
          "2018-04-13",
          "2018-04-14",
          "2018-04-15",
          "2018-04-16",
          "2018-04-17",
          "2018-04-18",
          "2018-04-19",
          "2018-04-20",
          "2018-04-21",
          "2018-04-22",
          "2018-04-23",
          "2018-04-24",
          "2018-04-25",
          "2018-04-26",
          "2018-04-27",
          "2018-04-28",
          "2018-04-29",
          "2018-04-30",
          "2018-05-01",
          "2018-05-02",
          "2018-05-03",
          "2018-05-04",
          "2018-05-05",
          "2018-05-06",
          "2018-05-07",
          "2018-05-08",
          "2018-05-09",
          "2018-05-10",
          "2018-05-11",
          "2018-05-12",
          "2018-05-13",
          "2018-05-14",
          "2018-05-15",
          "2018-05-16",
          "2018-05-17",
          "2018-05-18",
          "2018-05-19",
          "2018-05-20",
          "2018-05-21",
          "2018-05-22",
          "2018-05-23",
          "2018-05-24",
          "2018-05-25",
          "2018-05-26",
          "2018-05-27",
          "2018-05-28",
          "2018-05-29",
          "2018-05-30",
          "2018-05-31",
          "2018-06-01",
          "2018-06-02",
          "2018-06-03",
          "2018-06-04",
          "2018-06-05",
          "2018-06-06",
          "2018-06-07",
          "2018-06-08",
          "2018-06-09",
          "2018-06-10",
          "2018-06-11",
          "2018-06-12",
          "2018-06-13",
          "2018-06-14",
          "2018-06-15",
          "2018-06-16",
          "2018-06-17",
          "2018-06-18",
          "2018-06-19",
          "2018-06-20",
          "2018-06-21",
          "2018-06-22",
          "2018-06-23",
          "2018-06-24",
          "2018-06-25",
          "2018-06-26",
          "2018-06-27",
          "2018-06-28",
          "2018-06-29",
          "2018-06-30",
          "2018-07-01",
          "2018-07-02",
          "2018-07-03",
          "2018-07-04",
          "2018-07-05",
          "2018-07-06",
          "2018-07-07",
          "2018-07-08",
          "2018-07-09",
          "2018-07-10",
          "2018-07-11",
          "2018-07-12",
          "2018-07-13",
          "2018-07-14",
          "2018-07-15",
          "2018-07-16",
          "2018-07-17",
          "2018-07-18",
          "2018-07-19",
          "2018-07-20",
          "2018-07-21",
          "2018-07-22",
          "2018-07-23",
          "2018-07-24",
          "2018-07-25",
          "2018-07-26",
          "2018-07-27",
          "2018-07-28",
          "2018-07-29",
          "2018-07-30",
          "2018-07-31",
          "2018-08-01",
          "2018-08-02",
          "2018-08-03",
          "2018-08-04",
          "2018-08-05",
          "2018-08-06",
          "2018-08-07",
          "2018-08-08",
          "2018-08-09",
          "2018-08-10",
          "2018-08-11",
          "2018-08-12",
          "2018-08-13",
          "2018-08-14",
          "2018-08-15",
          "2018-08-16",
          "2018-08-17",
          "2018-08-18",
          "2018-08-19",
          "2018-08-20",
          "2018-08-21",
          "2018-08-22",
          "2018-08-23",
          "2018-08-24",
          "2018-08-25",
          "2018-08-26",
          "2018-08-27",
          "2018-08-28",
          "2018-08-29",
          "2018-08-30",
          "2018-08-31",
          "2018-09-01",
          "2018-09-02",
          "2018-09-03",
          "2018-09-04",
          "2018-09-05",
          "2018-09-06",
          "2018-09-07",
          "2018-09-08",
          "2018-09-09",
          "2018-09-10",
          "2018-09-11",
          "2018-09-12",
          "2018-09-13",
          "2018-09-14",
          "2018-09-15",
          "2018-09-16",
          "2018-09-17",
          "2018-09-18",
          "2018-09-19",
          "2018-09-20",
          "2018-09-21",
          "2018-09-22",
          "2018-09-23",
          "2018-09-24",
          "2018-09-25",
          "2018-09-26",
          "2018-09-27",
          "2018-09-28",
          "2018-09-29",
          "2018-09-30",
          "2018-10-01",
          "2018-10-02",
          "2018-10-03",
          "2018-10-04",
          "2018-10-05",
          "2018-10-06",
          "2018-10-07",
          "2018-10-08",
          "2018-10-09",
          "2018-10-10",
          "2018-10-11",
          "2018-10-12",
          "2018-10-13",
          "2018-10-14",
          "2018-10-15",
          "2018-10-16",
          "2018-10-17",
          "2018-10-18",
          "2018-10-19",
          "2018-10-20",
          "2018-10-21",
          "2018-10-22",
          "2018-10-23",
          "2018-10-24",
          "2018-10-25",
          "2018-10-26",
          "2018-10-27",
          "2018-10-28",
          "2018-10-29",
          "2018-10-30",
          "2018-10-31",
          "2018-11-01",
          "2018-11-02",
          "2018-11-03",
          "2018-11-04",
          "2018-11-05",
          "2018-11-06",
          "2018-11-07",
          "2018-11-08",
          "2018-11-09",
          "2018-11-10",
          "2018-11-11",
          "2018-11-12",
          "2018-11-13",
          "2018-11-14",
          "2018-11-15",
          "2018-11-16",
          "2018-11-17",
          "2018-11-18",
          "2018-11-19",
          "2018-11-20",
          "2018-11-21",
          "2018-11-22",
          "2018-11-23",
          "2018-11-24",
          "2018-11-25",
          "2018-11-26",
          "2018-11-27",
          "2018-11-28",
          "2018-11-29",
          "2018-11-30",
          "2018-12-01",
          "2018-12-02",
          "2018-12-03",
          "2018-12-04",
          "2018-12-05",
          "2018-12-06",
          "2018-12-07",
          "2018-12-08",
          "2018-12-09",
          "2018-12-10",
          "2018-12-11",
          "2018-12-12",
          "2018-12-13",
          "2018-12-14",
          "2018-12-15",
          "2018-12-16",
          "2018-12-17",
          "2018-12-18",
          "2018-12-19",
          "2018-12-20",
          "2018-12-21",
          "2018-12-22",
          "2018-12-23",
          "2018-12-24",
          "2018-12-25",
          "2018-12-26",
          "2018-12-27",
          "2018-12-28",
          "2018-12-29",
          "2018-12-30",
          "2018-12-31",
          "2019-01-01",
          "2019-01-02",
          "2019-01-03",
          "2019-01-04",
          "2019-01-05",
          "2019-01-06",
          "2019-01-07",
          "2019-01-08",
          "2019-01-09",
          "2019-01-10",
          "2019-01-11",
          "2019-01-12",
          "2019-01-13",
          "2019-01-14",
          "2019-01-15",
          "2019-01-16",
          "2019-01-17",
          "2019-01-18",
          "2019-01-19",
          "2019-01-20",
          "2019-01-21",
          "2019-01-22",
          "2019-01-23",
          "2019-01-24",
          "2019-01-25",
          "2019-01-26",
          "2019-01-27",
          "2019-01-28",
          "2019-01-29",
          "2019-01-30",
          "2019-01-31",
          "2019-02-01",
          "2019-02-02",
          "2019-02-03",
          "2019-02-04",
          "2019-02-05",
          "2019-02-06",
          "2019-02-07",
          "2019-02-08",
          "2019-02-09",
          "2019-02-10",
          "2019-02-11",
          "2019-02-12",
          "2019-02-13",
          "2019-02-14",
          "2019-02-15",
          "2019-02-16",
          "2019-02-17",
          "2019-02-18",
          "2019-02-19",
          "2019-02-20",
          "2019-02-21",
          "2019-02-22",
          "2019-02-23",
          "2019-02-24",
          "2019-02-25",
          "2019-02-26",
          "2019-02-27",
          "2019-02-28",
          "2019-03-01",
          "2019-03-02",
          "2019-03-03",
          "2019-03-04",
          "2019-03-05",
          "2019-03-06",
          "2019-03-07",
          "2019-03-08",
          "2019-03-09",
          "2019-03-10",
          "2019-03-11",
          "2019-03-12",
          "2019-03-13",
          "2019-03-14",
          "2019-03-15",
          "2019-03-16",
          "2019-03-17",
          "2019-03-18",
          "2019-03-19",
          "2019-03-20",
          "2019-03-21",
          "2019-03-22",
          "2019-03-23",
          "2019-03-24",
          "2019-03-25",
          "2019-03-26",
          "2019-03-27",
          "2019-03-28",
          "2019-03-29",
          "2019-03-30",
          "2019-03-31",
          "2019-04-01",
          "2019-04-02",
          "2019-04-03",
          "2019-04-04",
          "2019-04-05",
          "2019-04-06",
          "2019-04-07",
          "2019-04-08",
          "2019-04-09",
          "2019-04-10",
          "2019-04-11",
          "2019-04-12",
          "2019-04-13",
          "2019-04-14",
          "2019-04-15",
          "2019-04-16",
          "2019-04-17",
          "2019-04-18",
          "2019-04-19",
          "2019-04-20",
          "2019-04-21",
          "2019-04-22",
          "2019-04-23",
          "2019-04-24",
          "2019-04-25",
          "2019-04-26",
          "2019-04-27",
          "2019-04-28",
          "2019-04-29",
          "2019-04-30",
          "2019-05-01",
          "2019-05-02",
          "2019-05-03",
          "2019-05-04",
          "2019-05-05",
          "2019-05-06",
          "2019-05-07",
          "2019-05-08",
          "2019-05-09",
          "2019-05-10",
          "2019-05-11",
          "2019-05-12",
          "2019-05-13",
          "2019-05-14",
          "2019-05-15",
          "2019-05-16",
          "2019-05-17",
          "2019-05-18",
          "2019-05-19",
          "2019-05-20",
          "2019-05-21",
          "2019-05-22",
          "2019-05-23",
          "2019-05-24",
          "2019-05-25",
          "2019-05-26",
          "2019-05-27",
          "2019-05-28",
          "2019-05-29",
          "2019-05-30",
          "2019-05-31"
         ],
         "y": [
          36056.64,
          40185,
          34695,
          38613,
          48918,
          39750,
          33822,
          29076,
          22911,
          29091,
          31281,
          32379,
          51078,
          50567.22,
          37941,
          31833,
          37620,
          26286,
          23100,
          31875,
          29838,
          29241.24,
          26457,
          26439,
          32193,
          22535.1,
          37755,
          37311,
          34842,
          26172,
          25648.56,
          20478,
          20076,
          23661,
          25803,
          22833,
          30216,
          30300,
          28965,
          31758,
          29852.52,
          30051,
          22146,
          22932,
          22014.72,
          24207,
          25671,
          31023,
          39000,
          37440,
          27249,
          32670,
          29955,
          27540,
          25866,
          26808,
          25170,
          25086,
          29370,
          28195.2,
          4623.36,
          34704,
          39870,
          22155,
          26664,
          28986,
          20304,
          24576,
          31239,
          34911,
          28092,
          29688,
          27645,
          38082,
          30639,
          46512,
          46046.88,
          28929,
          39303,
          26208,
          23463,
          20268,
          21978,
          21318.66,
          20535,
          25014,
          32280,
          31311.6,
          17926.739999999998,
          33534,
          33198.66,
          24222,
          24249,
          21324,
          22605,
          22572,
          45765,
          47472,
          36999,
          38361,
          37248,
          24594,
          25905,
          24868.800000000003,
          18907.02,
          18801,
          24096,
          25908,
          27483,
          29085,
          32922,
          34167,
          33945,
          26067,
          25161,
          22104,
          19818,
          23868,
          25002,
          24001.92,
          37383,
          31098,
          34260,
          31542,
          45285,
          39711,
          28863,
          26079,
          25035.840000000004,
          23094,
          20376,
          32166,
          39051,
          28593,
          30972,
          25626,
          37533,
          28881,
          34347,
          31110,
          24573,
          25437,
          26574,
          30264,
          31215,
          37740,
          36432,
          35658,
          39318,
          31362,
          35160,
          30369,
          39768,
          36198,
          37272,
          25542,
          27312,
          22290,
          20787,
          26052,
          26805,
          29133,
          31350,
          29811,
          27924,
          26807.04,
          18794.52,
          36201,
          35199,
          34443,
          37116,
          47835,
          26949,
          32802,
          52770,
          32019,
          24327,
          24732,
          25131,
          23172,
          30405,
          29415,
          35256,
          34323,
          33708,
          36477,
          25578,
          27036,
          28197,
          22503,
          25119,
          30873,
          35409,
          33354,
          31686.300000000003,
          36843,
          39480,
          28968,
          35034,
          31764,
          21732,
          27735,
          30513,
          33240,
          28920,
          27213,
          28563,
          34578,
          28866,
          24993,
          20070,
          21234,
          22710,
          23352,
          31017,
          38421,
          32658,
          33303,
          31794,
          38694,
          28386,
          39192,
          47049,
          38445,
          36591,
          23469,
          11734.5,
          21042,
          19779.48,
          28872,
          45465,
          36918,
          34566,
          27998.46,
          36660,
          27048,
          25695.6,
          17764.56,
          21552,
          22236,
          22884,
          26820,
          31044,
          33381,
          32838,
          31524.48,
          39984,
          26427,
          23550,
          18945,
          23274,
          23904,
          22371,
          24327,
          26292,
          21559.44,
          29442,
          33717,
          39531,
          25458,
          21822,
          17556,
          18696,
          17761.199999999997,
          26604,
          28275,
          28641,
          28296,
          28917,
          26679,
          37245,
          36831,
          36945,
          24702,
          15809.28,
          20376,
          20427,
          29019,
          36516,
          32082,
          26895,
          30336,
          33447,
          24186,
          27120,
          23628,
          24180,
          20634,
          20427.66,
          14909.34,
          18117.45,
          21161.88,
          35640,
          38319,
          36246,
          25065,
          24062.4,
          20130,
          21291,
          20652.27,
          31827,
          31851,
          34782,
          32478,
          28596,
          35322,
          54969,
          34641,
          25656,
          24116.64,
          4110.75,
          4618.17,
          4737,
          37125,
          43347,
          36123,
          35039.31,
          47850,
          33591,
          28728,
          36684,
          23802,
          42252,
          32439,
          31790.22,
          28134,
          27852.66,
          48663,
          62202,
          48279,
          50298,
          53088,
          57366,
          36840,
          38991,
          35916,
          30960,
          29958,
          32424,
          34911,
          40266,
          53313,
          50604,
          41985,
          51261,
          45330,
          39849,
          34017,
          35436,
          43365,
          34830,
          40968,
          44094,
          35496,
          40011,
          55062,
          60777,
          60777,
          6436.08,
          29124,
          28590,
          29115,
          37071,
          48546,
          42939,
          31345.47,
          37536,
          41154,
          53226,
          52788,
          47787,
          34614,
          30402,
          34314,
          39114,
          45174,
          46050,
          44668.5,
          33453.3,
          27938.91,
          28134,
          26634,
          22119,
          28548,
          29826,
          25962,
          32520,
          35070,
          33444,
          33093,
          14229.99,
          50952,
          28842,
          32163,
          16497,
          30960,
          26013,
          37545,
          38079,
          33768,
          34779,
          33480,
          33378,
          37146,
          33129,
          31141.26,
          25686,
          24429,
          25722,
          27882,
          31983,
          43104,
          44214,
          36963,
          36963,
          41073,
          29691,
          25272,
          26976,
          27444,
          23517,
          25485,
          34968,
          35952,
          34873.44,
          38670,
          37524,
          37148.76,
          24120,
          26661,
          26925,
          24393,
          29766,
          34476,
          29145,
          42591,
          41403,
          35448,
          43497,
          31650,
          33087,
          26670,
          26235,
          25710.300000000003,
          3355.56,
          30972,
          44589,
          44604,
          39363,
          40050,
          47205,
          30153,
          27861,
          27861,
          32334,
          25380,
          28269,
          31698,
          36087,
          34146,
          33121.62,
          43452,
          45618,
          28959,
          28698,
          28908,
          25176,
          24672.48,
          22194.57,
          25605,
          35742,
          35027.16,
          34758,
          33367.68,
          48915,
          45980.100000000006,
          30750,
          27936,
          24645,
          26352,
          27774,
          34977,
          42552,
          29274,
          30609,
          37401,
          44568,
          33390,
          39330,
          35598,
          28548,
          27996,
          32247,
          30634.65,
          38418,
          45795,
          43359,
          35841,
          46077,
          39093,
          58902,
          44016,
          44016,
          56577,
          30570,
          30930,
          29283,
          28827,
          31992,
          41757,
          49950,
          37287,
          33063,
          36150,
          48024,
          47063.52
         ]
        },
        {
         "marker": {
          "color": "orange"
         },
         "mode": "lines",
         "name": "Predictions",
         "type": "scatter",
         "x": [
          "2019-06-01",
          "2019-06-02",
          "2019-06-03",
          "2019-06-04",
          "2019-06-05",
          "2019-06-06",
          "2019-06-07",
          "2019-06-08",
          "2019-06-09",
          "2019-06-10",
          "2019-06-11",
          "2019-06-12",
          "2019-06-13",
          "2019-06-14",
          "2019-06-15",
          "2019-06-16",
          "2019-06-17",
          "2019-06-18",
          "2019-06-19",
          "2019-06-20",
          "2019-06-21",
          "2019-06-22",
          "2019-06-23",
          "2019-06-24",
          "2019-06-25",
          "2019-06-26",
          "2019-06-27",
          "2019-06-28",
          "2019-06-29",
          "2019-06-30",
          "2019-07-01",
          "2019-07-02",
          "2019-07-03",
          "2019-07-04",
          "2019-07-05",
          "2019-07-06",
          "2019-07-07",
          "2019-07-08",
          "2019-07-09",
          "2019-07-10",
          "2019-07-11",
          "2019-07-12",
          "2019-07-13",
          "2019-07-14",
          "2019-07-15",
          "2019-07-16",
          "2019-07-17",
          "2019-07-18",
          "2019-07-19",
          "2019-07-20",
          "2019-07-21",
          "2019-07-22",
          "2019-07-23",
          "2019-07-24",
          "2019-07-25",
          "2019-07-26",
          "2019-07-27",
          "2019-07-28",
          "2019-07-29",
          "2019-07-30",
          "2019-07-31"
         ],
         "y": [
          32837.26171875,
          29877.62890625,
          27796.177734375,
          27312.376953125,
          30292.150390625,
          38119.37890625,
          38371.21875,
          46087.0859375,
          46293.76171875,
          28972.494140625,
          38739.56640625,
          37265.1796875,
          35987.5546875,
          36893.32421875,
          37261,
          33988.87109375,
          25514.740234375,
          25651.474609375,
          28954.94140625,
          28533.5546875,
          29279.357421875,
          33170.65234375,
          55762.7109375,
          40295.859375,
          40421.1171875,
          43204.15234375,
          41968.16015625,
          31136.30078125,
          40043.73046875,
          38973.87109375,
          36232.4375,
          33357.8046875,
          32410.20703125,
          36020.31640625,
          41076.38671875,
          57530.9140625,
          51695.140625,
          29575.15625,
          39400.15234375,
          38808.48828125,
          37946.16796875,
          38437.375,
          45545.91796875,
          33706.92578125,
          30842.560546875,
          30572.29296875,
          30813.3046875,
          32377.771484375,
          30959.01171875,
          33276,
          45501.19140625,
          34060.57421875,
          33010.66015625,
          33999.37890625,
          34209.12890625,
          25751.30078125,
          31458.9609375,
          31190.3671875,
          26097.994140625,
          26539.919921875,
          29166.9375
         ]
        }
       ],
       "layout": {
        "height": 600,
        "template": {
         "data": {
          "bar": [
           {
            "error_x": {
             "color": "#2a3f5f"
            },
            "error_y": {
             "color": "#2a3f5f"
            },
            "marker": {
             "line": {
              "color": "#E5ECF6",
              "width": 0.5
             },
             "pattern": {
              "fillmode": "overlay",
              "size": 10,
              "solidity": 0.2
             }
            },
            "type": "bar"
           }
          ],
          "barpolar": [
           {
            "marker": {
             "line": {
              "color": "#E5ECF6",
              "width": 0.5
             },
             "pattern": {
              "fillmode": "overlay",
              "size": 10,
              "solidity": 0.2
             }
            },
            "type": "barpolar"
           }
          ],
          "carpet": [
           {
            "aaxis": {
             "endlinecolor": "#2a3f5f",
             "gridcolor": "white",
             "linecolor": "white",
             "minorgridcolor": "white",
             "startlinecolor": "#2a3f5f"
            },
            "baxis": {
             "endlinecolor": "#2a3f5f",
             "gridcolor": "white",
             "linecolor": "white",
             "minorgridcolor": "white",
             "startlinecolor": "#2a3f5f"
            },
            "type": "carpet"
           }
          ],
          "choropleth": [
           {
            "colorbar": {
             "outlinewidth": 0,
             "ticks": ""
            },
            "type": "choropleth"
           }
          ],
          "contour": [
           {
            "colorbar": {
             "outlinewidth": 0,
             "ticks": ""
            },
            "colorscale": [
             [
              0,
              "#0d0887"
             ],
             [
              0.1111111111111111,
              "#46039f"
             ],
             [
              0.2222222222222222,
              "#7201a8"
             ],
             [
              0.3333333333333333,
              "#9c179e"
             ],
             [
              0.4444444444444444,
              "#bd3786"
             ],
             [
              0.5555555555555556,
              "#d8576b"
             ],
             [
              0.6666666666666666,
              "#ed7953"
             ],
             [
              0.7777777777777778,
              "#fb9f3a"
             ],
             [
              0.8888888888888888,
              "#fdca26"
             ],
             [
              1,
              "#f0f921"
             ]
            ],
            "type": "contour"
           }
          ],
          "contourcarpet": [
           {
            "colorbar": {
             "outlinewidth": 0,
             "ticks": ""
            },
            "type": "contourcarpet"
           }
          ],
          "heatmap": [
           {
            "colorbar": {
             "outlinewidth": 0,
             "ticks": ""
            },
            "colorscale": [
             [
              0,
              "#0d0887"
             ],
             [
              0.1111111111111111,
              "#46039f"
             ],
             [
              0.2222222222222222,
              "#7201a8"
             ],
             [
              0.3333333333333333,
              "#9c179e"
             ],
             [
              0.4444444444444444,
              "#bd3786"
             ],
             [
              0.5555555555555556,
              "#d8576b"
             ],
             [
              0.6666666666666666,
              "#ed7953"
             ],
             [
              0.7777777777777778,
              "#fb9f3a"
             ],
             [
              0.8888888888888888,
              "#fdca26"
             ],
             [
              1,
              "#f0f921"
             ]
            ],
            "type": "heatmap"
           }
          ],
          "heatmapgl": [
           {
            "colorbar": {
             "outlinewidth": 0,
             "ticks": ""
            },
            "colorscale": [
             [
              0,
              "#0d0887"
             ],
             [
              0.1111111111111111,
              "#46039f"
             ],
             [
              0.2222222222222222,
              "#7201a8"
             ],
             [
              0.3333333333333333,
              "#9c179e"
             ],
             [
              0.4444444444444444,
              "#bd3786"
             ],
             [
              0.5555555555555556,
              "#d8576b"
             ],
             [
              0.6666666666666666,
              "#ed7953"
             ],
             [
              0.7777777777777778,
              "#fb9f3a"
             ],
             [
              0.8888888888888888,
              "#fdca26"
             ],
             [
              1,
              "#f0f921"
             ]
            ],
            "type": "heatmapgl"
           }
          ],
          "histogram": [
           {
            "marker": {
             "pattern": {
              "fillmode": "overlay",
              "size": 10,
              "solidity": 0.2
             }
            },
            "type": "histogram"
           }
          ],
          "histogram2d": [
           {
            "colorbar": {
             "outlinewidth": 0,
             "ticks": ""
            },
            "colorscale": [
             [
              0,
              "#0d0887"
             ],
             [
              0.1111111111111111,
              "#46039f"
             ],
             [
              0.2222222222222222,
              "#7201a8"
             ],
             [
              0.3333333333333333,
              "#9c179e"
             ],
             [
              0.4444444444444444,
              "#bd3786"
             ],
             [
              0.5555555555555556,
              "#d8576b"
             ],
             [
              0.6666666666666666,
              "#ed7953"
             ],
             [
              0.7777777777777778,
              "#fb9f3a"
             ],
             [
              0.8888888888888888,
              "#fdca26"
             ],
             [
              1,
              "#f0f921"
             ]
            ],
            "type": "histogram2d"
           }
          ],
          "histogram2dcontour": [
           {
            "colorbar": {
             "outlinewidth": 0,
             "ticks": ""
            },
            "colorscale": [
             [
              0,
              "#0d0887"
             ],
             [
              0.1111111111111111,
              "#46039f"
             ],
             [
              0.2222222222222222,
              "#7201a8"
             ],
             [
              0.3333333333333333,
              "#9c179e"
             ],
             [
              0.4444444444444444,
              "#bd3786"
             ],
             [
              0.5555555555555556,
              "#d8576b"
             ],
             [
              0.6666666666666666,
              "#ed7953"
             ],
             [
              0.7777777777777778,
              "#fb9f3a"
             ],
             [
              0.8888888888888888,
              "#fdca26"
             ],
             [
              1,
              "#f0f921"
             ]
            ],
            "type": "histogram2dcontour"
           }
          ],
          "mesh3d": [
           {
            "colorbar": {
             "outlinewidth": 0,
             "ticks": ""
            },
            "type": "mesh3d"
           }
          ],
          "parcoords": [
           {
            "line": {
             "colorbar": {
              "outlinewidth": 0,
              "ticks": ""
             }
            },
            "type": "parcoords"
           }
          ],
          "pie": [
           {
            "automargin": true,
            "type": "pie"
           }
          ],
          "scatter": [
           {
            "marker": {
             "colorbar": {
              "outlinewidth": 0,
              "ticks": ""
             }
            },
            "type": "scatter"
           }
          ],
          "scatter3d": [
           {
            "line": {
             "colorbar": {
              "outlinewidth": 0,
              "ticks": ""
             }
            },
            "marker": {
             "colorbar": {
              "outlinewidth": 0,
              "ticks": ""
             }
            },
            "type": "scatter3d"
           }
          ],
          "scattercarpet": [
           {
            "marker": {
             "colorbar": {
              "outlinewidth": 0,
              "ticks": ""
             }
            },
            "type": "scattercarpet"
           }
          ],
          "scattergeo": [
           {
            "marker": {
             "colorbar": {
              "outlinewidth": 0,
              "ticks": ""
             }
            },
            "type": "scattergeo"
           }
          ],
          "scattergl": [
           {
            "marker": {
             "colorbar": {
              "outlinewidth": 0,
              "ticks": ""
             }
            },
            "type": "scattergl"
           }
          ],
          "scattermapbox": [
           {
            "marker": {
             "colorbar": {
              "outlinewidth": 0,
              "ticks": ""
             }
            },
            "type": "scattermapbox"
           }
          ],
          "scatterpolar": [
           {
            "marker": {
             "colorbar": {
              "outlinewidth": 0,
              "ticks": ""
             }
            },
            "type": "scatterpolar"
           }
          ],
          "scatterpolargl": [
           {
            "marker": {
             "colorbar": {
              "outlinewidth": 0,
              "ticks": ""
             }
            },
            "type": "scatterpolargl"
           }
          ],
          "scatterternary": [
           {
            "marker": {
             "colorbar": {
              "outlinewidth": 0,
              "ticks": ""
             }
            },
            "type": "scatterternary"
           }
          ],
          "surface": [
           {
            "colorbar": {
             "outlinewidth": 0,
             "ticks": ""
            },
            "colorscale": [
             [
              0,
              "#0d0887"
             ],
             [
              0.1111111111111111,
              "#46039f"
             ],
             [
              0.2222222222222222,
              "#7201a8"
             ],
             [
              0.3333333333333333,
              "#9c179e"
             ],
             [
              0.4444444444444444,
              "#bd3786"
             ],
             [
              0.5555555555555556,
              "#d8576b"
             ],
             [
              0.6666666666666666,
              "#ed7953"
             ],
             [
              0.7777777777777778,
              "#fb9f3a"
             ],
             [
              0.8888888888888888,
              "#fdca26"
             ],
             [
              1,
              "#f0f921"
             ]
            ],
            "type": "surface"
           }
          ],
          "table": [
           {
            "cells": {
             "fill": {
              "color": "#EBF0F8"
             },
             "line": {
              "color": "white"
             }
            },
            "header": {
             "fill": {
              "color": "#C8D4E3"
             },
             "line": {
              "color": "white"
             }
            },
            "type": "table"
           }
          ]
         },
         "layout": {
          "annotationdefaults": {
           "arrowcolor": "#2a3f5f",
           "arrowhead": 0,
           "arrowwidth": 1
          },
          "autotypenumbers": "strict",
          "coloraxis": {
           "colorbar": {
            "outlinewidth": 0,
            "ticks": ""
           }
          },
          "colorscale": {
           "diverging": [
            [
             0,
             "#8e0152"
            ],
            [
             0.1,
             "#c51b7d"
            ],
            [
             0.2,
             "#de77ae"
            ],
            [
             0.3,
             "#f1b6da"
            ],
            [
             0.4,
             "#fde0ef"
            ],
            [
             0.5,
             "#f7f7f7"
            ],
            [
             0.6,
             "#e6f5d0"
            ],
            [
             0.7,
             "#b8e186"
            ],
            [
             0.8,
             "#7fbc41"
            ],
            [
             0.9,
             "#4d9221"
            ],
            [
             1,
             "#276419"
            ]
           ],
           "sequential": [
            [
             0,
             "#0d0887"
            ],
            [
             0.1111111111111111,
             "#46039f"
            ],
            [
             0.2222222222222222,
             "#7201a8"
            ],
            [
             0.3333333333333333,
             "#9c179e"
            ],
            [
             0.4444444444444444,
             "#bd3786"
            ],
            [
             0.5555555555555556,
             "#d8576b"
            ],
            [
             0.6666666666666666,
             "#ed7953"
            ],
            [
             0.7777777777777778,
             "#fb9f3a"
            ],
            [
             0.8888888888888888,
             "#fdca26"
            ],
            [
             1,
             "#f0f921"
            ]
           ],
           "sequentialminus": [
            [
             0,
             "#0d0887"
            ],
            [
             0.1111111111111111,
             "#46039f"
            ],
            [
             0.2222222222222222,
             "#7201a8"
            ],
            [
             0.3333333333333333,
             "#9c179e"
            ],
            [
             0.4444444444444444,
             "#bd3786"
            ],
            [
             0.5555555555555556,
             "#d8576b"
            ],
            [
             0.6666666666666666,
             "#ed7953"
            ],
            [
             0.7777777777777778,
             "#fb9f3a"
            ],
            [
             0.8888888888888888,
             "#fdca26"
            ],
            [
             1,
             "#f0f921"
            ]
           ]
          },
          "colorway": [
           "#636efa",
           "#EF553B",
           "#00cc96",
           "#ab63fa",
           "#FFA15A",
           "#19d3f3",
           "#FF6692",
           "#B6E880",
           "#FF97FF",
           "#FECB52"
          ],
          "font": {
           "color": "#2a3f5f"
          },
          "geo": {
           "bgcolor": "white",
           "lakecolor": "white",
           "landcolor": "#E5ECF6",
           "showlakes": true,
           "showland": true,
           "subunitcolor": "white"
          },
          "hoverlabel": {
           "align": "left"
          },
          "hovermode": "closest",
          "mapbox": {
           "style": "light"
          },
          "paper_bgcolor": "white",
          "plot_bgcolor": "#E5ECF6",
          "polar": {
           "angularaxis": {
            "gridcolor": "white",
            "linecolor": "white",
            "ticks": ""
           },
           "bgcolor": "#E5ECF6",
           "radialaxis": {
            "gridcolor": "white",
            "linecolor": "white",
            "ticks": ""
           }
          },
          "scene": {
           "xaxis": {
            "backgroundcolor": "#E5ECF6",
            "gridcolor": "white",
            "gridwidth": 2,
            "linecolor": "white",
            "showbackground": true,
            "ticks": "",
            "zerolinecolor": "white"
           },
           "yaxis": {
            "backgroundcolor": "#E5ECF6",
            "gridcolor": "white",
            "gridwidth": 2,
            "linecolor": "white",
            "showbackground": true,
            "ticks": "",
            "zerolinecolor": "white"
           },
           "zaxis": {
            "backgroundcolor": "#E5ECF6",
            "gridcolor": "white",
            "gridwidth": 2,
            "linecolor": "white",
            "showbackground": true,
            "ticks": "",
            "zerolinecolor": "white"
           }
          },
          "shapedefaults": {
           "line": {
            "color": "#2a3f5f"
           }
          },
          "ternary": {
           "aaxis": {
            "gridcolor": "white",
            "linecolor": "white",
            "ticks": ""
           },
           "baxis": {
            "gridcolor": "white",
            "linecolor": "white",
            "ticks": ""
           },
           "bgcolor": "#E5ECF6",
           "caxis": {
            "gridcolor": "white",
            "linecolor": "white",
            "ticks": ""
           }
          },
          "title": {
           "x": 0.05
          },
          "xaxis": {
           "automargin": true,
           "gridcolor": "white",
           "linecolor": "white",
           "ticks": "",
           "title": {
            "standoff": 15
           },
           "zerolinecolor": "white",
           "zerolinewidth": 2
          },
          "yaxis": {
           "automargin": true,
           "gridcolor": "white",
           "linecolor": "white",
           "ticks": "",
           "title": {
            "standoff": 15
           },
           "zerolinecolor": "white",
           "zerolinewidth": 2
          }
         }
        },
        "title": {
         "text": "StoreId - 180"
        },
        "width": 1000,
        "xaxis": {
         "title": {
          "text": "Date"
         }
        },
        "yaxis": {
         "title": {
          "text": "Sales"
         }
        }
       }
      },
      "text/html": [
       "<div>                            <div id=\"0ade878a-78fa-440a-b654-f34169780566\" class=\"plotly-graph-div\" style=\"height:600px; width:1000px;\"></div>            <script type=\"text/javascript\">                require([\"plotly\"], function(Plotly) {                    window.PLOTLYENV=window.PLOTLYENV || {};                                    if (document.getElementById(\"0ade878a-78fa-440a-b654-f34169780566\")) {                    Plotly.newPlot(                        \"0ade878a-78fa-440a-b654-f34169780566\",                        [{\"marker\":{\"color\":\"green\"},\"mode\":\"lines\",\"name\":\"Train data\",\"type\":\"scatter\",\"x\":[\"2018-01-01\",\"2018-01-02\",\"2018-01-03\",\"2018-01-04\",\"2018-01-05\",\"2018-01-06\",\"2018-01-07\",\"2018-01-08\",\"2018-01-09\",\"2018-01-10\",\"2018-01-11\",\"2018-01-12\",\"2018-01-13\",\"2018-01-14\",\"2018-01-15\",\"2018-01-16\",\"2018-01-17\",\"2018-01-18\",\"2018-01-19\",\"2018-01-20\",\"2018-01-21\",\"2018-01-22\",\"2018-01-23\",\"2018-01-24\",\"2018-01-25\",\"2018-01-26\",\"2018-01-27\",\"2018-01-28\",\"2018-01-29\",\"2018-01-30\",\"2018-01-31\",\"2018-02-01\",\"2018-02-02\",\"2018-02-03\",\"2018-02-04\",\"2018-02-05\",\"2018-02-06\",\"2018-02-07\",\"2018-02-08\",\"2018-02-09\",\"2018-02-10\",\"2018-02-11\",\"2018-02-12\",\"2018-02-13\",\"2018-02-14\",\"2018-02-15\",\"2018-02-16\",\"2018-02-17\",\"2018-02-18\",\"2018-02-19\",\"2018-02-20\",\"2018-02-21\",\"2018-02-22\",\"2018-02-23\",\"2018-02-24\",\"2018-02-25\",\"2018-02-26\",\"2018-02-27\",\"2018-02-28\",\"2018-03-01\",\"2018-03-02\",\"2018-03-03\",\"2018-03-04\",\"2018-03-05\",\"2018-03-06\",\"2018-03-07\",\"2018-03-08\",\"2018-03-09\",\"2018-03-10\",\"2018-03-11\",\"2018-03-12\",\"2018-03-13\",\"2018-03-14\",\"2018-03-15\",\"2018-03-16\",\"2018-03-17\",\"2018-03-18\",\"2018-03-19\",\"2018-03-20\",\"2018-03-21\",\"2018-03-22\",\"2018-03-23\",\"2018-03-24\",\"2018-03-25\",\"2018-03-26\",\"2018-03-27\",\"2018-03-28\",\"2018-03-29\",\"2018-03-30\",\"2018-03-31\",\"2018-04-01\",\"2018-04-02\",\"2018-04-03\",\"2018-04-04\",\"2018-04-05\",\"2018-04-06\",\"2018-04-07\",\"2018-04-08\",\"2018-04-09\",\"2018-04-10\",\"2018-04-11\",\"2018-04-12\",\"2018-04-13\",\"2018-04-14\",\"2018-04-15\",\"2018-04-16\",\"2018-04-17\",\"2018-04-18\",\"2018-04-19\",\"2018-04-20\",\"2018-04-21\",\"2018-04-22\",\"2018-04-23\",\"2018-04-24\",\"2018-04-25\",\"2018-04-26\",\"2018-04-27\",\"2018-04-28\",\"2018-04-29\",\"2018-04-30\",\"2018-05-01\",\"2018-05-02\",\"2018-05-03\",\"2018-05-04\",\"2018-05-05\",\"2018-05-06\",\"2018-05-07\",\"2018-05-08\",\"2018-05-09\",\"2018-05-10\",\"2018-05-11\",\"2018-05-12\",\"2018-05-13\",\"2018-05-14\",\"2018-05-15\",\"2018-05-16\",\"2018-05-17\",\"2018-05-18\",\"2018-05-19\",\"2018-05-20\",\"2018-05-21\",\"2018-05-22\",\"2018-05-23\",\"2018-05-24\",\"2018-05-25\",\"2018-05-26\",\"2018-05-27\",\"2018-05-28\",\"2018-05-29\",\"2018-05-30\",\"2018-05-31\",\"2018-06-01\",\"2018-06-02\",\"2018-06-03\",\"2018-06-04\",\"2018-06-05\",\"2018-06-06\",\"2018-06-07\",\"2018-06-08\",\"2018-06-09\",\"2018-06-10\",\"2018-06-11\",\"2018-06-12\",\"2018-06-13\",\"2018-06-14\",\"2018-06-15\",\"2018-06-16\",\"2018-06-17\",\"2018-06-18\",\"2018-06-19\",\"2018-06-20\",\"2018-06-21\",\"2018-06-22\",\"2018-06-23\",\"2018-06-24\",\"2018-06-25\",\"2018-06-26\",\"2018-06-27\",\"2018-06-28\",\"2018-06-29\",\"2018-06-30\",\"2018-07-01\",\"2018-07-02\",\"2018-07-03\",\"2018-07-04\",\"2018-07-05\",\"2018-07-06\",\"2018-07-07\",\"2018-07-08\",\"2018-07-09\",\"2018-07-10\",\"2018-07-11\",\"2018-07-12\",\"2018-07-13\",\"2018-07-14\",\"2018-07-15\",\"2018-07-16\",\"2018-07-17\",\"2018-07-18\",\"2018-07-19\",\"2018-07-20\",\"2018-07-21\",\"2018-07-22\",\"2018-07-23\",\"2018-07-24\",\"2018-07-25\",\"2018-07-26\",\"2018-07-27\",\"2018-07-28\",\"2018-07-29\",\"2018-07-30\",\"2018-07-31\",\"2018-08-01\",\"2018-08-02\",\"2018-08-03\",\"2018-08-04\",\"2018-08-05\",\"2018-08-06\",\"2018-08-07\",\"2018-08-08\",\"2018-08-09\",\"2018-08-10\",\"2018-08-11\",\"2018-08-12\",\"2018-08-13\",\"2018-08-14\",\"2018-08-15\",\"2018-08-16\",\"2018-08-17\",\"2018-08-18\",\"2018-08-19\",\"2018-08-20\",\"2018-08-21\",\"2018-08-22\",\"2018-08-23\",\"2018-08-24\",\"2018-08-25\",\"2018-08-26\",\"2018-08-27\",\"2018-08-28\",\"2018-08-29\",\"2018-08-30\",\"2018-08-31\",\"2018-09-01\",\"2018-09-02\",\"2018-09-03\",\"2018-09-04\",\"2018-09-05\",\"2018-09-06\",\"2018-09-07\",\"2018-09-08\",\"2018-09-09\",\"2018-09-10\",\"2018-09-11\",\"2018-09-12\",\"2018-09-13\",\"2018-09-14\",\"2018-09-15\",\"2018-09-16\",\"2018-09-17\",\"2018-09-18\",\"2018-09-19\",\"2018-09-20\",\"2018-09-21\",\"2018-09-22\",\"2018-09-23\",\"2018-09-24\",\"2018-09-25\",\"2018-09-26\",\"2018-09-27\",\"2018-09-28\",\"2018-09-29\",\"2018-09-30\",\"2018-10-01\",\"2018-10-02\",\"2018-10-03\",\"2018-10-04\",\"2018-10-05\",\"2018-10-06\",\"2018-10-07\",\"2018-10-08\",\"2018-10-09\",\"2018-10-10\",\"2018-10-11\",\"2018-10-12\",\"2018-10-13\",\"2018-10-14\",\"2018-10-15\",\"2018-10-16\",\"2018-10-17\",\"2018-10-18\",\"2018-10-19\",\"2018-10-20\",\"2018-10-21\",\"2018-10-22\",\"2018-10-23\",\"2018-10-24\",\"2018-10-25\",\"2018-10-26\",\"2018-10-27\",\"2018-10-28\",\"2018-10-29\",\"2018-10-30\",\"2018-10-31\",\"2018-11-01\",\"2018-11-02\",\"2018-11-03\",\"2018-11-04\",\"2018-11-05\",\"2018-11-06\",\"2018-11-07\",\"2018-11-08\",\"2018-11-09\",\"2018-11-10\",\"2018-11-11\",\"2018-11-12\",\"2018-11-13\",\"2018-11-14\",\"2018-11-15\",\"2018-11-16\",\"2018-11-17\",\"2018-11-18\",\"2018-11-19\",\"2018-11-20\",\"2018-11-21\",\"2018-11-22\",\"2018-11-23\",\"2018-11-24\",\"2018-11-25\",\"2018-11-26\",\"2018-11-27\",\"2018-11-28\",\"2018-11-29\",\"2018-11-30\",\"2018-12-01\",\"2018-12-02\",\"2018-12-03\",\"2018-12-04\",\"2018-12-05\",\"2018-12-06\",\"2018-12-07\",\"2018-12-08\",\"2018-12-09\",\"2018-12-10\",\"2018-12-11\",\"2018-12-12\",\"2018-12-13\",\"2018-12-14\",\"2018-12-15\",\"2018-12-16\",\"2018-12-17\",\"2018-12-18\",\"2018-12-19\",\"2018-12-20\",\"2018-12-21\",\"2018-12-22\",\"2018-12-23\",\"2018-12-24\",\"2018-12-25\",\"2018-12-26\",\"2018-12-27\",\"2018-12-28\",\"2018-12-29\",\"2018-12-30\",\"2018-12-31\",\"2019-01-01\",\"2019-01-02\",\"2019-01-03\",\"2019-01-04\",\"2019-01-05\",\"2019-01-06\",\"2019-01-07\",\"2019-01-08\",\"2019-01-09\",\"2019-01-10\",\"2019-01-11\",\"2019-01-12\",\"2019-01-13\",\"2019-01-14\",\"2019-01-15\",\"2019-01-16\",\"2019-01-17\",\"2019-01-18\",\"2019-01-19\",\"2019-01-20\",\"2019-01-21\",\"2019-01-22\",\"2019-01-23\",\"2019-01-24\",\"2019-01-25\",\"2019-01-26\",\"2019-01-27\",\"2019-01-28\",\"2019-01-29\",\"2019-01-30\",\"2019-01-31\",\"2019-02-01\",\"2019-02-02\",\"2019-02-03\",\"2019-02-04\",\"2019-02-05\",\"2019-02-06\",\"2019-02-07\",\"2019-02-08\",\"2019-02-09\",\"2019-02-10\",\"2019-02-11\",\"2019-02-12\",\"2019-02-13\",\"2019-02-14\",\"2019-02-15\",\"2019-02-16\",\"2019-02-17\",\"2019-02-18\",\"2019-02-19\",\"2019-02-20\",\"2019-02-21\",\"2019-02-22\",\"2019-02-23\",\"2019-02-24\",\"2019-02-25\",\"2019-02-26\",\"2019-02-27\",\"2019-02-28\",\"2019-03-01\",\"2019-03-02\",\"2019-03-03\",\"2019-03-04\",\"2019-03-05\",\"2019-03-06\",\"2019-03-07\",\"2019-03-08\",\"2019-03-09\",\"2019-03-10\",\"2019-03-11\",\"2019-03-12\",\"2019-03-13\",\"2019-03-14\",\"2019-03-15\",\"2019-03-16\",\"2019-03-17\",\"2019-03-18\",\"2019-03-19\",\"2019-03-20\",\"2019-03-21\",\"2019-03-22\",\"2019-03-23\",\"2019-03-24\",\"2019-03-25\",\"2019-03-26\",\"2019-03-27\",\"2019-03-28\",\"2019-03-29\",\"2019-03-30\",\"2019-03-31\",\"2019-04-01\",\"2019-04-02\",\"2019-04-03\",\"2019-04-04\",\"2019-04-05\",\"2019-04-06\",\"2019-04-07\",\"2019-04-08\",\"2019-04-09\",\"2019-04-10\",\"2019-04-11\",\"2019-04-12\",\"2019-04-13\",\"2019-04-14\",\"2019-04-15\",\"2019-04-16\",\"2019-04-17\",\"2019-04-18\",\"2019-04-19\",\"2019-04-20\",\"2019-04-21\",\"2019-04-22\",\"2019-04-23\",\"2019-04-24\",\"2019-04-25\",\"2019-04-26\",\"2019-04-27\",\"2019-04-28\",\"2019-04-29\",\"2019-04-30\",\"2019-05-01\",\"2019-05-02\",\"2019-05-03\",\"2019-05-04\",\"2019-05-05\",\"2019-05-06\",\"2019-05-07\",\"2019-05-08\",\"2019-05-09\",\"2019-05-10\",\"2019-05-11\",\"2019-05-12\",\"2019-05-13\",\"2019-05-14\",\"2019-05-15\",\"2019-05-16\",\"2019-05-17\",\"2019-05-18\",\"2019-05-19\",\"2019-05-20\",\"2019-05-21\",\"2019-05-22\",\"2019-05-23\",\"2019-05-24\",\"2019-05-25\",\"2019-05-26\",\"2019-05-27\",\"2019-05-28\",\"2019-05-29\",\"2019-05-30\",\"2019-05-31\"],\"y\":[36056.64,40185.0,34695.0,38613.0,48918.0,39750.0,33822.0,29076.0,22911.0,29091.0,31281.0,32379.0,51078.0,50567.22,37941.0,31833.0,37620.0,26286.0,23100.0,31875.0,29838.0,29241.24,26457.0,26439.0,32193.0,22535.1,37755.0,37311.0,34842.0,26172.0,25648.56,20478.0,20076.0,23661.0,25803.0,22833.0,30216.0,30300.0,28965.0,31758.0,29852.52,30051.0,22146.0,22932.0,22014.72,24207.0,25671.0,31023.0,39000.0,37440.0,27249.0,32670.0,29955.0,27540.0,25866.0,26808.0,25170.0,25086.0,29370.0,28195.2,4623.36,34704.0,39870.0,22155.0,26664.0,28986.0,20304.0,24576.0,31239.0,34911.0,28092.0,29688.0,27645.0,38082.0,30639.0,46512.0,46046.88,28929.0,39303.0,26208.0,23463.0,20268.0,21978.0,21318.66,20535.0,25014.0,32280.0,31311.6,17926.739999999998,33534.0,33198.66,24222.0,24249.0,21324.0,22605.0,22572.0,45765.0,47472.0,36999.0,38361.0,37248.0,24594.0,25905.0,24868.800000000003,18907.02,18801.0,24096.0,25908.0,27483.0,29085.0,32922.0,34167.0,33945.0,26067.0,25161.0,22104.0,19818.0,23868.0,25002.0,24001.92,37383.0,31098.0,34260.0,31542.0,45285.0,39711.0,28863.0,26079.0,25035.840000000004,23094.0,20376.0,32166.0,39051.0,28593.0,30972.0,25626.0,37533.0,28881.0,34347.0,31110.0,24573.0,25437.0,26574.0,30264.0,31215.0,37740.0,36432.0,35658.0,39318.0,31362.0,35160.0,30369.0,39768.0,36198.0,37272.0,25542.0,27312.0,22290.0,20787.0,26052.0,26805.0,29133.0,31350.0,29811.0,27924.0,26807.04,18794.52,36201.0,35199.0,34443.0,37116.0,47835.0,26949.0,32802.0,52770.0,32019.0,24327.0,24732.0,25131.0,23172.0,30405.0,29415.0,35256.0,34323.0,33708.0,36477.0,25578.0,27036.0,28197.0,22503.0,25119.0,30873.0,35409.0,33354.0,31686.300000000003,36843.0,39480.0,28968.0,35034.0,31764.0,21732.0,27735.0,30513.0,33240.0,28920.0,27213.0,28563.0,34578.0,28866.0,24993.0,20070.0,21234.0,22710.0,23352.0,31017.0,38421.0,32658.0,33303.0,31794.0,38694.0,28386.0,39192.0,47049.0,38445.0,36591.0,23469.0,11734.5,21042.0,19779.48,28872.0,45465.0,36918.0,34566.0,27998.46,36660.0,27048.0,25695.6,17764.56,21552.0,22236.0,22884.0,26820.0,31044.0,33381.0,32838.0,31524.48,39984.0,26427.0,23550.0,18945.0,23274.0,23904.0,22371.0,24327.0,26292.0,21559.44,29442.0,33717.0,39531.0,25458.0,21822.0,17556.0,18696.0,17761.199999999997,26604.0,28275.0,28641.0,28296.0,28917.0,26679.0,37245.0,36831.0,36945.0,24702.0,15809.28,20376.0,20427.0,29019.0,36516.0,32082.0,26895.0,30336.0,33447.0,24186.0,27120.0,23628.0,24180.0,20634.0,20427.66,14909.34,18117.45,21161.88,35640.0,38319.0,36246.0,25065.0,24062.4,20130.0,21291.0,20652.27,31827.0,31851.0,34782.0,32478.0,28596.0,35322.0,54969.0,34641.0,25656.0,24116.64,4110.75,4618.17,4737.0,37125.0,43347.0,36123.0,35039.31,47850.0,33591.0,28728.0,36684.0,23802.0,42252.0,32439.0,31790.22,28134.0,27852.66,48663.0,62202.0,48279.0,50298.0,53088.0,57366.0,36840.0,38991.0,35916.0,30960.0,29958.0,32424.0,34911.0,40266.0,53313.0,50604.0,41985.0,51261.0,45330.0,39849.0,34017.0,35436.0,43365.0,34830.0,40968.0,44094.0,35496.0,40011.0,55062.0,60777.0,60777.0,6436.08,29124.0,28590.0,29115.0,37071.0,48546.0,42939.0,31345.47,37536.0,41154.0,53226.0,52788.0,47787.0,34614.0,30402.0,34314.0,39114.0,45174.0,46050.0,44668.5,33453.3,27938.91,28134.0,26634.0,22119.0,28548.0,29826.0,25962.0,32520.0,35070.0,33444.0,33093.0,14229.99,50952.0,28842.0,32163.0,16497.0,30960.0,26013.0,37545.0,38079.0,33768.0,34779.0,33480.0,33378.0,37146.0,33129.0,31141.26,25686.0,24429.0,25722.0,27882.0,31983.0,43104.0,44214.0,36963.0,36963.0,41073.0,29691.0,25272.0,26976.0,27444.0,23517.0,25485.0,34968.0,35952.0,34873.44,38670.0,37524.0,37148.76,24120.0,26661.0,26925.0,24393.0,29766.0,34476.0,29145.0,42591.0,41403.0,35448.0,43497.0,31650.0,33087.0,26670.0,26235.0,25710.300000000003,3355.56,30972.0,44589.0,44604.0,39363.0,40050.0,47205.0,30153.0,27861.0,27861.0,32334.0,25380.0,28269.0,31698.0,36087.0,34146.0,33121.62,43452.0,45618.0,28959.0,28698.0,28908.0,25176.0,24672.48,22194.57,25605.0,35742.0,35027.16,34758.0,33367.68,48915.0,45980.100000000006,30750.0,27936.0,24645.0,26352.0,27774.0,34977.0,42552.0,29274.0,30609.0,37401.0,44568.0,33390.0,39330.0,35598.0,28548.0,27996.0,32247.0,30634.65,38418.0,45795.0,43359.0,35841.0,46077.0,39093.0,58902.0,44016.0,44016.0,56577.0,30570.0,30930.0,29283.0,28827.0,31992.0,41757.0,49950.0,37287.0,33063.0,36150.0,48024.0,47063.52]},{\"marker\":{\"color\":\"orange\"},\"mode\":\"lines\",\"name\":\"Predictions\",\"type\":\"scatter\",\"x\":[\"2019-06-01\",\"2019-06-02\",\"2019-06-03\",\"2019-06-04\",\"2019-06-05\",\"2019-06-06\",\"2019-06-07\",\"2019-06-08\",\"2019-06-09\",\"2019-06-10\",\"2019-06-11\",\"2019-06-12\",\"2019-06-13\",\"2019-06-14\",\"2019-06-15\",\"2019-06-16\",\"2019-06-17\",\"2019-06-18\",\"2019-06-19\",\"2019-06-20\",\"2019-06-21\",\"2019-06-22\",\"2019-06-23\",\"2019-06-24\",\"2019-06-25\",\"2019-06-26\",\"2019-06-27\",\"2019-06-28\",\"2019-06-29\",\"2019-06-30\",\"2019-07-01\",\"2019-07-02\",\"2019-07-03\",\"2019-07-04\",\"2019-07-05\",\"2019-07-06\",\"2019-07-07\",\"2019-07-08\",\"2019-07-09\",\"2019-07-10\",\"2019-07-11\",\"2019-07-12\",\"2019-07-13\",\"2019-07-14\",\"2019-07-15\",\"2019-07-16\",\"2019-07-17\",\"2019-07-18\",\"2019-07-19\",\"2019-07-20\",\"2019-07-21\",\"2019-07-22\",\"2019-07-23\",\"2019-07-24\",\"2019-07-25\",\"2019-07-26\",\"2019-07-27\",\"2019-07-28\",\"2019-07-29\",\"2019-07-30\",\"2019-07-31\"],\"y\":[32837.26171875,29877.62890625,27796.177734375,27312.376953125,30292.150390625,38119.37890625,38371.21875,46087.0859375,46293.76171875,28972.494140625,38739.56640625,37265.1796875,35987.5546875,36893.32421875,37261.0,33988.87109375,25514.740234375,25651.474609375,28954.94140625,28533.5546875,29279.357421875,33170.65234375,55762.7109375,40295.859375,40421.1171875,43204.15234375,41968.16015625,31136.30078125,40043.73046875,38973.87109375,36232.4375,33357.8046875,32410.20703125,36020.31640625,41076.38671875,57530.9140625,51695.140625,29575.15625,39400.15234375,38808.48828125,37946.16796875,38437.375,45545.91796875,33706.92578125,30842.560546875,30572.29296875,30813.3046875,32377.771484375,30959.01171875,33276.0,45501.19140625,34060.57421875,33010.66015625,33999.37890625,34209.12890625,25751.30078125,31458.9609375,31190.3671875,26097.994140625,26539.919921875,29166.9375]}],                        {\"height\":600,\"template\":{\"data\":{\"bar\":[{\"error_x\":{\"color\":\"#2a3f5f\"},\"error_y\":{\"color\":\"#2a3f5f\"},\"marker\":{\"line\":{\"color\":\"#E5ECF6\",\"width\":0.5},\"pattern\":{\"fillmode\":\"overlay\",\"size\":10,\"solidity\":0.2}},\"type\":\"bar\"}],\"barpolar\":[{\"marker\":{\"line\":{\"color\":\"#E5ECF6\",\"width\":0.5},\"pattern\":{\"fillmode\":\"overlay\",\"size\":10,\"solidity\":0.2}},\"type\":\"barpolar\"}],\"carpet\":[{\"aaxis\":{\"endlinecolor\":\"#2a3f5f\",\"gridcolor\":\"white\",\"linecolor\":\"white\",\"minorgridcolor\":\"white\",\"startlinecolor\":\"#2a3f5f\"},\"baxis\":{\"endlinecolor\":\"#2a3f5f\",\"gridcolor\":\"white\",\"linecolor\":\"white\",\"minorgridcolor\":\"white\",\"startlinecolor\":\"#2a3f5f\"},\"type\":\"carpet\"}],\"choropleth\":[{\"colorbar\":{\"outlinewidth\":0,\"ticks\":\"\"},\"type\":\"choropleth\"}],\"contour\":[{\"colorbar\":{\"outlinewidth\":0,\"ticks\":\"\"},\"colorscale\":[[0.0,\"#0d0887\"],[0.1111111111111111,\"#46039f\"],[0.2222222222222222,\"#7201a8\"],[0.3333333333333333,\"#9c179e\"],[0.4444444444444444,\"#bd3786\"],[0.5555555555555556,\"#d8576b\"],[0.6666666666666666,\"#ed7953\"],[0.7777777777777778,\"#fb9f3a\"],[0.8888888888888888,\"#fdca26\"],[1.0,\"#f0f921\"]],\"type\":\"contour\"}],\"contourcarpet\":[{\"colorbar\":{\"outlinewidth\":0,\"ticks\":\"\"},\"type\":\"contourcarpet\"}],\"heatmap\":[{\"colorbar\":{\"outlinewidth\":0,\"ticks\":\"\"},\"colorscale\":[[0.0,\"#0d0887\"],[0.1111111111111111,\"#46039f\"],[0.2222222222222222,\"#7201a8\"],[0.3333333333333333,\"#9c179e\"],[0.4444444444444444,\"#bd3786\"],[0.5555555555555556,\"#d8576b\"],[0.6666666666666666,\"#ed7953\"],[0.7777777777777778,\"#fb9f3a\"],[0.8888888888888888,\"#fdca26\"],[1.0,\"#f0f921\"]],\"type\":\"heatmap\"}],\"heatmapgl\":[{\"colorbar\":{\"outlinewidth\":0,\"ticks\":\"\"},\"colorscale\":[[0.0,\"#0d0887\"],[0.1111111111111111,\"#46039f\"],[0.2222222222222222,\"#7201a8\"],[0.3333333333333333,\"#9c179e\"],[0.4444444444444444,\"#bd3786\"],[0.5555555555555556,\"#d8576b\"],[0.6666666666666666,\"#ed7953\"],[0.7777777777777778,\"#fb9f3a\"],[0.8888888888888888,\"#fdca26\"],[1.0,\"#f0f921\"]],\"type\":\"heatmapgl\"}],\"histogram\":[{\"marker\":{\"pattern\":{\"fillmode\":\"overlay\",\"size\":10,\"solidity\":0.2}},\"type\":\"histogram\"}],\"histogram2d\":[{\"colorbar\":{\"outlinewidth\":0,\"ticks\":\"\"},\"colorscale\":[[0.0,\"#0d0887\"],[0.1111111111111111,\"#46039f\"],[0.2222222222222222,\"#7201a8\"],[0.3333333333333333,\"#9c179e\"],[0.4444444444444444,\"#bd3786\"],[0.5555555555555556,\"#d8576b\"],[0.6666666666666666,\"#ed7953\"],[0.7777777777777778,\"#fb9f3a\"],[0.8888888888888888,\"#fdca26\"],[1.0,\"#f0f921\"]],\"type\":\"histogram2d\"}],\"histogram2dcontour\":[{\"colorbar\":{\"outlinewidth\":0,\"ticks\":\"\"},\"colorscale\":[[0.0,\"#0d0887\"],[0.1111111111111111,\"#46039f\"],[0.2222222222222222,\"#7201a8\"],[0.3333333333333333,\"#9c179e\"],[0.4444444444444444,\"#bd3786\"],[0.5555555555555556,\"#d8576b\"],[0.6666666666666666,\"#ed7953\"],[0.7777777777777778,\"#fb9f3a\"],[0.8888888888888888,\"#fdca26\"],[1.0,\"#f0f921\"]],\"type\":\"histogram2dcontour\"}],\"mesh3d\":[{\"colorbar\":{\"outlinewidth\":0,\"ticks\":\"\"},\"type\":\"mesh3d\"}],\"parcoords\":[{\"line\":{\"colorbar\":{\"outlinewidth\":0,\"ticks\":\"\"}},\"type\":\"parcoords\"}],\"pie\":[{\"automargin\":true,\"type\":\"pie\"}],\"scatter\":[{\"marker\":{\"colorbar\":{\"outlinewidth\":0,\"ticks\":\"\"}},\"type\":\"scatter\"}],\"scatter3d\":[{\"line\":{\"colorbar\":{\"outlinewidth\":0,\"ticks\":\"\"}},\"marker\":{\"colorbar\":{\"outlinewidth\":0,\"ticks\":\"\"}},\"type\":\"scatter3d\"}],\"scattercarpet\":[{\"marker\":{\"colorbar\":{\"outlinewidth\":0,\"ticks\":\"\"}},\"type\":\"scattercarpet\"}],\"scattergeo\":[{\"marker\":{\"colorbar\":{\"outlinewidth\":0,\"ticks\":\"\"}},\"type\":\"scattergeo\"}],\"scattergl\":[{\"marker\":{\"colorbar\":{\"outlinewidth\":0,\"ticks\":\"\"}},\"type\":\"scattergl\"}],\"scattermapbox\":[{\"marker\":{\"colorbar\":{\"outlinewidth\":0,\"ticks\":\"\"}},\"type\":\"scattermapbox\"}],\"scatterpolar\":[{\"marker\":{\"colorbar\":{\"outlinewidth\":0,\"ticks\":\"\"}},\"type\":\"scatterpolar\"}],\"scatterpolargl\":[{\"marker\":{\"colorbar\":{\"outlinewidth\":0,\"ticks\":\"\"}},\"type\":\"scatterpolargl\"}],\"scatterternary\":[{\"marker\":{\"colorbar\":{\"outlinewidth\":0,\"ticks\":\"\"}},\"type\":\"scatterternary\"}],\"surface\":[{\"colorbar\":{\"outlinewidth\":0,\"ticks\":\"\"},\"colorscale\":[[0.0,\"#0d0887\"],[0.1111111111111111,\"#46039f\"],[0.2222222222222222,\"#7201a8\"],[0.3333333333333333,\"#9c179e\"],[0.4444444444444444,\"#bd3786\"],[0.5555555555555556,\"#d8576b\"],[0.6666666666666666,\"#ed7953\"],[0.7777777777777778,\"#fb9f3a\"],[0.8888888888888888,\"#fdca26\"],[1.0,\"#f0f921\"]],\"type\":\"surface\"}],\"table\":[{\"cells\":{\"fill\":{\"color\":\"#EBF0F8\"},\"line\":{\"color\":\"white\"}},\"header\":{\"fill\":{\"color\":\"#C8D4E3\"},\"line\":{\"color\":\"white\"}},\"type\":\"table\"}]},\"layout\":{\"annotationdefaults\":{\"arrowcolor\":\"#2a3f5f\",\"arrowhead\":0,\"arrowwidth\":1},\"autotypenumbers\":\"strict\",\"coloraxis\":{\"colorbar\":{\"outlinewidth\":0,\"ticks\":\"\"}},\"colorscale\":{\"diverging\":[[0,\"#8e0152\"],[0.1,\"#c51b7d\"],[0.2,\"#de77ae\"],[0.3,\"#f1b6da\"],[0.4,\"#fde0ef\"],[0.5,\"#f7f7f7\"],[0.6,\"#e6f5d0\"],[0.7,\"#b8e186\"],[0.8,\"#7fbc41\"],[0.9,\"#4d9221\"],[1,\"#276419\"]],\"sequential\":[[0.0,\"#0d0887\"],[0.1111111111111111,\"#46039f\"],[0.2222222222222222,\"#7201a8\"],[0.3333333333333333,\"#9c179e\"],[0.4444444444444444,\"#bd3786\"],[0.5555555555555556,\"#d8576b\"],[0.6666666666666666,\"#ed7953\"],[0.7777777777777778,\"#fb9f3a\"],[0.8888888888888888,\"#fdca26\"],[1.0,\"#f0f921\"]],\"sequentialminus\":[[0.0,\"#0d0887\"],[0.1111111111111111,\"#46039f\"],[0.2222222222222222,\"#7201a8\"],[0.3333333333333333,\"#9c179e\"],[0.4444444444444444,\"#bd3786\"],[0.5555555555555556,\"#d8576b\"],[0.6666666666666666,\"#ed7953\"],[0.7777777777777778,\"#fb9f3a\"],[0.8888888888888888,\"#fdca26\"],[1.0,\"#f0f921\"]]},\"colorway\":[\"#636efa\",\"#EF553B\",\"#00cc96\",\"#ab63fa\",\"#FFA15A\",\"#19d3f3\",\"#FF6692\",\"#B6E880\",\"#FF97FF\",\"#FECB52\"],\"font\":{\"color\":\"#2a3f5f\"},\"geo\":{\"bgcolor\":\"white\",\"lakecolor\":\"white\",\"landcolor\":\"#E5ECF6\",\"showlakes\":true,\"showland\":true,\"subunitcolor\":\"white\"},\"hoverlabel\":{\"align\":\"left\"},\"hovermode\":\"closest\",\"mapbox\":{\"style\":\"light\"},\"paper_bgcolor\":\"white\",\"plot_bgcolor\":\"#E5ECF6\",\"polar\":{\"angularaxis\":{\"gridcolor\":\"white\",\"linecolor\":\"white\",\"ticks\":\"\"},\"bgcolor\":\"#E5ECF6\",\"radialaxis\":{\"gridcolor\":\"white\",\"linecolor\":\"white\",\"ticks\":\"\"}},\"scene\":{\"xaxis\":{\"backgroundcolor\":\"#E5ECF6\",\"gridcolor\":\"white\",\"gridwidth\":2,\"linecolor\":\"white\",\"showbackground\":true,\"ticks\":\"\",\"zerolinecolor\":\"white\"},\"yaxis\":{\"backgroundcolor\":\"#E5ECF6\",\"gridcolor\":\"white\",\"gridwidth\":2,\"linecolor\":\"white\",\"showbackground\":true,\"ticks\":\"\",\"zerolinecolor\":\"white\"},\"zaxis\":{\"backgroundcolor\":\"#E5ECF6\",\"gridcolor\":\"white\",\"gridwidth\":2,\"linecolor\":\"white\",\"showbackground\":true,\"ticks\":\"\",\"zerolinecolor\":\"white\"}},\"shapedefaults\":{\"line\":{\"color\":\"#2a3f5f\"}},\"ternary\":{\"aaxis\":{\"gridcolor\":\"white\",\"linecolor\":\"white\",\"ticks\":\"\"},\"baxis\":{\"gridcolor\":\"white\",\"linecolor\":\"white\",\"ticks\":\"\"},\"bgcolor\":\"#E5ECF6\",\"caxis\":{\"gridcolor\":\"white\",\"linecolor\":\"white\",\"ticks\":\"\"}},\"title\":{\"x\":0.05},\"xaxis\":{\"automargin\":true,\"gridcolor\":\"white\",\"linecolor\":\"white\",\"ticks\":\"\",\"title\":{\"standoff\":15},\"zerolinecolor\":\"white\",\"zerolinewidth\":2},\"yaxis\":{\"automargin\":true,\"gridcolor\":\"white\",\"linecolor\":\"white\",\"ticks\":\"\",\"title\":{\"standoff\":15},\"zerolinecolor\":\"white\",\"zerolinewidth\":2}}},\"title\":{\"text\":\"StoreId - 180\"},\"width\":1000,\"xaxis\":{\"title\":{\"text\":\"Date\"}},\"yaxis\":{\"title\":{\"text\":\"Sales\"}}},                        {\"responsive\": true}                    ).then(function(){\n",
       "                            \n",
       "var gd = document.getElementById('0ade878a-78fa-440a-b654-f34169780566');\n",
       "var x = new MutationObserver(function (mutations, observer) {{\n",
       "        var display = window.getComputedStyle(gd).display;\n",
       "        if (!display || display === 'none') {{\n",
       "            console.log([gd, 'removed!']);\n",
       "            Plotly.purge(gd);\n",
       "            observer.disconnect();\n",
       "        }}\n",
       "}});\n",
       "\n",
       "// Listen for the removal of the full notebook cells\n",
       "var notebookContainer = gd.closest('#notebook-container');\n",
       "if (notebookContainer) {{\n",
       "    x.observe(notebookContainer, {childList: true});\n",
       "}}\n",
       "\n",
       "// Listen for the clearing of the current output cell\n",
       "var outputEl = gd.closest('.output');\n",
       "if (outputEl) {{\n",
       "    x.observe(outputEl, {childList: true});\n",
       "}}\n",
       "\n",
       "                        })                };                });            </script>        </div>"
      ]
     },
     "metadata": {},
     "output_type": "display_data"
    }
   ],
   "source": [
    "# Get data for each stores separetaly\n",
    "var = 180\n",
    "train_sub = tn[tn['Store_id']==var]\n",
    "test_sub = tt[tt['Store_id']==var]\n",
    "# visualize predictions\n",
    "fig = go.Figure()\n",
    "fig.add_trace(go.Scatter(\n",
    "                    x = train_sub.Date,\n",
    "                    y = train_sub.Sales,\n",
    "                    mode = 'lines',\n",
    "                    name = 'Train data',\n",
    "                    marker_color='green'))\n",
    "fig.add_trace(go.Scatter(\n",
    "                    x = test_sub.Date,\n",
    "                    y = test_sub.Label,\n",
    "                    mode = 'lines',\n",
    "                    name = 'Predictions',\n",
    "                    marker_color='orange'))\n",
    "fig.update_layout(width=1000,height=600,\n",
    "                 title={'text':'StoreId - '+str(var)})\n",
    "fig.update_xaxes(title_text='Date')\n",
    "fig.update_yaxes(title_text='Sales')\n",
    "fig.show()"
   ]
  },
  {
   "cell_type": "code",
   "execution_count": 112,
   "id": "5e9f0c50",
   "metadata": {},
   "outputs": [
    {
     "data": {
      "text/plain": [
       "Index(['ID', 'Store_id', 'Store_Type', 'Location_Type', 'Region_Code', 'Date',\n",
       "       'Holiday', 'Discount', '#Order', 'Sales'],\n",
       "      dtype='object')"
      ]
     },
     "execution_count": 112,
     "metadata": {},
     "output_type": "execute_result"
    }
   ],
   "source": [
    "train.columns"
   ]
  },
  {
   "cell_type": "code",
   "execution_count": 106,
   "id": "87d007f3",
   "metadata": {},
   "outputs": [
    {
     "data": {
      "text/html": [
       "<div>\n",
       "<style scoped>\n",
       "    .dataframe tbody tr th:only-of-type {\n",
       "        vertical-align: middle;\n",
       "    }\n",
       "\n",
       "    .dataframe tbody tr th {\n",
       "        vertical-align: top;\n",
       "    }\n",
       "\n",
       "    .dataframe thead th {\n",
       "        text-align: right;\n",
       "    }\n",
       "</style>\n",
       "<table border=\"1\" class=\"dataframe\">\n",
       "  <thead>\n",
       "    <tr style=\"text-align: right;\">\n",
       "      <th></th>\n",
       "      <th>ID</th>\n",
       "      <th>Store_id</th>\n",
       "      <th>Store_Type</th>\n",
       "      <th>Location_Type</th>\n",
       "      <th>Region_Code</th>\n",
       "      <th>Date</th>\n",
       "      <th>Holiday</th>\n",
       "      <th>Discount</th>\n",
       "      <th>Label</th>\n",
       "    </tr>\n",
       "  </thead>\n",
       "  <tbody>\n",
       "    <tr>\n",
       "      <th>25</th>\n",
       "      <td>T1188366</td>\n",
       "      <td>180</td>\n",
       "      <td>S1</td>\n",
       "      <td>L3</td>\n",
       "      <td>R2</td>\n",
       "      <td>2019-06-01</td>\n",
       "      <td>0</td>\n",
       "      <td>No</td>\n",
       "      <td>32837.261719</td>\n",
       "    </tr>\n",
       "    <tr>\n",
       "      <th>596</th>\n",
       "      <td>T1188937</td>\n",
       "      <td>180</td>\n",
       "      <td>S1</td>\n",
       "      <td>L3</td>\n",
       "      <td>R2</td>\n",
       "      <td>2019-06-02</td>\n",
       "      <td>0</td>\n",
       "      <td>No</td>\n",
       "      <td>29877.628906</td>\n",
       "    </tr>\n",
       "    <tr>\n",
       "      <th>966</th>\n",
       "      <td>T1189307</td>\n",
       "      <td>180</td>\n",
       "      <td>S1</td>\n",
       "      <td>L3</td>\n",
       "      <td>R2</td>\n",
       "      <td>2019-06-03</td>\n",
       "      <td>0</td>\n",
       "      <td>No</td>\n",
       "      <td>27796.177734</td>\n",
       "    </tr>\n",
       "    <tr>\n",
       "      <th>1252</th>\n",
       "      <td>T1189593</td>\n",
       "      <td>180</td>\n",
       "      <td>S1</td>\n",
       "      <td>L3</td>\n",
       "      <td>R2</td>\n",
       "      <td>2019-06-04</td>\n",
       "      <td>0</td>\n",
       "      <td>No</td>\n",
       "      <td>27312.376953</td>\n",
       "    </tr>\n",
       "    <tr>\n",
       "      <th>1662</th>\n",
       "      <td>T1190003</td>\n",
       "      <td>180</td>\n",
       "      <td>S1</td>\n",
       "      <td>L3</td>\n",
       "      <td>R2</td>\n",
       "      <td>2019-06-05</td>\n",
       "      <td>1</td>\n",
       "      <td>No</td>\n",
       "      <td>30292.150391</td>\n",
       "    </tr>\n",
       "    <tr>\n",
       "      <th>...</th>\n",
       "      <td>...</td>\n",
       "      <td>...</td>\n",
       "      <td>...</td>\n",
       "      <td>...</td>\n",
       "      <td>...</td>\n",
       "      <td>...</td>\n",
       "      <td>...</td>\n",
       "      <td>...</td>\n",
       "      <td>...</td>\n",
       "    </tr>\n",
       "    <tr>\n",
       "      <th>20530</th>\n",
       "      <td>T1208871</td>\n",
       "      <td>180</td>\n",
       "      <td>S1</td>\n",
       "      <td>L3</td>\n",
       "      <td>R2</td>\n",
       "      <td>2019-07-27</td>\n",
       "      <td>0</td>\n",
       "      <td>No</td>\n",
       "      <td>31458.960938</td>\n",
       "    </tr>\n",
       "    <tr>\n",
       "      <th>20830</th>\n",
       "      <td>T1209171</td>\n",
       "      <td>180</td>\n",
       "      <td>S1</td>\n",
       "      <td>L3</td>\n",
       "      <td>R2</td>\n",
       "      <td>2019-07-28</td>\n",
       "      <td>0</td>\n",
       "      <td>No</td>\n",
       "      <td>31190.367188</td>\n",
       "    </tr>\n",
       "    <tr>\n",
       "      <th>21237</th>\n",
       "      <td>T1209578</td>\n",
       "      <td>180</td>\n",
       "      <td>S1</td>\n",
       "      <td>L3</td>\n",
       "      <td>R2</td>\n",
       "      <td>2019-07-29</td>\n",
       "      <td>0</td>\n",
       "      <td>No</td>\n",
       "      <td>26097.994141</td>\n",
       "    </tr>\n",
       "    <tr>\n",
       "      <th>21806</th>\n",
       "      <td>T1210147</td>\n",
       "      <td>180</td>\n",
       "      <td>S1</td>\n",
       "      <td>L3</td>\n",
       "      <td>R2</td>\n",
       "      <td>2019-07-30</td>\n",
       "      <td>0</td>\n",
       "      <td>No</td>\n",
       "      <td>26539.919922</td>\n",
       "    </tr>\n",
       "    <tr>\n",
       "      <th>22232</th>\n",
       "      <td>T1210573</td>\n",
       "      <td>180</td>\n",
       "      <td>S1</td>\n",
       "      <td>L3</td>\n",
       "      <td>R2</td>\n",
       "      <td>2019-07-31</td>\n",
       "      <td>0</td>\n",
       "      <td>No</td>\n",
       "      <td>29166.937500</td>\n",
       "    </tr>\n",
       "  </tbody>\n",
       "</table>\n",
       "<p>61 rows × 9 columns</p>\n",
       "</div>"
      ],
      "text/plain": [
       "             ID  Store_id Store_Type Location_Type Region_Code        Date  \\\n",
       "25     T1188366       180         S1            L3          R2  2019-06-01   \n",
       "596    T1188937       180         S1            L3          R2  2019-06-02   \n",
       "966    T1189307       180         S1            L3          R2  2019-06-03   \n",
       "1252   T1189593       180         S1            L3          R2  2019-06-04   \n",
       "1662   T1190003       180         S1            L3          R2  2019-06-05   \n",
       "...         ...       ...        ...           ...         ...         ...   \n",
       "20530  T1208871       180         S1            L3          R2  2019-07-27   \n",
       "20830  T1209171       180         S1            L3          R2  2019-07-28   \n",
       "21237  T1209578       180         S1            L3          R2  2019-07-29   \n",
       "21806  T1210147       180         S1            L3          R2  2019-07-30   \n",
       "22232  T1210573       180         S1            L3          R2  2019-07-31   \n",
       "\n",
       "       Holiday Discount         Label  \n",
       "25           0       No  32837.261719  \n",
       "596          0       No  29877.628906  \n",
       "966          0       No  27796.177734  \n",
       "1252         0       No  27312.376953  \n",
       "1662         1       No  30292.150391  \n",
       "...        ...      ...           ...  \n",
       "20530        0       No  31458.960938  \n",
       "20830        0       No  31190.367188  \n",
       "21237        0       No  26097.994141  \n",
       "21806        0       No  26539.919922  \n",
       "22232        0       No  29166.937500  \n",
       "\n",
       "[61 rows x 9 columns]"
      ]
     },
     "execution_count": 106,
     "metadata": {},
     "output_type": "execute_result"
    }
   ],
   "source": [
    "test_sub"
   ]
  },
  {
   "cell_type": "code",
   "execution_count": null,
   "id": "a42f7797",
   "metadata": {},
   "outputs": [],
   "source": []
  }
 ],
 "metadata": {
  "kernelspec": {
   "display_name": "Python 3 (ipykernel)",
   "language": "python",
   "name": "python3"
  },
  "language_info": {
   "codemirror_mode": {
    "name": "ipython",
    "version": 3
   },
   "file_extension": ".py",
   "mimetype": "text/x-python",
   "name": "python",
   "nbconvert_exporter": "python",
   "pygments_lexer": "ipython3",
   "version": "3.7.11"
  },
  "widgets": {
   "application/vnd.jupyter.widget-state+json": {
    "state": {
     "03904d7afc984a05ac135ee9b392ee18": {
      "model_module": "@jupyter-widgets/controls",
      "model_module_version": "1.5.0",
      "model_name": "ProgressStyleModel",
      "state": {
       "description_width": ""
      }
     },
     "04da8484fd124fd6b9f8d0b9ed554487": {
      "model_module": "@jupyter-widgets/controls",
      "model_module_version": "1.5.0",
      "model_name": "IntProgressModel",
      "state": {
       "description": "Processing: ",
       "layout": "IPY_MODEL_e49ac991d88f42e1a5b7eae4978b4750",
       "max": 7,
       "style": "IPY_MODEL_b31c4a42c9af4420a546b3376772154a",
       "value": 7
      }
     },
     "05ce3ca1c1344fc8a77d4a50a2280363": {
      "model_module": "@jupyter-widgets/controls",
      "model_module_version": "1.5.0",
      "model_name": "IntProgressModel",
      "state": {
       "description": "Processing: ",
       "layout": "IPY_MODEL_ae75364673f74041a23f10890786c106",
       "max": 4,
       "style": "IPY_MODEL_dae7d184652e4b9fbb929bf91949c172",
       "value": 4
      }
     },
     "062f2f7e6af442cfaed7a244c6606293": {
      "model_module": "@jupyter-widgets/base",
      "model_module_version": "1.2.0",
      "model_name": "LayoutModel",
      "state": {}
     },
     "0794441bd0a147b08116f9ce0cde6ebe": {
      "model_module": "@jupyter-widgets/controls",
      "model_module_version": "1.5.0",
      "model_name": "ProgressStyleModel",
      "state": {
       "description_width": ""
      }
     },
     "07d75a7fb30847a283597e24f9c0fcff": {
      "model_module": "@jupyter-widgets/controls",
      "model_module_version": "1.5.0",
      "model_name": "IntProgressModel",
      "state": {
       "description": "Processing: ",
       "layout": "IPY_MODEL_a1ee33d12557498297f5d881c5e53d07",
       "max": 4,
       "style": "IPY_MODEL_5b09a75d5cc14702a2f5726dfc2fa9a1",
       "value": 4
      }
     },
     "08ac566bfe7d4fb38941d3e9b9999234": {
      "model_module": "@jupyter-widgets/controls",
      "model_module_version": "1.5.0",
      "model_name": "ProgressStyleModel",
      "state": {
       "description_width": ""
      }
     },
     "09c3be4b75a94446b46111c61fae2d59": {
      "model_module": "@jupyter-widgets/controls",
      "model_module_version": "1.5.0",
      "model_name": "ProgressStyleModel",
      "state": {
       "description_width": ""
      }
     },
     "0b126c665e07436f9e786b3d77fbd4da": {
      "model_module": "@jupyter-widgets/controls",
      "model_module_version": "1.5.0",
      "model_name": "ProgressStyleModel",
      "state": {
       "description_width": ""
      }
     },
     "0b5e2c9465ae40f2bbe92cbdb77a585d": {
      "model_module": "@jupyter-widgets/controls",
      "model_module_version": "1.5.0",
      "model_name": "IntProgressModel",
      "state": {
       "description": "Processing: ",
       "layout": "IPY_MODEL_062f2f7e6af442cfaed7a244c6606293",
       "max": 7,
       "style": "IPY_MODEL_a4910a68fe4b42ea9521a5fee2586fea",
       "value": 7
      }
     },
     "0ce35b920faa4d9180101717ebafc6e7": {
      "model_module": "@jupyter-widgets/base",
      "model_module_version": "1.2.0",
      "model_name": "LayoutModel",
      "state": {}
     },
     "0d68f185410a4a7f9be2d4f2e8d77ee4": {
      "model_module": "@jupyter-widgets/controls",
      "model_module_version": "1.5.0",
      "model_name": "ProgressStyleModel",
      "state": {
       "description_width": ""
      }
     },
     "11daf9606bc1436cad792a88d799210d": {
      "model_module": "@jupyter-widgets/base",
      "model_module_version": "1.2.0",
      "model_name": "LayoutModel",
      "state": {}
     },
     "11e781d9110a41cc8dcc7bc3b24b11ce": {
      "model_module": "@jupyter-widgets/base",
      "model_module_version": "1.2.0",
      "model_name": "LayoutModel",
      "state": {}
     },
     "121d6a557c634d1cba3370e3aa7ac5f3": {
      "model_module": "@jupyter-widgets/base",
      "model_module_version": "1.2.0",
      "model_name": "LayoutModel",
      "state": {}
     },
     "124ab6a4b4bd4b3592d6971936ced9fe": {
      "model_module": "@jupyter-widgets/controls",
      "model_module_version": "1.5.0",
      "model_name": "ProgressStyleModel",
      "state": {
       "description_width": ""
      }
     },
     "1399a80a752f4dcbade5e68a8972ede7": {
      "model_module": "@jupyter-widgets/controls",
      "model_module_version": "1.5.0",
      "model_name": "IntProgressModel",
      "state": {
       "description": "Processing: ",
       "layout": "IPY_MODEL_366f053ba4554a4a814b6fab0bf47544",
       "max": 4,
       "style": "IPY_MODEL_45ef968ea51d48cd9a1d80d3c3b31782",
       "value": 4
      }
     },
     "1451ae6e141049bab2f8c5aa75f6f57f": {
      "model_module": "@jupyter-widgets/controls",
      "model_module_version": "1.5.0",
      "model_name": "IntProgressModel",
      "state": {
       "description": "Processing: ",
       "layout": "IPY_MODEL_11e781d9110a41cc8dcc7bc3b24b11ce",
       "max": 4,
       "style": "IPY_MODEL_27baf7ae49db47fda6decb21025d422c",
       "value": 4
      }
     },
     "1698e4661e274883a4abe73d415d2399": {
      "model_module": "@jupyter-widgets/base",
      "model_module_version": "1.2.0",
      "model_name": "LayoutModel",
      "state": {}
     },
     "189a2d105fcc435fb09fa515ba4c15a1": {
      "model_module": "@jupyter-widgets/controls",
      "model_module_version": "1.5.0",
      "model_name": "ProgressStyleModel",
      "state": {
       "description_width": ""
      }
     },
     "192f59a19cf24414883f0283249a8987": {
      "model_module": "@jupyter-widgets/controls",
      "model_module_version": "1.5.0",
      "model_name": "IntProgressModel",
      "state": {
       "description": "Processing: ",
       "layout": "IPY_MODEL_8738a0054dd244e0911f2b7a82b1ee64",
       "max": 7,
       "style": "IPY_MODEL_95a1c7e1c00f4ba4b81baf319b1b47aa",
       "value": 2
      }
     },
     "1d227197784a486a998fd69f775fb7d4": {
      "model_module": "@jupyter-widgets/controls",
      "model_module_version": "1.5.0",
      "model_name": "IntProgressModel",
      "state": {
       "description": "Processing: ",
       "layout": "IPY_MODEL_f426a7c3e4704aa78c09634bcfcadab6",
       "max": 4,
       "style": "IPY_MODEL_7754198132ac422e8e95ac999822d124",
       "value": 4
      }
     },
     "1da4bf222cd445d5b38b818e9bda4f94": {
      "model_module": "@jupyter-widgets/controls",
      "model_module_version": "1.5.0",
      "model_name": "ProgressStyleModel",
      "state": {
       "description_width": ""
      }
     },
     "1dd7c006a044401dbaec5257e756bd62": {
      "model_module": "@jupyter-widgets/base",
      "model_module_version": "1.2.0",
      "model_name": "LayoutModel",
      "state": {}
     },
     "1fff3df55ca3496aba2bc89dab258aaa": {
      "model_module": "@jupyter-widgets/base",
      "model_module_version": "1.2.0",
      "model_name": "LayoutModel",
      "state": {}
     },
     "2208c3ac11314ee8aa285bc443f7af7e": {
      "model_module": "@jupyter-widgets/controls",
      "model_module_version": "1.5.0",
      "model_name": "ProgressStyleModel",
      "state": {
       "description_width": ""
      }
     },
     "267616d349e243ac8356071593f700f7": {
      "model_module": "@jupyter-widgets/controls",
      "model_module_version": "1.5.0",
      "model_name": "IntProgressModel",
      "state": {
       "description": "Processing: ",
       "layout": "IPY_MODEL_67860bac054c4a0bb9f0bec8750a6214",
       "max": 4,
       "style": "IPY_MODEL_d66a43b0d8654f4e9af76801fe58652a",
       "value": 4
      }
     },
     "27baf7ae49db47fda6decb21025d422c": {
      "model_module": "@jupyter-widgets/controls",
      "model_module_version": "1.5.0",
      "model_name": "ProgressStyleModel",
      "state": {
       "description_width": ""
      }
     },
     "28861254e26c42e792a86a0f6985ff7c": {
      "model_module": "@jupyter-widgets/base",
      "model_module_version": "1.2.0",
      "model_name": "LayoutModel",
      "state": {}
     },
     "29363d07aac44f04ac38df09b85c344a": {
      "model_module": "@jupyter-widgets/controls",
      "model_module_version": "1.5.0",
      "model_name": "IntProgressModel",
      "state": {
       "description": "Processing: ",
       "layout": "IPY_MODEL_b1dada86d42544a083c9752fd239b564",
       "max": 6,
       "style": "IPY_MODEL_0d68f185410a4a7f9be2d4f2e8d77ee4",
       "value": 6
      }
     },
     "2957c5b604884b7884cc4686f89f479d": {
      "model_module": "@jupyter-widgets/controls",
      "model_module_version": "1.5.0",
      "model_name": "IntProgressModel",
      "state": {
       "description": "Processing: ",
       "layout": "IPY_MODEL_7b80d21d4dfb47e3b5c50d0ae5d9d7dc",
       "max": 6,
       "style": "IPY_MODEL_3969742d564c4b0a86d6fc66322903af",
       "value": 6
      }
     },
     "2bc08b35ab7245ffabf2122f4642bd66": {
      "model_module": "@jupyter-widgets/controls",
      "model_module_version": "1.5.0",
      "model_name": "ProgressStyleModel",
      "state": {
       "description_width": ""
      }
     },
     "2c7c27af246f4c0288e37ccb34c369f0": {
      "model_module": "@jupyter-widgets/controls",
      "model_module_version": "1.5.0",
      "model_name": "ProgressStyleModel",
      "state": {
       "description_width": ""
      }
     },
     "2ca5906935564651936b6c508ee7a6f3": {
      "model_module": "@jupyter-widgets/base",
      "model_module_version": "1.2.0",
      "model_name": "LayoutModel",
      "state": {}
     },
     "2e922b0fa07148fc948ec2c599294fd5": {
      "model_module": "@jupyter-widgets/controls",
      "model_module_version": "1.5.0",
      "model_name": "IntProgressModel",
      "state": {
       "description": "Processing: ",
       "layout": "IPY_MODEL_978de874c562446b99c2ab13476958b4",
       "max": 3,
       "style": "IPY_MODEL_08ac566bfe7d4fb38941d3e9b9999234",
       "value": 3
      }
     },
     "361b81d491ee42d69f5b54222d3fd7f4": {
      "model_module": "@jupyter-widgets/base",
      "model_module_version": "1.2.0",
      "model_name": "LayoutModel",
      "state": {}
     },
     "366f053ba4554a4a814b6fab0bf47544": {
      "model_module": "@jupyter-widgets/base",
      "model_module_version": "1.2.0",
      "model_name": "LayoutModel",
      "state": {}
     },
     "3969742d564c4b0a86d6fc66322903af": {
      "model_module": "@jupyter-widgets/controls",
      "model_module_version": "1.5.0",
      "model_name": "ProgressStyleModel",
      "state": {
       "description_width": ""
      }
     },
     "3af347fb62914e62b35b9666514902b3": {
      "model_module": "@jupyter-widgets/controls",
      "model_module_version": "1.5.0",
      "model_name": "IntProgressModel",
      "state": {
       "description": "Processing: ",
       "layout": "IPY_MODEL_361b81d491ee42d69f5b54222d3fd7f4",
       "max": 6,
       "style": "IPY_MODEL_d012ad42297d4034b34f104d03cc4e04",
       "value": 5
      }
     },
     "3afaaece01f341a5aefa2a4c95bf4129": {
      "model_module": "@jupyter-widgets/base",
      "model_module_version": "1.2.0",
      "model_name": "LayoutModel",
      "state": {}
     },
     "3b0c07f2819341d9aa2f2584f42ed088": {
      "model_module": "@jupyter-widgets/controls",
      "model_module_version": "1.5.0",
      "model_name": "IntProgressModel",
      "state": {
       "description": "Processing: ",
       "layout": "IPY_MODEL_9ad29a64edf24a6d993a869849576231",
       "max": 6,
       "style": "IPY_MODEL_a9584019ef9f4ab8bf3d7b22d5c3c7cc",
       "value": 6
      }
     },
     "41ced509660e4ad9822249167cf8ec5d": {
      "model_module": "@jupyter-widgets/controls",
      "model_module_version": "1.5.0",
      "model_name": "IntProgressModel",
      "state": {
       "description": "Processing: ",
       "layout": "IPY_MODEL_54b8f86f942d4ae9a81ad14d5a37dfaa",
       "max": 4,
       "style": "IPY_MODEL_5bf1e82f6133469f9dd4552e2768444d",
       "value": 4
      }
     },
     "4238a237079e4647a2c7b88dd7e084c6": {
      "model_module": "@jupyter-widgets/controls",
      "model_module_version": "1.5.0",
      "model_name": "IntProgressModel",
      "state": {
       "description": "Processing: ",
       "layout": "IPY_MODEL_6b82ee31933047928b6285f9520308a4",
       "max": 4,
       "style": "IPY_MODEL_b80274494f5e4743b60f702cfe121e80",
       "value": 4
      }
     },
     "43051744cc6f42f4a4211dc8978f9710": {
      "model_module": "@jupyter-widgets/controls",
      "model_module_version": "1.5.0",
      "model_name": "ProgressStyleModel",
      "state": {
       "description_width": ""
      }
     },
     "443bec73a91846b5944984e2dcd80deb": {
      "model_module": "@jupyter-widgets/controls",
      "model_module_version": "1.5.0",
      "model_name": "IntProgressModel",
      "state": {
       "description": "Processing: ",
       "layout": "IPY_MODEL_5f98dfc65e224b5489a8a818e420187e",
       "max": 4,
       "style": "IPY_MODEL_e4cc27c669604db5864a4a750d1d099b",
       "value": 4
      }
     },
     "45ef968ea51d48cd9a1d80d3c3b31782": {
      "model_module": "@jupyter-widgets/controls",
      "model_module_version": "1.5.0",
      "model_name": "ProgressStyleModel",
      "state": {
       "description_width": ""
      }
     },
     "4a855d50e0e2426ca4cb1ce9c3f70834": {
      "model_module": "@jupyter-widgets/base",
      "model_module_version": "1.2.0",
      "model_name": "LayoutModel",
      "state": {}
     },
     "547343dd8f7f403285a5b0275c0fbbb6": {
      "model_module": "@jupyter-widgets/base",
      "model_module_version": "1.2.0",
      "model_name": "LayoutModel",
      "state": {}
     },
     "54b8f86f942d4ae9a81ad14d5a37dfaa": {
      "model_module": "@jupyter-widgets/base",
      "model_module_version": "1.2.0",
      "model_name": "LayoutModel",
      "state": {}
     },
     "56f846c0c3ff42df8a08b12c4dbab2c4": {
      "model_module": "@jupyter-widgets/controls",
      "model_module_version": "1.5.0",
      "model_name": "IntProgressModel",
      "state": {
       "description": "Processing: ",
       "layout": "IPY_MODEL_4a855d50e0e2426ca4cb1ce9c3f70834",
       "max": 4,
       "style": "IPY_MODEL_842e1f5e7ceb40758423d7379876ead2",
       "value": 4
      }
     },
     "5708382c07bd46ada2b36e6bd25f4102": {
      "model_module": "@jupyter-widgets/controls",
      "model_module_version": "1.5.0",
      "model_name": "ProgressStyleModel",
      "state": {
       "description_width": ""
      }
     },
     "592846782fe64de4b172adc6d867a114": {
      "model_module": "@jupyter-widgets/base",
      "model_module_version": "1.2.0",
      "model_name": "LayoutModel",
      "state": {}
     },
     "59c0e10779144e7d997480a612ce293c": {
      "model_module": "@jupyter-widgets/controls",
      "model_module_version": "1.5.0",
      "model_name": "IntProgressModel",
      "state": {
       "description": "Processing: ",
       "layout": "IPY_MODEL_1698e4661e274883a4abe73d415d2399",
       "max": 4,
       "style": "IPY_MODEL_9d4c7f247007443889785a39e534db92",
       "value": 4
      }
     },
     "5b09a75d5cc14702a2f5726dfc2fa9a1": {
      "model_module": "@jupyter-widgets/controls",
      "model_module_version": "1.5.0",
      "model_name": "ProgressStyleModel",
      "state": {
       "description_width": ""
      }
     },
     "5bf1e82f6133469f9dd4552e2768444d": {
      "model_module": "@jupyter-widgets/controls",
      "model_module_version": "1.5.0",
      "model_name": "ProgressStyleModel",
      "state": {
       "description_width": ""
      }
     },
     "5f3b86f626c34747b671db8d9b224f3a": {
      "model_module": "@jupyter-widgets/base",
      "model_module_version": "1.2.0",
      "model_name": "LayoutModel",
      "state": {}
     },
     "5f98dfc65e224b5489a8a818e420187e": {
      "model_module": "@jupyter-widgets/base",
      "model_module_version": "1.2.0",
      "model_name": "LayoutModel",
      "state": {}
     },
     "613c8a5609d74014b4218585a880e15a": {
      "model_module": "@jupyter-widgets/base",
      "model_module_version": "1.2.0",
      "model_name": "LayoutModel",
      "state": {}
     },
     "62b2949d55d449daa907e3f5a68149a0": {
      "model_module": "@jupyter-widgets/controls",
      "model_module_version": "1.5.0",
      "model_name": "ProgressStyleModel",
      "state": {
       "description_width": ""
      }
     },
     "6485dffc4c174985bc04b823e57d351b": {
      "model_module": "@jupyter-widgets/controls",
      "model_module_version": "1.5.0",
      "model_name": "IntProgressModel",
      "state": {
       "description": "Processing: ",
       "layout": "IPY_MODEL_b08395a589df49a7a9201074f294cb09",
       "max": 4,
       "style": "IPY_MODEL_73d9072622e047f5bbce0f1daf19a0df",
       "value": 4
      }
     },
     "657c87b5937e4d2ba254e10634116b1e": {
      "model_module": "@jupyter-widgets/controls",
      "model_module_version": "1.5.0",
      "model_name": "ProgressStyleModel",
      "state": {
       "description_width": ""
      }
     },
     "6748cb5d93944d02bbbc05cca608b46a": {
      "model_module": "@jupyter-widgets/base",
      "model_module_version": "1.2.0",
      "model_name": "LayoutModel",
      "state": {}
     },
     "67860bac054c4a0bb9f0bec8750a6214": {
      "model_module": "@jupyter-widgets/base",
      "model_module_version": "1.2.0",
      "model_name": "LayoutModel",
      "state": {}
     },
     "69b052c97396492eb4f353347760d646": {
      "model_module": "@jupyter-widgets/controls",
      "model_module_version": "1.5.0",
      "model_name": "ProgressStyleModel",
      "state": {
       "description_width": ""
      }
     },
     "6a9cf1c2ea824bdd94cdbe6193ca9800": {
      "model_module": "@jupyter-widgets/base",
      "model_module_version": "1.2.0",
      "model_name": "LayoutModel",
      "state": {}
     },
     "6b82ee31933047928b6285f9520308a4": {
      "model_module": "@jupyter-widgets/base",
      "model_module_version": "1.2.0",
      "model_name": "LayoutModel",
      "state": {}
     },
     "6be361ba13f942ebac97b09dbc4cdd67": {
      "model_module": "@jupyter-widgets/controls",
      "model_module_version": "1.5.0",
      "model_name": "IntProgressModel",
      "state": {
       "description": "Processing: ",
       "layout": "IPY_MODEL_96125dbfb6e642488ef28352878f67d8",
       "max": 4,
       "style": "IPY_MODEL_124ab6a4b4bd4b3592d6971936ced9fe",
       "value": 4
      }
     },
     "6bfc70486c1a46c4a92b856b20fab8f0": {
      "model_module": "@jupyter-widgets/controls",
      "model_module_version": "1.5.0",
      "model_name": "IntProgressModel",
      "state": {
       "description": "Processing: ",
       "layout": "IPY_MODEL_3afaaece01f341a5aefa2a4c95bf4129",
       "max": 6,
       "style": "IPY_MODEL_0b126c665e07436f9e786b3d77fbd4da",
       "value": 6
      }
     },
     "6da94825198440aeaf5a650ab88183fa": {
      "model_module": "@jupyter-widgets/controls",
      "model_module_version": "1.5.0",
      "model_name": "ProgressStyleModel",
      "state": {
       "description_width": ""
      }
     },
     "724ea9cc3c244229b4bbec1726f36946": {
      "model_module": "@jupyter-widgets/controls",
      "model_module_version": "1.5.0",
      "model_name": "IntProgressModel",
      "state": {
       "description": "Processing: ",
       "layout": "IPY_MODEL_a1b8957da26e4dd99b744230ec111bbe",
       "max": 4,
       "style": "IPY_MODEL_1da4bf222cd445d5b38b818e9bda4f94",
       "value": 4
      }
     },
     "73d9072622e047f5bbce0f1daf19a0df": {
      "model_module": "@jupyter-widgets/controls",
      "model_module_version": "1.5.0",
      "model_name": "ProgressStyleModel",
      "state": {
       "description_width": ""
      }
     },
     "763b2b6222254283aec2c402b175a1f7": {
      "model_module": "@jupyter-widgets/controls",
      "model_module_version": "1.5.0",
      "model_name": "ProgressStyleModel",
      "state": {
       "description_width": ""
      }
     },
     "7754198132ac422e8e95ac999822d124": {
      "model_module": "@jupyter-widgets/controls",
      "model_module_version": "1.5.0",
      "model_name": "ProgressStyleModel",
      "state": {
       "description_width": ""
      }
     },
     "7772d4d1b4d041bdb9940b65c6730237": {
      "model_module": "@jupyter-widgets/base",
      "model_module_version": "1.2.0",
      "model_name": "LayoutModel",
      "state": {}
     },
     "784787b16af848a78597bb9a8a5b0799": {
      "model_module": "@jupyter-widgets/controls",
      "model_module_version": "1.5.0",
      "model_name": "ProgressStyleModel",
      "state": {
       "description_width": ""
      }
     },
     "7ad3738eb1bc4476a2fa97f017c79fb2": {
      "model_module": "@jupyter-widgets/controls",
      "model_module_version": "1.5.0",
      "model_name": "IntProgressModel",
      "state": {
       "description": "Processing: ",
       "layout": "IPY_MODEL_1dd7c006a044401dbaec5257e756bd62",
       "max": 4,
       "style": "IPY_MODEL_2c7c27af246f4c0288e37ccb34c369f0",
       "value": 4
      }
     },
     "7b80d21d4dfb47e3b5c50d0ae5d9d7dc": {
      "model_module": "@jupyter-widgets/base",
      "model_module_version": "1.2.0",
      "model_name": "LayoutModel",
      "state": {}
     },
     "7b9482574c5c4dedb4d08349a92ab752": {
      "model_module": "@jupyter-widgets/controls",
      "model_module_version": "1.5.0",
      "model_name": "IntProgressModel",
      "state": {
       "description": "Processing: ",
       "layout": "IPY_MODEL_8e7ddece54ca4fe8bfac6692ef0bb9a5",
       "max": 6,
       "style": "IPY_MODEL_aa2d64cff114419cbe3500936edccce0",
       "value": 6
      }
     },
     "7fe31e1c2ec94aa59e3f7ade94e0c79a": {
      "model_module": "@jupyter-widgets/controls",
      "model_module_version": "1.5.0",
      "model_name": "ProgressStyleModel",
      "state": {
       "description_width": ""
      }
     },
     "80d5c319bf3f4aa88e915ed1bc5185c0": {
      "model_module": "@jupyter-widgets/controls",
      "model_module_version": "1.5.0",
      "model_name": "IntProgressModel",
      "state": {
       "description": "Processing: ",
       "layout": "IPY_MODEL_28861254e26c42e792a86a0f6985ff7c",
       "max": 4,
       "style": "IPY_MODEL_03904d7afc984a05ac135ee9b392ee18",
       "value": 4
      }
     },
     "814190d4e108432ba52a1b9ce9b5198e": {
      "model_module": "@jupyter-widgets/controls",
      "model_module_version": "1.5.0",
      "model_name": "ProgressStyleModel",
      "state": {
       "description_width": ""
      }
     },
     "842e1f5e7ceb40758423d7379876ead2": {
      "model_module": "@jupyter-widgets/controls",
      "model_module_version": "1.5.0",
      "model_name": "ProgressStyleModel",
      "state": {
       "description_width": ""
      }
     },
     "84aaded25625475e8f493474fb4bdb74": {
      "model_module": "@jupyter-widgets/base",
      "model_module_version": "1.2.0",
      "model_name": "LayoutModel",
      "state": {}
     },
     "8694908664d8410fb6940a396c487d5a": {
      "model_module": "@jupyter-widgets/base",
      "model_module_version": "1.2.0",
      "model_name": "LayoutModel",
      "state": {}
     },
     "870e6e769e31459286e52aadd863b096": {
      "model_module": "@jupyter-widgets/controls",
      "model_module_version": "1.5.0",
      "model_name": "IntProgressModel",
      "state": {
       "description": "Processing: ",
       "layout": "IPY_MODEL_9367be8e3d484af9ac598f3e9b31c414",
       "max": 7,
       "style": "IPY_MODEL_784787b16af848a78597bb9a8a5b0799",
       "value": 7
      }
     },
     "8738a0054dd244e0911f2b7a82b1ee64": {
      "model_module": "@jupyter-widgets/base",
      "model_module_version": "1.2.0",
      "model_name": "LayoutModel",
      "state": {}
     },
     "89274e473ec24d44a0fe5e2713a0cebc": {
      "model_module": "@jupyter-widgets/controls",
      "model_module_version": "1.5.0",
      "model_name": "IntProgressModel",
      "state": {
       "description": "Processing: ",
       "layout": "IPY_MODEL_592846782fe64de4b172adc6d867a114",
       "max": 4,
       "style": "IPY_MODEL_62b2949d55d449daa907e3f5a68149a0",
       "value": 4
      }
     },
     "8991c69513a84c72a902a2ba12c3fe99": {
      "model_module": "@jupyter-widgets/base",
      "model_module_version": "1.2.0",
      "model_name": "LayoutModel",
      "state": {}
     },
     "8e7ddece54ca4fe8bfac6692ef0bb9a5": {
      "model_module": "@jupyter-widgets/base",
      "model_module_version": "1.2.0",
      "model_name": "LayoutModel",
      "state": {}
     },
     "9367be8e3d484af9ac598f3e9b31c414": {
      "model_module": "@jupyter-widgets/base",
      "model_module_version": "1.2.0",
      "model_name": "LayoutModel",
      "state": {}
     },
     "93c66a54678c4695b305d55ff5a90f7f": {
      "model_module": "@jupyter-widgets/controls",
      "model_module_version": "1.5.0",
      "model_name": "IntProgressModel",
      "state": {
       "description": "Processing: ",
       "layout": "IPY_MODEL_121d6a557c634d1cba3370e3aa7ac5f3",
       "max": 4,
       "style": "IPY_MODEL_2bc08b35ab7245ffabf2122f4642bd66",
       "value": 4
      }
     },
     "95a1c7e1c00f4ba4b81baf319b1b47aa": {
      "model_module": "@jupyter-widgets/controls",
      "model_module_version": "1.5.0",
      "model_name": "ProgressStyleModel",
      "state": {
       "description_width": ""
      }
     },
     "96125dbfb6e642488ef28352878f67d8": {
      "model_module": "@jupyter-widgets/base",
      "model_module_version": "1.2.0",
      "model_name": "LayoutModel",
      "state": {}
     },
     "978de874c562446b99c2ab13476958b4": {
      "model_module": "@jupyter-widgets/base",
      "model_module_version": "1.2.0",
      "model_name": "LayoutModel",
      "state": {}
     },
     "985438f83d9147399220219388e6ce10": {
      "model_module": "@jupyter-widgets/controls",
      "model_module_version": "1.5.0",
      "model_name": "IntProgressModel",
      "state": {
       "description": "Processing: ",
       "layout": "IPY_MODEL_8694908664d8410fb6940a396c487d5a",
       "max": 6,
       "style": "IPY_MODEL_43051744cc6f42f4a4211dc8978f9710",
       "value": 6
      }
     },
     "9975b403286540aba3cf93835c91e580": {
      "model_module": "@jupyter-widgets/controls",
      "model_module_version": "1.5.0",
      "model_name": "ProgressStyleModel",
      "state": {
       "description_width": ""
      }
     },
     "9ad29a64edf24a6d993a869849576231": {
      "model_module": "@jupyter-widgets/base",
      "model_module_version": "1.2.0",
      "model_name": "LayoutModel",
      "state": {}
     },
     "9c8f109a6012498daa8f546b7b4837ab": {
      "model_module": "@jupyter-widgets/controls",
      "model_module_version": "1.5.0",
      "model_name": "IntProgressModel",
      "state": {
       "description": "Processing: ",
       "layout": "IPY_MODEL_a942547e704d49c2bd03a54eae38cab3",
       "max": 4,
       "style": "IPY_MODEL_a6e05fffe518480180feb72e489cd5de",
       "value": 4
      }
     },
     "9d0dae0c52dc41ef988f6477b3f10147": {
      "model_module": "@jupyter-widgets/controls",
      "model_module_version": "1.5.0",
      "model_name": "IntProgressModel",
      "state": {
       "description": "Processing: ",
       "layout": "IPY_MODEL_7772d4d1b4d041bdb9940b65c6730237",
       "max": 4,
       "style": "IPY_MODEL_5708382c07bd46ada2b36e6bd25f4102",
       "value": 4
      }
     },
     "9d4c7f247007443889785a39e534db92": {
      "model_module": "@jupyter-widgets/controls",
      "model_module_version": "1.5.0",
      "model_name": "ProgressStyleModel",
      "state": {
       "description_width": ""
      }
     },
     "9e2ee11dae0c4869926999ca67701213": {
      "model_module": "@jupyter-widgets/controls",
      "model_module_version": "1.5.0",
      "model_name": "IntProgressModel",
      "state": {
       "description": "Processing: ",
       "layout": "IPY_MODEL_e91274d10ca5454b9aed5374101f83d2",
       "max": 4,
       "style": "IPY_MODEL_e287de1f47804c7fb6d944ce7f03b7fa",
       "value": 4
      }
     },
     "9ef55e0e71664a42960d5fb3316f4ee4": {
      "model_module": "@jupyter-widgets/controls",
      "model_module_version": "1.5.0",
      "model_name": "ProgressStyleModel",
      "state": {
       "description_width": ""
      }
     },
     "9f4c7f50e54a498497de0f038d7eca0a": {
      "model_module": "@jupyter-widgets/controls",
      "model_module_version": "1.5.0",
      "model_name": "IntProgressModel",
      "state": {
       "description": "Processing: ",
       "layout": "IPY_MODEL_8991c69513a84c72a902a2ba12c3fe99",
       "max": 4,
       "style": "IPY_MODEL_c35f30a42ce3405da50d840bbabd3b12",
       "value": 4
      }
     },
     "a1b8957da26e4dd99b744230ec111bbe": {
      "model_module": "@jupyter-widgets/base",
      "model_module_version": "1.2.0",
      "model_name": "LayoutModel",
      "state": {}
     },
     "a1ee33d12557498297f5d881c5e53d07": {
      "model_module": "@jupyter-widgets/base",
      "model_module_version": "1.2.0",
      "model_name": "LayoutModel",
      "state": {}
     },
     "a2bb074e64f4432eab4d03670add9dd9": {
      "model_module": "@jupyter-widgets/controls",
      "model_module_version": "1.5.0",
      "model_name": "IntProgressModel",
      "state": {
       "description": "Processing: ",
       "layout": "IPY_MODEL_6a9cf1c2ea824bdd94cdbe6193ca9800",
       "max": 7,
       "style": "IPY_MODEL_b6692b7e998141fbbb5dffdcaa68f68a",
       "value": 7
      }
     },
     "a4910a68fe4b42ea9521a5fee2586fea": {
      "model_module": "@jupyter-widgets/controls",
      "model_module_version": "1.5.0",
      "model_name": "ProgressStyleModel",
      "state": {
       "description_width": ""
      }
     },
     "a54e5dbed640426fbdf4e68868f517c0": {
      "model_module": "@jupyter-widgets/base",
      "model_module_version": "1.2.0",
      "model_name": "LayoutModel",
      "state": {}
     },
     "a627de9c4d1b40ee887012069e0184ca": {
      "model_module": "@jupyter-widgets/controls",
      "model_module_version": "1.5.0",
      "model_name": "IntProgressModel",
      "state": {
       "description": "Processing: ",
       "layout": "IPY_MODEL_11daf9606bc1436cad792a88d799210d",
       "max": 4,
       "style": "IPY_MODEL_fb9b83f2256c448d892d335b1cc883e0",
       "value": 4
      }
     },
     "a6e05fffe518480180feb72e489cd5de": {
      "model_module": "@jupyter-widgets/controls",
      "model_module_version": "1.5.0",
      "model_name": "ProgressStyleModel",
      "state": {
       "description_width": ""
      }
     },
     "a942547e704d49c2bd03a54eae38cab3": {
      "model_module": "@jupyter-widgets/base",
      "model_module_version": "1.2.0",
      "model_name": "LayoutModel",
      "state": {}
     },
     "a9584019ef9f4ab8bf3d7b22d5c3c7cc": {
      "model_module": "@jupyter-widgets/controls",
      "model_module_version": "1.5.0",
      "model_name": "ProgressStyleModel",
      "state": {
       "description_width": ""
      }
     },
     "aa2d64cff114419cbe3500936edccce0": {
      "model_module": "@jupyter-widgets/controls",
      "model_module_version": "1.5.0",
      "model_name": "ProgressStyleModel",
      "state": {
       "description_width": ""
      }
     },
     "ac32eaf8f09242b293a53534f03deb4f": {
      "model_module": "@jupyter-widgets/controls",
      "model_module_version": "1.5.0",
      "model_name": "IntProgressModel",
      "state": {
       "description": "Processing: ",
       "layout": "IPY_MODEL_6748cb5d93944d02bbbc05cca608b46a",
       "max": 4,
       "style": "IPY_MODEL_189a2d105fcc435fb09fa515ba4c15a1",
       "value": 4
      }
     },
     "ae75364673f74041a23f10890786c106": {
      "model_module": "@jupyter-widgets/base",
      "model_module_version": "1.2.0",
      "model_name": "LayoutModel",
      "state": {}
     },
     "af6746656c144847a8c73eb444ded3f5": {
      "model_module": "@jupyter-widgets/controls",
      "model_module_version": "1.5.0",
      "model_name": "IntProgressModel",
      "state": {
       "description": "Processing: ",
       "layout": "IPY_MODEL_547343dd8f7f403285a5b0275c0fbbb6",
       "max": 4,
       "style": "IPY_MODEL_2208c3ac11314ee8aa285bc443f7af7e",
       "value": 4
      }
     },
     "afad717c86dd4d2bb97944d7e38053e3": {
      "model_module": "@jupyter-widgets/controls",
      "model_module_version": "1.5.0",
      "model_name": "ProgressStyleModel",
      "state": {
       "description_width": ""
      }
     },
     "b08395a589df49a7a9201074f294cb09": {
      "model_module": "@jupyter-widgets/base",
      "model_module_version": "1.2.0",
      "model_name": "LayoutModel",
      "state": {}
     },
     "b094359f296e49d081f7f63ad53de30f": {
      "model_module": "@jupyter-widgets/controls",
      "model_module_version": "1.5.0",
      "model_name": "IntProgressModel",
      "state": {
       "description": "Processing: ",
       "layout": "IPY_MODEL_da08a61de82442f897de09b6a6e73b9e",
       "max": 4,
       "style": "IPY_MODEL_b61dd2cb50464731b523d7a31a15aa15",
       "value": 4
      }
     },
     "b1dada86d42544a083c9752fd239b564": {
      "model_module": "@jupyter-widgets/base",
      "model_module_version": "1.2.0",
      "model_name": "LayoutModel",
      "state": {}
     },
     "b279ec6ecea7433780ba8c6431367faa": {
      "model_module": "@jupyter-widgets/controls",
      "model_module_version": "1.5.0",
      "model_name": "IntProgressModel",
      "state": {
       "description": "Processing: ",
       "layout": "IPY_MODEL_0ce35b920faa4d9180101717ebafc6e7",
       "max": 4,
       "style": "IPY_MODEL_f98ac992bc7048d1afd9b0abd4295d2b",
       "value": 4
      }
     },
     "b31c4a42c9af4420a546b3376772154a": {
      "model_module": "@jupyter-widgets/controls",
      "model_module_version": "1.5.0",
      "model_name": "ProgressStyleModel",
      "state": {
       "description_width": ""
      }
     },
     "b3b0037813b84927bc8ffce71ec613fe": {
      "model_module": "@jupyter-widgets/controls",
      "model_module_version": "1.5.0",
      "model_name": "IntProgressModel",
      "state": {
       "description": "Processing: ",
       "layout": "IPY_MODEL_613c8a5609d74014b4218585a880e15a",
       "max": 6,
       "style": "IPY_MODEL_9975b403286540aba3cf93835c91e580",
       "value": 6
      }
     },
     "b430fb780b9f4552a19b59f67c9791ff": {
      "model_module": "@jupyter-widgets/controls",
      "model_module_version": "1.5.0",
      "model_name": "IntProgressModel",
      "state": {
       "description": "Processing: ",
       "layout": "IPY_MODEL_e925d4864f6643d085754d943d8f124c",
       "max": 99,
       "style": "IPY_MODEL_09c3be4b75a94446b46111c61fae2d59",
       "value": 99
      }
     },
     "b61dd2cb50464731b523d7a31a15aa15": {
      "model_module": "@jupyter-widgets/controls",
      "model_module_version": "1.5.0",
      "model_name": "ProgressStyleModel",
      "state": {
       "description_width": ""
      }
     },
     "b6692b7e998141fbbb5dffdcaa68f68a": {
      "model_module": "@jupyter-widgets/controls",
      "model_module_version": "1.5.0",
      "model_name": "ProgressStyleModel",
      "state": {
       "description_width": ""
      }
     },
     "b80274494f5e4743b60f702cfe121e80": {
      "model_module": "@jupyter-widgets/controls",
      "model_module_version": "1.5.0",
      "model_name": "ProgressStyleModel",
      "state": {
       "description_width": ""
      }
     },
     "c06286b65b4d454f99264e5273e38446": {
      "model_module": "@jupyter-widgets/controls",
      "model_module_version": "1.5.0",
      "model_name": "IntProgressModel",
      "state": {
       "description": "Processing: ",
       "layout": "IPY_MODEL_c2dd10e35c0b4feda2b91a4b698ca992",
       "max": 4,
       "style": "IPY_MODEL_e79a72839c2046bbabc0485c37d5582c",
       "value": 4
      }
     },
     "c2dd10e35c0b4feda2b91a4b698ca992": {
      "model_module": "@jupyter-widgets/base",
      "model_module_version": "1.2.0",
      "model_name": "LayoutModel",
      "state": {}
     },
     "c35f30a42ce3405da50d840bbabd3b12": {
      "model_module": "@jupyter-widgets/controls",
      "model_module_version": "1.5.0",
      "model_name": "ProgressStyleModel",
      "state": {
       "description_width": ""
      }
     },
     "c370d4e332c949c8b60cf5ee822fe344": {
      "model_module": "@jupyter-widgets/controls",
      "model_module_version": "1.5.0",
      "model_name": "IntProgressModel",
      "state": {
       "description": "Processing: ",
       "layout": "IPY_MODEL_5f3b86f626c34747b671db8d9b224f3a",
       "max": 6,
       "style": "IPY_MODEL_d162031a6cc54ad8aee824360f8d4cff",
       "value": 6
      }
     },
     "c5d609bd85244490818daf2818e4123b": {
      "model_module": "@jupyter-widgets/controls",
      "model_module_version": "1.5.0",
      "model_name": "IntProgressModel",
      "state": {
       "description": "Processing: ",
       "layout": "IPY_MODEL_f2777671b15a4179afaad2fb04600588",
       "max": 4,
       "style": "IPY_MODEL_763b2b6222254283aec2c402b175a1f7",
       "value": 4
      }
     },
     "c8ce0f4050974518b5f7d0f6d5021008": {
      "model_module": "@jupyter-widgets/base",
      "model_module_version": "1.2.0",
      "model_name": "LayoutModel",
      "state": {}
     },
     "cc72472359ef4588a4d0bdcb8db40ff5": {
      "model_module": "@jupyter-widgets/controls",
      "model_module_version": "1.5.0",
      "model_name": "IntProgressModel",
      "state": {
       "description": "Processing: ",
       "layout": "IPY_MODEL_f32f66d715d749a09f5f3fc9a65bf928",
       "max": 4,
       "style": "IPY_MODEL_657c87b5937e4d2ba254e10634116b1e",
       "value": 4
      }
     },
     "cd3aba360f5a4489b7a1f1729518bd2e": {
      "model_module": "@jupyter-widgets/controls",
      "model_module_version": "1.5.0",
      "model_name": "IntProgressModel",
      "state": {
       "description": "Processing: ",
       "layout": "IPY_MODEL_f4dc12c43b724d9fac42bc958069fef4",
       "max": 4,
       "style": "IPY_MODEL_6da94825198440aeaf5a650ab88183fa",
       "value": 4
      }
     },
     "cffa1315b1c648528d371f450711ef55": {
      "model_module": "@jupyter-widgets/controls",
      "model_module_version": "1.5.0",
      "model_name": "ProgressStyleModel",
      "state": {
       "description_width": ""
      }
     },
     "d012ad42297d4034b34f104d03cc4e04": {
      "model_module": "@jupyter-widgets/controls",
      "model_module_version": "1.5.0",
      "model_name": "ProgressStyleModel",
      "state": {
       "description_width": ""
      }
     },
     "d162031a6cc54ad8aee824360f8d4cff": {
      "model_module": "@jupyter-widgets/controls",
      "model_module_version": "1.5.0",
      "model_name": "ProgressStyleModel",
      "state": {
       "description_width": ""
      }
     },
     "d44bfce58017496898d0ffb9d88828d5": {
      "model_module": "@jupyter-widgets/controls",
      "model_module_version": "1.5.0",
      "model_name": "IntProgressModel",
      "state": {
       "description": "Processing: ",
       "layout": "IPY_MODEL_e13fdafd23ad49708e7e56c42b1ee0b3",
       "max": 6,
       "style": "IPY_MODEL_814190d4e108432ba52a1b9ce9b5198e",
       "value": 6
      }
     },
     "d47803fe691f4780963c45ec9b227cc8": {
      "model_module": "@jupyter-widgets/controls",
      "model_module_version": "1.5.0",
      "model_name": "IntProgressModel",
      "state": {
       "description": "Processing: ",
       "layout": "IPY_MODEL_e35ffc35d19448f29174987d2e410969",
       "max": 4,
       "style": "IPY_MODEL_69b052c97396492eb4f353347760d646",
       "value": 4
      }
     },
     "d66a43b0d8654f4e9af76801fe58652a": {
      "model_module": "@jupyter-widgets/controls",
      "model_module_version": "1.5.0",
      "model_name": "ProgressStyleModel",
      "state": {
       "description_width": ""
      }
     },
     "d845dee6fb9c42b4b99c59deedcd488d": {
      "model_module": "@jupyter-widgets/controls",
      "model_module_version": "1.5.0",
      "model_name": "IntProgressModel",
      "state": {
       "description": "Processing: ",
       "layout": "IPY_MODEL_1fff3df55ca3496aba2bc89dab258aaa",
       "max": 4,
       "style": "IPY_MODEL_cffa1315b1c648528d371f450711ef55",
       "value": 4
      }
     },
     "da08a61de82442f897de09b6a6e73b9e": {
      "model_module": "@jupyter-widgets/base",
      "model_module_version": "1.2.0",
      "model_name": "LayoutModel",
      "state": {}
     },
     "dae7d184652e4b9fbb929bf91949c172": {
      "model_module": "@jupyter-widgets/controls",
      "model_module_version": "1.5.0",
      "model_name": "ProgressStyleModel",
      "state": {
       "description_width": ""
      }
     },
     "dfadccbad29c4a3a8ffa7837e262f9b1": {
      "model_module": "@jupyter-widgets/controls",
      "model_module_version": "1.5.0",
      "model_name": "IntProgressModel",
      "state": {
       "description": "Processing: ",
       "layout": "IPY_MODEL_a54e5dbed640426fbdf4e68868f517c0",
       "max": 7,
       "style": "IPY_MODEL_afad717c86dd4d2bb97944d7e38053e3",
       "value": 7
      }
     },
     "e13fdafd23ad49708e7e56c42b1ee0b3": {
      "model_module": "@jupyter-widgets/base",
      "model_module_version": "1.2.0",
      "model_name": "LayoutModel",
      "state": {}
     },
     "e287de1f47804c7fb6d944ce7f03b7fa": {
      "model_module": "@jupyter-widgets/controls",
      "model_module_version": "1.5.0",
      "model_name": "ProgressStyleModel",
      "state": {
       "description_width": ""
      }
     },
     "e35ffc35d19448f29174987d2e410969": {
      "model_module": "@jupyter-widgets/base",
      "model_module_version": "1.2.0",
      "model_name": "LayoutModel",
      "state": {}
     },
     "e42a10665dd649378b08a2d4839a7f30": {
      "model_module": "@jupyter-widgets/controls",
      "model_module_version": "1.5.0",
      "model_name": "IntProgressModel",
      "state": {
       "description": "Processing: ",
       "layout": "IPY_MODEL_c8ce0f4050974518b5f7d0f6d5021008",
       "max": 4,
       "style": "IPY_MODEL_9ef55e0e71664a42960d5fb3316f4ee4",
       "value": 4
      }
     },
     "e49ac991d88f42e1a5b7eae4978b4750": {
      "model_module": "@jupyter-widgets/base",
      "model_module_version": "1.2.0",
      "model_name": "LayoutModel",
      "state": {}
     },
     "e4cc27c669604db5864a4a750d1d099b": {
      "model_module": "@jupyter-widgets/controls",
      "model_module_version": "1.5.0",
      "model_name": "ProgressStyleModel",
      "state": {
       "description_width": ""
      }
     },
     "e5d0255e81734e7f8b319e8e9b07cc35": {
      "model_module": "@jupyter-widgets/controls",
      "model_module_version": "1.5.0",
      "model_name": "IntProgressModel",
      "state": {
       "description": "Processing: ",
       "layout": "IPY_MODEL_84aaded25625475e8f493474fb4bdb74",
       "max": 6,
       "style": "IPY_MODEL_0794441bd0a147b08116f9ce0cde6ebe",
       "value": 4
      }
     },
     "e79a72839c2046bbabc0485c37d5582c": {
      "model_module": "@jupyter-widgets/controls",
      "model_module_version": "1.5.0",
      "model_name": "ProgressStyleModel",
      "state": {
       "description_width": ""
      }
     },
     "e91274d10ca5454b9aed5374101f83d2": {
      "model_module": "@jupyter-widgets/base",
      "model_module_version": "1.2.0",
      "model_name": "LayoutModel",
      "state": {}
     },
     "e925d4864f6643d085754d943d8f124c": {
      "model_module": "@jupyter-widgets/base",
      "model_module_version": "1.2.0",
      "model_name": "LayoutModel",
      "state": {}
     },
     "ea906b5ce6204234925d9ddb36475739": {
      "model_module": "@jupyter-widgets/controls",
      "model_module_version": "1.5.0",
      "model_name": "IntProgressModel",
      "state": {
       "description": "Processing: ",
       "layout": "IPY_MODEL_2ca5906935564651936b6c508ee7a6f3",
       "max": 7,
       "style": "IPY_MODEL_7fe31e1c2ec94aa59e3f7ade94e0c79a",
       "value": 2
      }
     },
     "f2777671b15a4179afaad2fb04600588": {
      "model_module": "@jupyter-widgets/base",
      "model_module_version": "1.2.0",
      "model_name": "LayoutModel",
      "state": {}
     },
     "f32f66d715d749a09f5f3fc9a65bf928": {
      "model_module": "@jupyter-widgets/base",
      "model_module_version": "1.2.0",
      "model_name": "LayoutModel",
      "state": {}
     },
     "f426a7c3e4704aa78c09634bcfcadab6": {
      "model_module": "@jupyter-widgets/base",
      "model_module_version": "1.2.0",
      "model_name": "LayoutModel",
      "state": {}
     },
     "f4dc12c43b724d9fac42bc958069fef4": {
      "model_module": "@jupyter-widgets/base",
      "model_module_version": "1.2.0",
      "model_name": "LayoutModel",
      "state": {}
     },
     "f98ac992bc7048d1afd9b0abd4295d2b": {
      "model_module": "@jupyter-widgets/controls",
      "model_module_version": "1.5.0",
      "model_name": "ProgressStyleModel",
      "state": {
       "description_width": ""
      }
     },
     "fb9b83f2256c448d892d335b1cc883e0": {
      "model_module": "@jupyter-widgets/controls",
      "model_module_version": "1.5.0",
      "model_name": "ProgressStyleModel",
      "state": {
       "description_width": ""
      }
     }
    },
    "version_major": 2,
    "version_minor": 0
   }
  }
 },
 "nbformat": 4,
 "nbformat_minor": 5
}
